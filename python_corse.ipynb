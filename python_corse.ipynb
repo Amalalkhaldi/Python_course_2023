{
  "nbformat": 4,
  "nbformat_minor": 0,
  "metadata": {
    "colab": {
      "provenance": [],
      "authorship_tag": "ABX9TyO+/DWO6lZXpzJCk+g877ru",
      "include_colab_link": true
    },
    "kernelspec": {
      "name": "python3",
      "display_name": "Python 3"
    },
    "language_info": {
      "name": "python"
    }
  },
  "cells": [
    {
      "cell_type": "markdown",
      "metadata": {
        "id": "view-in-github",
        "colab_type": "text"
      },
      "source": [
        "<a href=\"https://colab.research.google.com/github/Amalalkhaldi/Python_course_2023/blob/main/python_corse.ipynb\" target=\"_parent\"><img src=\"https://colab.research.google.com/assets/colab-badge.svg\" alt=\"Open In Colab\"/></a>"
      ]
    },
    {
      "cell_type": "markdown",
      "source": [
        "# **PYTHON**"
      ],
      "metadata": {
        "id": "Hf7dEHjf3CrI"
      }
    },
    {
      "cell_type": "markdown",
      "source": [
        "Print funcion"
      ],
      "metadata": {
        "id": "YKVQiqQl2umX"
      }
    },
    {
      "cell_type": "code",
      "execution_count": null,
      "metadata": {
        "colab": {
          "base_uri": "https://localhost:8080/"
        },
        "id": "yzLkJaYZrNko",
        "outputId": "093868a1-8cc1-4373-cc50-39cf8eee1fc0"
      },
      "outputs": [
        {
          "output_type": "stream",
          "name": "stdout",
          "text": [
            "Hello, World!\n"
          ]
        }
      ],
      "source": [
        "#print order.\n",
        "print(\"Hello, World!\")"
      ]
    },
    {
      "cell_type": "code",
      "source": [
        "#print(\"Hello, World!\")"
      ],
      "metadata": {
        "id": "GB1tpu6lsHjs"
      },
      "execution_count": null,
      "outputs": []
    },
    {
      "cell_type": "markdown",
      "source": [
        "**Variables**"
      ],
      "metadata": {
        "id": "CIYndISFsdBa"
      }
    },
    {
      "cell_type": "markdown",
      "source": [
        "1-Creating Variables"
      ],
      "metadata": {
        "id": "CKqsxj3atBJZ"
      }
    },
    {
      "cell_type": "code",
      "source": [
        "x = 5\n",
        "y = \"John\"\n",
        "print(x)\n",
        "print(y)"
      ],
      "metadata": {
        "colab": {
          "base_uri": "https://localhost:8080/"
        },
        "id": "Zea9jNB8tOOb",
        "outputId": "e6a398c0-b041-4d96-85bc-c215a2bf44f2"
      },
      "execution_count": null,
      "outputs": [
        {
          "output_type": "stream",
          "name": "stdout",
          "text": [
            "5\n",
            "John\n"
          ]
        }
      ]
    },
    {
      "cell_type": "code",
      "source": [
        "x = 4       # x is of type int\n",
        "x = \"Sally\" # x is now of type str\n",
        "print(x)"
      ],
      "metadata": {
        "id": "RwNwHGPRtPU0"
      },
      "execution_count": null,
      "outputs": []
    },
    {
      "cell_type": "markdown",
      "source": [
        "**Variable Names**"
      ],
      "metadata": {
        "id": "Md6Vjk1AuMvs"
      }
    },
    {
      "cell_type": "markdown",
      "source": [
        "A variable can have a short name (like x and y) or a more descriptive name (age, carname, total_volume). Rules for Python variables:\n"
      ],
      "metadata": {
        "id": "sYCXaeVDuTDy"
      }
    },
    {
      "cell_type": "markdown",
      "source": [
        "\n",
        "\n",
        "*   A variable name must start with a letter or the underscore character\n",
        "\n",
        "*   A variable name cannot start with a number\n",
        "\n",
        "*   A variable name can only contain alpha-numeric characters and underscores (A-z, 0-9, and _ )\n",
        "\n",
        "\n",
        "*   Variable names are case-sensitive (age, Age and AGE are three different variables)\n",
        "\n",
        "*   A variable name cannot be any of the Python keywords.\n",
        "Example\n",
        "\n",
        "\n",
        "\n",
        "\n",
        "\n"
      ],
      "metadata": {
        "id": "WanNgRAiuiuE"
      }
    },
    {
      "cell_type": "code",
      "source": [
        "myvar = \"John\"\n",
        "my_var = \"John\"\n",
        "_my_var = \"John\"\n",
        "myVar = \"John\"\n",
        "MYVAR = \"John\"\n",
        "myvar2 = \"John\""
      ],
      "metadata": {
        "id": "X8-EHOWNt49f"
      },
      "execution_count": null,
      "outputs": []
    },
    {
      "cell_type": "markdown",
      "source": [
        "Many Values to Multiple Variables\n"
      ],
      "metadata": {
        "id": "OBKuC98CvTvC"
      }
    },
    {
      "cell_type": "code",
      "source": [
        "x, y, z = \"Orange\", \"Banana\", \"Cherry\"\n",
        "print(x)\n",
        "print(y)\n",
        "print(z)\n"
      ],
      "metadata": {
        "colab": {
          "base_uri": "https://localhost:8080/"
        },
        "id": "W-YIBNbVvVSs",
        "outputId": "196cf400-5217-405c-d0bc-e088b6fb5bb3"
      },
      "execution_count": null,
      "outputs": [
        {
          "output_type": "stream",
          "name": "stdout",
          "text": [
            "Orange\n",
            "Banana\n",
            "Cherry\n"
          ]
        }
      ]
    },
    {
      "cell_type": "markdown",
      "source": [
        "One Value to Multiple Variables"
      ],
      "metadata": {
        "id": "6XWZ1Vb1v7pC"
      }
    },
    {
      "cell_type": "code",
      "source": [
        "x = y = z = \"Orange\"\n",
        "print(x)\n",
        "print(y)\n",
        "print(z)"
      ],
      "metadata": {
        "colab": {
          "base_uri": "https://localhost:8080/"
        },
        "id": "tf5V9wBDvY3N",
        "outputId": "6a082785-a395-416a-a724-2b0cb8337186"
      },
      "execution_count": null,
      "outputs": [
        {
          "output_type": "stream",
          "name": "stdout",
          "text": [
            "Orange\n",
            "Orange\n",
            "Orange\n"
          ]
        }
      ]
    },
    {
      "cell_type": "markdown",
      "source": [
        "Output Variables"
      ],
      "metadata": {
        "id": "bNPcfq0JwC_3"
      }
    },
    {
      "cell_type": "code",
      "source": [
        "x = \"Python is awesome\"\n",
        "print(x)"
      ],
      "metadata": {
        "colab": {
          "base_uri": "https://localhost:8080/"
        },
        "id": "B7RyFJbIwWuk",
        "outputId": "44e43cb6-0e8b-4e22-c535-0d82db43c015"
      },
      "execution_count": null,
      "outputs": [
        {
          "output_type": "stream",
          "name": "stdout",
          "text": [
            "Python is awesome\n"
          ]
        }
      ]
    },
    {
      "cell_type": "code",
      "source": [
        "x = \"Python\"\n",
        "y = \"is\"\n",
        "z = \"awesome\"\n",
        "print(x, y, z)"
      ],
      "metadata": {
        "colab": {
          "base_uri": "https://localhost:8080/"
        },
        "id": "2eZ3Om-TwZxO",
        "outputId": "fd287121-a259-42c6-8262-f7dd30da2e10"
      },
      "execution_count": null,
      "outputs": [
        {
          "output_type": "stream",
          "name": "stdout",
          "text": [
            "Python is awesome\n"
          ]
        }
      ]
    },
    {
      "cell_type": "code",
      "source": [
        "x = \"Python \"\n",
        "y = \"is \"\n",
        "z = \"awesome\"\n",
        "print(x + y + z)"
      ],
      "metadata": {
        "colab": {
          "base_uri": "https://localhost:8080/"
        },
        "id": "DhHTxrzPwfzp",
        "outputId": "28c3c28d-3d07-4c23-bfbb-79eeb52921d1"
      },
      "execution_count": null,
      "outputs": [
        {
          "output_type": "stream",
          "name": "stdout",
          "text": [
            "Python is awesome\n"
          ]
        }
      ]
    },
    {
      "cell_type": "code",
      "source": [
        "x = 5\n",
        "y = 10\n",
        "print(x + y)"
      ],
      "metadata": {
        "colab": {
          "base_uri": "https://localhost:8080/"
        },
        "id": "iG8pY0jRwe4S",
        "outputId": "f0276068-45c6-420d-cdbb-43c4ec6db410"
      },
      "execution_count": null,
      "outputs": [
        {
          "output_type": "stream",
          "name": "stdout",
          "text": [
            "15\n"
          ]
        }
      ]
    },
    {
      "cell_type": "code",
      "source": [
        "x = 5\n",
        "y = \"John\"\n",
        "print(x, y)"
      ],
      "metadata": {
        "colab": {
          "base_uri": "https://localhost:8080/"
        },
        "id": "lvWL5IyHwvzU",
        "outputId": "5fdd1d6a-3fbd-4d02-86b1-5f3abd71357e"
      },
      "execution_count": null,
      "outputs": [
        {
          "output_type": "stream",
          "name": "stdout",
          "text": [
            "5 John\n"
          ]
        }
      ]
    },
    {
      "cell_type": "code",
      "source": [
        "#Error\n",
        "x = 5\n",
        "y = \"John\"\n",
        "print(x + y)"
      ],
      "metadata": {
        "colab": {
          "base_uri": "https://localhost:8080/",
          "height": 211
        },
        "id": "chlB3t81woy1",
        "outputId": "98ce42a7-4fe7-4222-f947-cf7866275cee"
      },
      "execution_count": null,
      "outputs": [
        {
          "output_type": "error",
          "ename": "TypeError",
          "evalue": "ignored",
          "traceback": [
            "\u001b[0;31m---------------------------------------------------------------------------\u001b[0m",
            "\u001b[0;31mTypeError\u001b[0m                                 Traceback (most recent call last)",
            "\u001b[0;32m<ipython-input-11-00c66e4310ff>\u001b[0m in \u001b[0;36m<cell line: 3>\u001b[0;34m()\u001b[0m\n\u001b[1;32m      1\u001b[0m \u001b[0mx\u001b[0m \u001b[0;34m=\u001b[0m \u001b[0;36m5\u001b[0m\u001b[0;34m\u001b[0m\u001b[0;34m\u001b[0m\u001b[0m\n\u001b[1;32m      2\u001b[0m \u001b[0my\u001b[0m \u001b[0;34m=\u001b[0m \u001b[0;34m\"John\"\u001b[0m\u001b[0;34m\u001b[0m\u001b[0;34m\u001b[0m\u001b[0m\n\u001b[0;32m----> 3\u001b[0;31m \u001b[0mprint\u001b[0m\u001b[0;34m(\u001b[0m\u001b[0mx\u001b[0m \u001b[0;34m+\u001b[0m \u001b[0my\u001b[0m\u001b[0;34m)\u001b[0m\u001b[0;34m\u001b[0m\u001b[0;34m\u001b[0m\u001b[0m\n\u001b[0m",
            "\u001b[0;31mTypeError\u001b[0m: unsupported operand type(s) for +: 'int' and 'str'"
          ]
        }
      ]
    },
    {
      "cell_type": "markdown",
      "source": [
        "**Data type**\n"
      ],
      "metadata": {
        "id": "QzjE9M9GwCxi"
      }
    },
    {
      "cell_type": "code",
      "source": [
        "x = str(\"Hello World\")#str\n",
        "x = int(20)\t#int\n",
        "x = float(20.5)\t#float\n",
        "x = list((\"apple\", \"banana\", \"cherry\"))\t#list\n",
        "x = tuple((\"apple\", \"banana\", \"cherry\"))\t#tuple\n",
        "x = range(6) #range\n",
        "x = dict(name=\"John\", age=36)\t#dict\n",
        "x = set((\"apple\", \"banana\", \"cherry\"))#set\n",
        "x = bool(5)\t#bool\n"
      ],
      "metadata": {
        "id": "S9vVbhS8xCvo"
      },
      "execution_count": null,
      "outputs": []
    },
    {
      "cell_type": "markdown",
      "source": [
        "**Python Numbers**\n",
        "There are three numeric types in Python:\n",
        "\n",
        "\n",
        "*   int\n",
        "*   float\n"
      ],
      "metadata": {
        "id": "juT6fSdX35V-"
      }
    },
    {
      "cell_type": "code",
      "source": [
        "x = 1    # int\n",
        "y = 2.8  # float"
      ],
      "metadata": {
        "id": "tr2QCEQh4Dru"
      },
      "execution_count": null,
      "outputs": []
    },
    {
      "cell_type": "code",
      "source": [
        "print(type(x))\n",
        "print(type(y))"
      ],
      "metadata": {
        "colab": {
          "base_uri": "https://localhost:8080/"
        },
        "id": "KqxDuax14LgL",
        "outputId": "88b94c3e-d768-42db-d885-43766de92d59"
      },
      "execution_count": null,
      "outputs": [
        {
          "output_type": "stream",
          "name": "stdout",
          "text": [
            "<class 'int'>\n",
            "<class 'float'>\n"
          ]
        }
      ]
    },
    {
      "cell_type": "code",
      "source": [
        "x = 1\n",
        "y = 35656222554887711\n",
        "z = -3255522\n",
        "\n",
        "print(type(x))\n",
        "print(type(y))\n",
        "print(type(z))"
      ],
      "metadata": {
        "colab": {
          "base_uri": "https://localhost:8080/"
        },
        "id": "DklQ1Zeq4N2B",
        "outputId": "c229faee-c900-4d7f-a658-636b27a31976"
      },
      "execution_count": null,
      "outputs": [
        {
          "output_type": "stream",
          "name": "stdout",
          "text": [
            "<class 'int'>\n",
            "<class 'int'>\n",
            "<class 'int'>\n"
          ]
        }
      ]
    },
    {
      "cell_type": "code",
      "source": [
        "x = 1.10\n",
        "y = 1.0\n",
        "z = -35.59\n",
        "\n",
        "print(type(x))\n",
        "print(type(y))\n",
        "print(type(z))"
      ],
      "metadata": {
        "colab": {
          "base_uri": "https://localhost:8080/"
        },
        "id": "ssonpSOX4Uc_",
        "outputId": "c60a0a59-d0ab-4fec-bbf9-737e01858671"
      },
      "execution_count": null,
      "outputs": [
        {
          "output_type": "stream",
          "name": "stdout",
          "text": [
            "<class 'float'>\n",
            "<class 'float'>\n",
            "<class 'float'>\n"
          ]
        }
      ]
    },
    {
      "cell_type": "markdown",
      "source": [
        "**Type Conversion**\n",
        "\n",
        "You can convert from one type to another with the int(), float()"
      ],
      "metadata": {
        "id": "jbvrEh5L4dJW"
      }
    },
    {
      "cell_type": "code",
      "source": [
        "x = 1    # int\n",
        "y = 2.8  # float"
      ],
      "metadata": {
        "id": "IxcYlMqe4c2Y"
      },
      "execution_count": null,
      "outputs": []
    },
    {
      "cell_type": "code",
      "source": [
        "#convert from int to float:\n",
        "a = float(x)\n",
        "\n",
        "#convert from float to int:\n",
        "b = int(y)"
      ],
      "metadata": {
        "id": "60yJJi_j4Xdp"
      },
      "execution_count": null,
      "outputs": []
    },
    {
      "cell_type": "code",
      "source": [
        "print(a)\n",
        "print(b)"
      ],
      "metadata": {
        "colab": {
          "base_uri": "https://localhost:8080/"
        },
        "id": "T1g0wOvZ48Uv",
        "outputId": "7e513352-a6b3-4e97-9b60-c5bed682ff75"
      },
      "execution_count": null,
      "outputs": [
        {
          "output_type": "stream",
          "name": "stdout",
          "text": [
            "1.0\n",
            "2\n"
          ]
        }
      ]
    },
    {
      "cell_type": "code",
      "source": [
        "print(type(a))\n",
        "print(type(b))"
      ],
      "metadata": {
        "colab": {
          "base_uri": "https://localhost:8080/"
        },
        "id": "c-sYtZGJ4-86",
        "outputId": "56d77e8c-e801-4acb-cada-eb054deca39c"
      },
      "execution_count": null,
      "outputs": [
        {
          "output_type": "stream",
          "name": "stdout",
          "text": [
            "<class 'float'>\n",
            "<class 'int'>\n"
          ]
        }
      ]
    },
    {
      "cell_type": "markdown",
      "source": [
        "Specify a Variable Type"
      ],
      "metadata": {
        "id": "pMEPfq465uUh"
      }
    },
    {
      "cell_type": "markdown",
      "source": [
        "**Casting**\n"
      ],
      "metadata": {
        "id": "vdttdWlytbYB"
      }
    },
    {
      "cell_type": "markdown",
      "source": [
        "If you want to specify the data type of a variable, this can be done with casting."
      ],
      "metadata": {
        "id": "W0r2lNZ3tlzF"
      }
    },
    {
      "cell_type": "code",
      "source": [
        "x = str(3)    # x will be '3'\n",
        "y = int(3)    # y will be 3\n",
        "z = float(3)  # z will be 3.0"
      ],
      "metadata": {
        "id": "8HrQua6htZza"
      },
      "execution_count": null,
      "outputs": []
    },
    {
      "cell_type": "code",
      "source": [
        "\n",
        "x = int(1)   # x will be 1\n",
        "y = int(2.8) # y will be 2\n",
        "z = int(\"3\") # z will be 3\n",
        "x = float(1)     # x will be 1.0\n",
        "y = float(2.8)   # y will be 2.8\n",
        "z = float(\"3\")   # z will be 3.0\n",
        "w = float(\"4.2\") # w will be 4.2\n",
        "x = str(\"s1\") # x will be 's1'\n",
        "y = str(2)    # y will be '2'\n",
        "z = str(3.0)  # z will be '3.0'"
      ],
      "metadata": {
        "id": "3Wh2ynLn5Bzu"
      },
      "execution_count": null,
      "outputs": []
    },
    {
      "cell_type": "markdown",
      "source": [
        "**Strings**"
      ],
      "metadata": {
        "id": "5uNH4JUf6MA0"
      }
    },
    {
      "cell_type": "code",
      "source": [
        "print(\"Hello\")\n",
        "print('Hello')"
      ],
      "metadata": {
        "id": "wWgIaqDj6NzO"
      },
      "execution_count": null,
      "outputs": []
    },
    {
      "cell_type": "markdown",
      "source": [
        "Assign String to a Variable"
      ],
      "metadata": {
        "id": "u9m8b5SA6a5A"
      }
    },
    {
      "cell_type": "code",
      "source": [
        "a = \"Hello\"\n",
        "print(a)"
      ],
      "metadata": {
        "colab": {
          "base_uri": "https://localhost:8080/"
        },
        "id": "GEncVQYT6Xqs",
        "outputId": "41d28d95-3dd6-4e22-f8a8-fd45d3a8147f"
      },
      "execution_count": null,
      "outputs": [
        {
          "output_type": "stream",
          "name": "stdout",
          "text": [
            "Hello\n"
          ]
        }
      ]
    },
    {
      "cell_type": "markdown",
      "source": [
        "Multiline Strings"
      ],
      "metadata": {
        "id": "so1Hejml6gde"
      }
    },
    {
      "cell_type": "code",
      "source": [
        "a = \"\"\"Lorem ipsum dolor sit amet,\n",
        "consectetur adipiscing elit,\n",
        "sed do eiusmod tempor incididunt\n",
        "ut labore et dolore magna aliqua.\"\"\"\n",
        "print(a)"
      ],
      "metadata": {
        "colab": {
          "base_uri": "https://localhost:8080/"
        },
        "id": "vlEt4oVc6YPe",
        "outputId": "f415ee2c-c58b-4d3c-d5cb-3a7bb9037d2c"
      },
      "execution_count": null,
      "outputs": [
        {
          "output_type": "stream",
          "name": "stdout",
          "text": [
            "Lorem ipsum dolor sit amet,\n",
            "consectetur adipiscing elit,\n",
            "sed do eiusmod tempor incididunt\n",
            "ut labore et dolore magna aliqua.\n"
          ]
        }
      ]
    },
    {
      "cell_type": "code",
      "source": [
        "a = '''Lorem ipsum dolor sit amet,\n",
        "consectetur adipiscing elit,\n",
        "sed do eiusmod tempor incididunt\n",
        "ut labore et dolore magna aliqua.'''\n",
        "print(a)"
      ],
      "metadata": {
        "colab": {
          "base_uri": "https://localhost:8080/"
        },
        "id": "MIvXvWgn6mDJ",
        "outputId": "68cc2b9d-2ae4-40c3-9f21-a3a1db8d417a"
      },
      "execution_count": null,
      "outputs": [
        {
          "output_type": "stream",
          "name": "stdout",
          "text": [
            "Lorem ipsum dolor sit amet,\n",
            "consectetur adipiscing elit,\n",
            "sed do eiusmod tempor incididunt\n",
            "ut labore et dolore magna aliqua.\n"
          ]
        }
      ]
    },
    {
      "cell_type": "code",
      "source": [
        "b = \"Hello, World!\"\n",
        "print(b[2:5])"
      ],
      "metadata": {
        "colab": {
          "base_uri": "https://localhost:8080/"
        },
        "id": "U3BCBkjN6oEG",
        "outputId": "5167102d-a142-448c-b9d4-99967502ed74"
      },
      "execution_count": null,
      "outputs": [
        {
          "output_type": "stream",
          "name": "stdout",
          "text": [
            "llo\n"
          ]
        }
      ]
    },
    {
      "cell_type": "code",
      "source": [
        "#Slice From the Start\n",
        "b = \"Hello, World!\"\n",
        "print(b[:5])"
      ],
      "metadata": {
        "id": "6gwyiX7m6umD"
      },
      "execution_count": null,
      "outputs": []
    },
    {
      "cell_type": "code",
      "source": [
        "#Slice To the End\n",
        "b = \"Hello, World!\"\n",
        "print(b[2:])"
      ],
      "metadata": {
        "colab": {
          "base_uri": "https://localhost:8080/"
        },
        "id": "mB9McMYf64AX",
        "outputId": "51808866-7b16-430c-9a19-ae876048f865"
      },
      "execution_count": null,
      "outputs": [
        {
          "output_type": "stream",
          "name": "stdout",
          "text": [
            "llo, World!\n"
          ]
        }
      ]
    },
    {
      "cell_type": "code",
      "source": [
        "#Negative Indexing\n",
        "b = \"Hello, World!\"\n",
        "print(b[-5:-2])"
      ],
      "metadata": {
        "colab": {
          "base_uri": "https://localhost:8080/"
        },
        "id": "3hmE_itY68Yx",
        "outputId": "5cf76183-3ccf-4dd3-c466-3a8fc7757c29"
      },
      "execution_count": null,
      "outputs": [
        {
          "output_type": "stream",
          "name": "stdout",
          "text": [
            "orl\n"
          ]
        }
      ]
    },
    {
      "cell_type": "markdown",
      "source": [
        "Modify Strings\n"
      ],
      "metadata": {
        "id": "5un6AvLf7yuX"
      }
    },
    {
      "cell_type": "code",
      "source": [
        "#The upper() method returns the string in upper case:\n",
        "a = \"Hello, World!\"\n",
        "print(a.upper())"
      ],
      "metadata": {
        "colab": {
          "base_uri": "https://localhost:8080/"
        },
        "id": "GQ_BS4087qX_",
        "outputId": "59a1c919-c6e1-4470-d9e5-eca1a70fbb42"
      },
      "execution_count": null,
      "outputs": [
        {
          "output_type": "stream",
          "name": "stdout",
          "text": [
            "HELLO, WORLD!\n"
          ]
        }
      ]
    },
    {
      "cell_type": "code",
      "source": [
        "#The lower() method returns the string in lower case:\n",
        "a = \"Hello, World!\"\n",
        "print(a.lower())"
      ],
      "metadata": {
        "colab": {
          "base_uri": "https://localhost:8080/"
        },
        "id": "7pvdHqpI74nW",
        "outputId": "a9edad83-416f-49a6-878a-d0d65e6f9f75"
      },
      "execution_count": null,
      "outputs": [
        {
          "output_type": "stream",
          "name": "stdout",
          "text": [
            "hello, world!\n"
          ]
        }
      ]
    },
    {
      "cell_type": "code",
      "source": [
        "#Remove Whitespace\n",
        "\n",
        "a = \" Hello, World! \"\n",
        "print(a.strip())"
      ],
      "metadata": {
        "colab": {
          "base_uri": "https://localhost:8080/"
        },
        "id": "U1EY3vye8JZJ",
        "outputId": "4f3bb50b-c41b-41ca-8928-13ca72c14d66"
      },
      "execution_count": null,
      "outputs": [
        {
          "output_type": "stream",
          "name": "stdout",
          "text": [
            "Hello, World!\n"
          ]
        }
      ]
    },
    {
      "cell_type": "code",
      "source": [
        "#Replace String\n",
        "a = \"Hello, World!\"\n",
        "print(a.replace(\"H\", \"J\"))"
      ],
      "metadata": {
        "colab": {
          "base_uri": "https://localhost:8080/"
        },
        "id": "UEbJcSrY8QQq",
        "outputId": "dc7cb56e-7a83-426f-eaec-fc3cbf06bea3"
      },
      "execution_count": null,
      "outputs": [
        {
          "output_type": "stream",
          "name": "stdout",
          "text": [
            "Jello, World!\n"
          ]
        }
      ]
    },
    {
      "cell_type": "code",
      "source": [
        "#Split String\n",
        "a = \"Hello, World!\"\n",
        "print(a.split(\",\"))"
      ],
      "metadata": {
        "colab": {
          "base_uri": "https://localhost:8080/"
        },
        "id": "mN6gU5Xi8bVP",
        "outputId": "b2187160-4440-4e0b-cefe-9656ddbe4355"
      },
      "execution_count": null,
      "outputs": [
        {
          "output_type": "stream",
          "name": "stdout",
          "text": [
            "['Hello', ' World!']\n"
          ]
        }
      ]
    },
    {
      "cell_type": "markdown",
      "source": [
        "**String Concatenation**"
      ],
      "metadata": {
        "id": "qCQiN78C88Pt"
      }
    },
    {
      "cell_type": "code",
      "source": [
        "a = \"Hello\"\n",
        "b = \"World\"\n",
        "c = a + b\n",
        "print(c)"
      ],
      "metadata": {
        "colab": {
          "base_uri": "https://localhost:8080/"
        },
        "id": "RYgkWVZW8rR6",
        "outputId": "d66552e3-d386-4946-9ae5-e4512edf192b"
      },
      "execution_count": null,
      "outputs": [
        {
          "output_type": "stream",
          "name": "stdout",
          "text": [
            "HelloWorld\n"
          ]
        }
      ]
    },
    {
      "cell_type": "code",
      "source": [
        "a = \"Hello\"\n",
        "b = \"World\"\n",
        "c = a + \" \" + b\n",
        "print(c)"
      ],
      "metadata": {
        "colab": {
          "base_uri": "https://localhost:8080/"
        },
        "id": "a2E8H_-a9EM1",
        "outputId": "372d1e32-6eb7-4b2c-a608-8c2c77acfb18"
      },
      "execution_count": null,
      "outputs": [
        {
          "output_type": "stream",
          "name": "stdout",
          "text": [
            "Hello World\n"
          ]
        }
      ]
    },
    {
      "cell_type": "markdown",
      "source": [
        "Format - Strings"
      ],
      "metadata": {
        "id": "tqCEzvyP9WIz"
      }
    },
    {
      "cell_type": "code",
      "source": [
        "age = 36\n",
        "txt = \"My name is John, I am \" + age\n",
        "print(txt)"
      ],
      "metadata": {
        "colab": {
          "base_uri": "https://localhost:8080/",
          "height": 211
        },
        "id": "SGMRa4yr9PC2",
        "outputId": "e1dbfafb-0734-46a6-e112-b910c1d20827"
      },
      "execution_count": null,
      "outputs": [
        {
          "output_type": "error",
          "ename": "TypeError",
          "evalue": "ignored",
          "traceback": [
            "\u001b[0;31m---------------------------------------------------------------------------\u001b[0m",
            "\u001b[0;31mTypeError\u001b[0m                                 Traceback (most recent call last)",
            "\u001b[0;32m<ipython-input-31-4d1b227cff41>\u001b[0m in \u001b[0;36m<cell line: 2>\u001b[0;34m()\u001b[0m\n\u001b[1;32m      1\u001b[0m \u001b[0mage\u001b[0m \u001b[0;34m=\u001b[0m \u001b[0;36m36\u001b[0m\u001b[0;34m\u001b[0m\u001b[0;34m\u001b[0m\u001b[0m\n\u001b[0;32m----> 2\u001b[0;31m \u001b[0mtxt\u001b[0m \u001b[0;34m=\u001b[0m \u001b[0;34m\"My name is John, I am \"\u001b[0m \u001b[0;34m+\u001b[0m \u001b[0mage\u001b[0m\u001b[0;34m\u001b[0m\u001b[0;34m\u001b[0m\u001b[0m\n\u001b[0m\u001b[1;32m      3\u001b[0m \u001b[0mprint\u001b[0m\u001b[0;34m(\u001b[0m\u001b[0mtxt\u001b[0m\u001b[0;34m)\u001b[0m\u001b[0;34m\u001b[0m\u001b[0;34m\u001b[0m\u001b[0m\n",
            "\u001b[0;31mTypeError\u001b[0m: can only concatenate str (not \"int\") to str"
          ]
        }
      ]
    },
    {
      "cell_type": "code",
      "source": [
        "print(txt,age)"
      ],
      "metadata": {
        "colab": {
          "base_uri": "https://localhost:8080/"
        },
        "id": "_Icg1PRU9jz6",
        "outputId": "201c2e1d-9a83-4231-8934-5f6ce15fc090"
      },
      "execution_count": null,
      "outputs": [
        {
          "output_type": "stream",
          "name": "stdout",
          "text": [
            "My name is John, I am  36\n"
          ]
        }
      ]
    },
    {
      "cell_type": "markdown",
      "source": [
        "# **Escape Characters**"
      ],
      "metadata": {
        "id": "dTEAQUW3_FZu"
      }
    },
    {
      "cell_type": "code",
      "source": [
        "txt = \"We are the so-called \\\"Vikings\\\" from the north.\"\n",
        "txt"
      ],
      "metadata": {
        "colab": {
          "base_uri": "https://localhost:8080/",
          "height": 35
        },
        "id": "zLeGKYb890TX",
        "outputId": "ce8724d0-fe3e-448c-d33a-47cd25c4adbe"
      },
      "execution_count": null,
      "outputs": [
        {
          "output_type": "execute_result",
          "data": {
            "text/plain": [
              "'We are the so-called \"Vikings\" from the north.'"
            ],
            "application/vnd.google.colaboratory.intrinsic+json": {
              "type": "string"
            }
          },
          "metadata": {},
          "execution_count": 32
        }
      ]
    },
    {
      "cell_type": "markdown",
      "source": [
        "![Screenshot 2023-08-22 094253.png](data:image/png;base64,iVBORw0KGgoAAAANSUhEUgAAA0wAAAIOCAYAAACLeo1kAAAAAXNSR0IArs4c6QAAAARnQU1BAACxjwv8YQUAAAAJcEhZcwAAFiUAABYlAUlSJPAAAF9MSURBVHhe7d0PcFTlof//D7+v3yGOfiXeX4ubVqlhxGsoKAjekgh12Ih3XMQZN43zI6kdY/BeJLSKof4BiiMm+I+gVqLcmpjO1V1mpFlm0KzzE7OOJSS0hIQWLrGAiRf8Nmv028Q/nYSpvzm/c3bPJptkT/6CWeT9mjn12bPnnD17QvfZzz7PeZ5JjY2Nxrx58wQAAAAA6O//sv8LAAAAABiAwAQAAAAADghMAAAAAOCAwAQAAAAADghMAAAAAOCAwAQAAAAADghMAAAAAOCAwAQAAAAADghMAAAAAOCAwAQAAAAADghMAAAAAOCAwAQAAAAADghMAAAAAOCAwAQAAAAADghMAAAAAOCAwAQAAAAADghMAAAAAOCAwAQAAAAADghMAAAAAOCAwAQAAAAADghMAAAAAOCAwAQAAAAADghMAAAAAOCAwDRWH/uVM2mSJsUvTzTYTwIAkDzCO3L611fmUrrffhIAMKSkC0w9HzfI/+JarbglWzPT4j7cZ2Qp+5YVWvtspQKHwuqxtwcAnOcS/YDlsKTNzlb2natVtqNB4a/t/QEAGELyBKZwSGV3TteFV2Qp/xdlqtwTUkvYfs5yokGhPZUqe2iFcuam6cIZS7V6Z5v9JAAAwwsfCSm0s1xr87KUlrFClR/w81svek4AQEJJEZi69mxQ9txsrR1NADoRVPkH8YkKAIBROFGpFYsL5f/IfgwAQAITHph6GkvluaVUIbIPAOCbFvar+DchunkDABxNcGBqVvnPNyhRg3967hbVtLSr+x+GDMNautXZ1qTqXxfK7bI3AgAgkVyf2iN1R1wd0lKt9Qvs5+OEqxrUYpcBABhoQgNT165yrR00So9Leb85qqNvFMtzjUspF9irlaLUK+fK+/MK1Z5qV+0zXqXbzwzyWYuCVYMHjrBu9s1ZVSb//hEOGtHVpuCLq5WTOb33GNMzc7T6xaBaPuu2Nxoh81ihHWVafafzOQEAzhazDrnGq5KXt2iuvaaX+fE7VJ3QdSIk/7NmXeCeqTT7s3vSpDTNdJv1wbN+NYzg47vrg6AqH1qh7H7HsAehuGetyneEzHplwFnsL+3dLrbk7EjwYuO99yi2/xX5Ctirem3M6n/cSTnyf2w/BwDni8bGRmNidBo198kwT6H/kusz2u0tRq/bOPpqoWEGqcHHHbC4FhcbvpZue7/BOt9Zb7hdifd1XDbV23vHG/k5pRf4jNZ/2LsBAEbmlM/wDvxMdapLEm2rEiPRp7fx5VGjoiB9wLaJlnSj0N9q7zTAp/XGltyRHCO6lDTY+1kaSgY97/UneFeJ3tOA+qjd7+3/vLn0vlbCa+K0eA3fKXs/ADhPTFwLU0+TQi/b5V4ulTyYZ/7vWPSo4Qm3Zt5TqZEMHRF+r0z5Djf79uw/U/dVje6c2qrylXVPwPqxEwBwFvQcrh/cirLENbje+apBpUtmakXViD69VZmXpfydAz69rWMsyxrdgEYAgKQzcYHps3CCEJGvzDl2cZR69pepaOOALggL1qvmVHe0//o/OtX0mwFhLOxX/vIyNdsPI3oaVHbfwPuqXPJsrlXrl3F94fdukdt+1knXm2vl7XdO0eO0d9vH6W5XzaOZ9nNR4deKtO09bj8GgDPqq7Badm3Q0nvK7RV9PMvdA7p4dyn4kFcb4ruMuzwqCbWr274nqvtUzYD7ocLy/2KbQnEf380vF/U/hjJV5G9SZ6wOsOqS9qOqmeh7cy/PU7V1Pqd88tqrem2qt881tlQr73L7OQA4T0xcYPq4bfCvfLpUF6bYxVExK7ffbOgffDRXW14ukedy+4AXpGruvZXy/XJArbR/i6rjAkrX25XacMh+YJv7q4CqHzUr1IvtFZH7qdKUaj9KrFmVG8v7tRa5fumLHMcVe48pVoAq15Z+ITGs0rfrGbEJAMZjZ36/e4Um/a80zfQm6DmwoEQlywfcEXvIrAde7vfpreL/rNb6xS7z0z8q5XIzQA28HypcquDe2Ke3GdAO9K+VpOvlWTZXqb31nFmXuDLkse7NPX5Uvp/3/wENAJAcJniUvDOkq16hKrscMydf7kGtVSnKWpJvl2PCqqyLVWpdqt9TaZdjPCr6WWZvJTliJ5oUHBC88pdkJTjOXGUts4sxe5oZsQkAzjLX4vWqfXO95g74YG47EBzwA1y+PIsS1AJzsswaor/Qkb5P75RBu5Rr6dylWr2xUoH3GtQS7lLP1/ZTF2co79f1CUfxAwBMrIkLTK70wU3/6lT3WJpWPmpRvV3sNSNNaXYxXsqM6we9bvhwm90S1KaWQQMLZWnmVXZxFLpamhWyyzFlt1zY92tn3JL1hL1BzKEeWpgA4CzybKpV8zslcn/HXtGrSy3Ngz69lX3h4M/uSZOyVGpvEdP8VezT2yX3HYV2OY416foTK5TjNuuWtEt14f+0RttbodJdLeYrAwCS0QQGJleCYcF9ahjQKjMiPT0Dfg0cQu8w5YmYQWXg6+emOw9fPoSer9rt0lgcVfvAbiMAgDOm6XhY3Qnrgx51fWYXx+J4e29X7NQ71qu6YLgaJKyW9yq1wTtTGe5SNXxlrwYAJI2JC0wpM3V9rl3uFda2/wyO/le2lJTB82o4iXV/SCjF+lGwP7PyG1P0uSBB940RM4PbkOcJABhS3MS13XvXD6ojwq/lK/+JhoSt+YO70o1CT/wR0+V9tUmtwW0qunX4n97C721Q0csj/vkPAPANmcB7mFzyLB/cXSH8cqGKXmkZukva12GFns3R9NjEfFdmKCta6uMUdD4+OmiwCdfsdDsnpSl9UaTQ51C7OsfQP8414/pBFXTxO/aIfcMujEIEAGdKysINKt80eECFho1FKqkb+AHvUvrcQZ/equ0d2W6Y5Y2BU2OkKv3WIm0Ltsro7lR7S71qgz5t+2WhMhN09272h/p6TCT4MTDQwhDlAPBNm9BBH1JvLVTJoIEZwvL/20zNvLNMwQ/CcS0tPer6qFmBF1draUaash8K9A1Lnpold4FdjjnkU2hQ974ehXYPHNTBpcKFsSrJpYzMgdWTL27Uo1GY41b+gPdW9krcOTsIv1eqpT/z93bpAACMV4oyf+WT766BXQiaVZo7eD6+uYvzBwSVMpUPN5eS9UPek0uVvyP26d2g0hkrVHkors9ESqpc12TKfWueip6pUP3xeq23n+oVjqtvvpM2uEv4K9v6HbPnowb5X/INvo/3TPmH/V8AOI9NaGBSSqaKXy5RooFU23aujQSjC/9n7ObaC3Vp+vXK+UW5gifsjXqlyvNvJQMquGatvW+Dgh/Zlc/XXWp+pVD5zw6IIgvWKmdxX/8Lq6IcMDOSyn5WGKmgYtWYVUFVbq0cpoKaq/x1A35p3JmvLPdaVe5vU1d8P3VrfpD3KrXWM11pbvOcx5DPAABDSVfepjLlDcxMkfn4Btw7NCdfGwaEq8DPspT9YKUaPoob2c7UE25RqCpaX2WvC/bvHXGiUivmXqrpntUq39Wstq64Z7/uUdt7ca1JNldBpjLssi5P1/UJztc6ZmzgiQvTs5T/ZPDM/Mhmvl7va8cMCGgAcF5qbGw0JlrrG4VGumSYpzO6ZVO9fQRLt1G/KTPxdk6LK8/wtdm79zKP86u5ibcfbul3PpZOo/bRUZ6TteT6jHb7CACAYZzyGd4Rfo52N5QYmQO3NRfXXT6j1d4m4tNaY/2CwdsNt3j9sVetN0oSPD/kMqhOsuq1M1Mftfu9g7YpabCf7NVp1PzcNWi7/ovX8J2yNweA88TEtjDZ0nMr1HTYp+LFA39Kc+aalaeShfGdFawuFyEdfbVwRKPauRYXq7rBp7wr7RW9zONsrE7QdSOeS+5cz6C+5YOlyr05qKP+4lHN4u66eDx3HAMAnKQsKFb55sH9GqxBIFa/Etft7jtulbx9VL417gH3JA3FpUt7P77Nwmg+9xPWSWZ9tKZcJUPMzWTt5wtuSzBNx1ikyvNgglY4ADjPJUVgsqSaAWhLqF2dLbXyPVMk75LM/sHHlSH3kkIV/9qn2pZOtZsBy5p1vb8UZRRUqPXTo6p5tViFS9zKiNskfYFb3vu2yNfQrrbQFnkHhSXbBenK+88WHQ2UqHBxRl+dd1Wm3AUl5v7Nqt2aP6JgZlVAGcu3qLatXU2BCq2/zyt3/DEt1nFzi7T+1Wo1tXWr/VXvaOpZAMCIpWjuo4nuZ5KC/5av0v1x3eZSM5S3tVZtp5pU/ep6FeW65Z7Vf79ovbJeFYEmtX7Zroo7Ys/P1fp28/O8uUa+X0fro/6DPLiUsditwl9WqLp5iDrp4kyt39uu2l+b9eKCWK1j7VuoksBRtZj75c2+1F5/BlyZJ19Lq2qs1xtQV7lmme8/93q5LrZXAMB5YpLVJW/evHn2QwAAAABATNK0MAEAAABAsiEwAQAAAIADAhMAAAAAOCAwAQAAAIADAhMAAAAAOCAwAQAAAIADAhMAAAAAOCAwAQAAAIADAhMAAAAAOCAwAQAAAIADAhMAAAAAOCAwAQAAAIADAhMAAAAAOCAwAQAAAIADAhMAAAAAOCAwAQAAAIADAhMAAAAAOCAwAQAAAIADAhMAAAAAOCAwAQAAAIADAhMAAAAAOCAwAQAAAIADAhMAAAAAOJj04YcfGnYZAAAAABBnUmNjo/H9K35gPwQAAAAAxNAlDwAAAAAcEJgAAAAAwAGBCQAAAAAcEJgAAAAAwAGBCQAAAAAcEJgAAAAAwAGBCQAAAAAcEJgAAAAAwAGBCQAAAAAcEJgAAAAAwAGBCQAAAAAcEJgAAAAAwAGBCQAAAAAcEJgAAAAAwAGBCQAAAAAcEJgAAAAAwAGBCQAAAAAcEJgAAAAAwAGBCQAAAAAcEJgAAAAAwAGBCQAAAAAcEJgAAAAAwMGEBaaTO5Yr7bLvKi3Pp5P2umEdek7XWftYy9YD9koAAM4PHbsKonXgZc+p0V4HADi7JiwwTbvpJ/JYhdpKBY9EVg1v6jTNt4sLp15mlwAAsP3tmGp3PKbiOz36UewHNmtZ4FHunQVa97RPwYPH9MVpe/t4B5/r254f5UbotDoOVmv7wwXK9czrf70feExVuw6oI9G1BoBzyMR1yfvezcpZbhUOq/r9w5FVo3HJRSl2CQCAz3WkokA/yrhRP33gJfnfP9C/90LbAdW9/5aqtj6gQs+N+udp87T9kP0cxuSLD6r1uPd6XedZqcd/+5bqDsZdcet673hJ61Z6dN18rx7fdcyMVknsr9UqtMPeCwftdQBgm8B7mKZooacwUjqy/U3VjeST9HvTNMMupvwPuwAAOM+dVuPW5Vqy/i0zJE3Vwn9/Xm82ntBHn3yqdnv56NgJ/aG2SmVFOZox1drnpE7/f5GdMQZfvL9Z+Tet1PZ9HdLURVr5fFB/OPZx7/Vub/0v/d7/lPJuNC92x15tX3mHfvrCgeQOTQDgYEIHfbjkpqW636q4OnyqaxzZx+iF9n+v/n6kxgMAnOdO7ytT4dNWF7qp8m57Wzs35Wv+FVM0Ofp0xOQpUzRt1m3K27hdv28+oT3bC3WJ/VyveWv6vvA/eIO9EoO0+bTqTvseqnnr9GZdQI8tv0HTpsRd8YumakZ2ocoCb+v1Fda17FDd5rv14G4zYAHAOWZCA5MmL9LNBZHEpBd279UX0bVDuEzfvckuAgBgOlz3nFmLWPJVkDstUhrSBVM0646nVDDPfoxR6FBg8wOqtYpTc1T+H2s0f0rkCQfTlF26XWXZVtncd3256v4eeQIAzhkTG5hM828p0iyrYPV//ltk1RBSlBL5YL5NV6RFVgAAzmsdOnnCLnr+WePre3BAL9j3sRTuGtwS0rjVHtDg3upoQPv8pGorHlFh72AH87TsgecU/ODzyPZD+aLtXVU9XKBlC+xjzr5Ruea+gYMdOr7DHgkv9jpjYB3fv+kB5d70Q/vcfqgfewu0ruJdnRz+9Jwd+Z1e3h0tZj+8Tt4rouWhTVNO8bpoXd/xkrbvHjA2bu9gGwUK/NVel8BIRwjs2OfT4w949ePZ1rbmErm2j8m/ryNBl0D7bz53pYL2mqc89n5xS8L7mr7uUOOul7Tu3rgBRiKDXUT/jgC+PSY8MGnWIuVEPkV9qn5/+A+YlPg+FgCA89xUTbvKLgb36siwP7ydCV06vOsx5S6cp5+ur1Swd7CDk2rcsVmFN7lVPDAU9DqtI/+xXIsWLNe6376lxjZ7dccx1Zn7FnnMYPPAW/bKsfhcdU97I8cvLvep7oNYvWoGsX1vqWr9cv3oXx+Q//jY7iY6eehdRQe2XSTPjSNozbNNnnezXddLtaEDYw6CQ/r7MfkfmKfrvA9o+469Ot771q1r+5KKvT/Uv9z1ko6cgRau08d9Kl74Qy1b+ZiqdscNMBIZ7ML6Oy5W7tMj6TkD4Fww8YFJs+VZcXOkFNy5p/+oRoNMlWeb1b+8St7v2asAAOe1q2fn2yWfHt3oO/uhafcj+unK30l39B9c4qPmgB65xWrjOin/+tcTDmZ0ctf9yt/4rhkYpip73Q79vqVvoISPDu/Tzu3r5Em3Nx616OAXuVv3qiM2EEOrfU/WJx/rL3U7oufXZn7Z924eQ9e4Dh3ZvzdaNI9/7ajO82rNinWp3/2XYer6sTipwMN3qHiHeWTz3O6v2qe/nLTf+8kT+r1/nbLNt97xzmPKf7g67vVv0P3WNs3bo1OdmB4Jxq5Z33J/fPfNU9V60AxlfjPsTrv9cb1eFzfASOtBvfl8oeab16puq1erXj/z7xTANy8JAlP8nEzVqov92gYAwAhc4nlQZZ5oZ7yOnQ9oScZ39SOPNedSpQK1e3Xk1OeJ510aq1mFKn+/ftDgEpO/Z35R3/igFloPOp5T8P0Bfd/MoLJuZbSbXfbTu/T6/Tdrxj/1dZuYPPVqLbxjje67014xSn2DX9ygR367IzoQw0XR58yj65IZN+v+7b/V/VZLT6KuccP6RCdb7OKCaaPs/jhZ06YvssvHdXKIrndj8cU7L+nxndaVjb73RzxX65LeP8wUzcheo9cDT8m6lapj50o9nqDL5ciYYfjhlQqYu0/N3a6dr6xS9oy4AUYumqb5y59S+bbbIg9rn04cnAGcW5IiMPXNybRXVcHRz8kEADifTVPetl0qW97XRezkQWvOpUdUlOfVkvlX6Z+nfVfX3bRc68qr1TjW78ox02/QwmscRjqYcW00MJkOtPUPJEeCldHBEmY9rkfuvjqy7sz5XLU7o4NfzNr4tO6f59B//aIblFcQDS617wyYq2pYPTo90onmE0i5aMjRIcbhpN76bWXkvavoUa10eu8zfqqVkaF5peCO4Xq0ODhi/ruK/BHz9eSmHPNfXmLTbr9HK62CGZzrmO8LOOclR2DqNyfTu0PezAkAwCAXXa285w/qL/sDKt9YKM+NVw9qAen44F1VbVqpZbPnqbDi8Fm6v+QHuuL2aOnI33uihYjDqgtEfxCcuvSG6AAIZ9Ln1r0z0WL2/NnRgoNpM+ZHC8GT0ZBxrvv8mI5EQoxUsODafsPJ9zdZN9z4k2jx/b06MoY3f2Tf76L3cHkWadY/RVYlNvkHmm338Tv+12/FVQbOa0kSmOLnZKrQu/tovwYAjN4l6YvkLXpKlYF9+pN1386x/9LvgztUXrpKefNi7QEnFVzv/mbvLzndpU/s1pn56T+IFs6kv32i43bxhdv7j/A2aLn9OXvLLvWMqrpN0eRxJL2ev49neL4hnDomqyOi5bL/e+hWrMlTUu0gXa3jpyKFUTitrk/sXjDBlX0j4yVc5qnIHnbvi37BGcC5KGkCU785mWr/yGzgAIBxmqxLpkzVjHk3y7vicZUFD+ovgXWy21dU+3T1N9ej4f90jK0L2Ej9rUN1dnHkTqrj/9jFEblM0zLs4v7Rtk6d1slWe8AIzdC0Mzlw0+nT9sh9IzB1Wu/ff/Q+V8eoQ5ZU1/GJXQJwrkqewGTqnZOpvFq138jQsACA88klN67RYw/bnfU6/nzGBx9wdMFkpdjFs2Ly5N5ufolGeUu8jHbE2amaNtvu7texV38e1SBNx3Tkfbt4+z873vszJnHvfVgdJ8cRkidrSqwb3u3b9aeE1zTB8uAN9k4AzlVJFZji52Sq3X+Wmu4BAOe1aen/Ype+QVMvU2yYh7PSRWvqtN7jf/J/zl79OevGn9jhZK+C+0beZnb64LuqtpuB8u64eZQj7A3jiqsViyTH/vfQ7V6nP++yW8ZyNGNEk+7Gm6LLvmefeesn3477vwCMSHIFprg5mfyvv3V2uy8AAL4FDmj7A9U6+bX9cFindeywPTHs1GvPbNewIf1AM3KjpbrGP5/5ASfM93KjNWa2qSp4FidMnfUT3WcPalH79GYFRtRF7aSqyzZHu81NXaM7sp3uM/pvdYyld8mUqzXLfu+B0B+HeO+ndWDf76LFmxZp1hhS24z5+dGwd+R3qhtxP0AA57okC0zStAW3ReZJUO1bzMkEABjW6R0r9aPbH5H/4PC/+Z8++JKeLo+W56++eRz3s4zWVC302BPs7vDpLaf67euTOhab62hUpum2uwujX+Z3PKxHdw3zk2PHXr2w+a0xtJJMlXfd89F6uqNaRf/+nBqHbNA6qdr1K1UcGcVuqlZuK9bCgcPYXTVbBZHCYdUddjjvz4/p3do/2g8GMt/7T2PX9iVVHUx8F3Tkb/9C9B17li/p3y3woim6zC7++aTzVZl84zLdF5nE9rAef8h870NO/vu5ju96xDwf+yGAc1bSBSal36a8yJxM76rqHeZkAgCMwMFKFXt+qOu8D2j7rr063vF53OBBp/XFqcMKlhfox57NkXtYpt74uJ68e+jht8+0S7IL9Ujky/a7Ki56RIEjfed4+vOTatz1nAoXzlPxbnvlKF1yy4N6MteKTB0KrLxVuRt9ajwVdx2+Pq2O42bd+vBy/Wi2V0+1jXF4pfR8vfTGmmjYPLhZyxZ69fiOAzr5edzx/t6h47Xm38R7q35aYY1hZwatsl165KYEg35PuUHZd0ebe2o3b5Y//rr87ZhqKx5Q7sIbVRyZmDYxa/Li8sh7P6Cn7l6ux3cd7pus+LQZXIKb9dO77b997nY9dkf09XpNuVbz7Zaz4MaNChx3ujZmuNtsDxxivffsAm2vPaaOuOAU+1sW3ZSlH6+sPHutfQC+MZMaGxuN719xFoY4HYcv3nlE/3xXZWRyvz21q878fBUAgG+Jz9VY8aSer6hU7Yh6JUzVwn/fpM0P52jGRfaqXgf0wmUePWWWPNv/S5UDvlQ3bv2ulj1tFqwb/l/JibbmDGKGlXt/qCIr9DwcHHzD/6lqFXlWKuDw3X/qLet0z9TNeup180GC1+nYVaDrVlpdCtfpzU/s0NLP56p7ukBFW/cO23o07ac79GbZ2O8n+uKDaj23bqO27xvmldJv02MvPK+VPxpiyO9Tb6k4t0D+hH/D6N9s5fS39NOHh3jvfz+sqgfu1rrdzq1rU295XL7t5veKQX97M+gcek4/+ddoqBrIGkjj/kjYjTp93Kd1dz3gcL5xpl6tx17bp5Vz7McAzknJ18Jk6p2T6Ui53mJOJgCAoymav+Ipvb7/Y/2lLhCdb+mmRZqfbj8dMU3zb7pNBRu3683mJu3clCgsfUOuyFF53T5VPpyvhdfEoop5frcXanPgv/TH19boxu/bqyc7T8HqbIoWPhzQH5uDCSbwta5DvlY+X6U9zR/rD+MIS5ZLrsnRY4Em/Sm4XY/dfVvc+4njeV5/qKsaOixZrrhNZf9v9Lr0/u3Sb5DnbutvWx/5m80e5hC6aLYKXqnXnwJmOFu+SDNip2OGloXLV6nMf1B7X0scliyT56zRm4cDeix+38g1W6RL/of90DZ5Rr7K6k7o9/7oa8X/e5t6zSLzvB9XeWCf/tJMWAK+DZKyhUk6rbrN1yv3hQ5Nvd/84F+3aIiZuwEA+LYw679Nlyu3XJq1KaQ9//7Ndhs8U4688EMt2dxBTxEA3wpJ2cJkzXWw8PbonEwdL9SojhHGAQDng7/tVXCnVZitnBvPzbBkmZaxLFo4Mtr5mgAg+SRpYDL1zslUqeA+EhMA4NzXsfsBFW3yKXjwmDriB0k4/blOHvRp3U+Xq6pDmnr3OuWdw80yvV3r9a6e3vic6k7RvR7AuStJu+RFndyxXD964N1hbrAFAODc0Ddog7Nptz+lyucLHe+1OVecPvicfmKPSjhIogExACBJJXVgAgDg2+R027vyv/Gu6g7+WUfeP9A7Qbs1UMD8BTdr6Z0/kXfet+jnwY69qip7VYH331Kj3TXPeq9X3/W4dq44d7scAji/EJgAAAAAwEHy3sMEAAAAABOMwAQAAAAADghMAAAAAOCAwAQAAAAADghMAAAAAOCAwAQAAAAADghMAAAAAOCAwAQAAAAADghMAAAAAOCAwAQAAAAADghMAAAAAOCAwAQAAAAADghMAAAAAOCAwAQAAAAADghMAAAAAOCAwAQAAAAADghMAAAAAOCAwAQAAAAADghMAAAAAOCAwAQAAAAADghMAAAAAOCAwAQAAAAADghMAAAAAOCAwAQAAAAADghMAAAAAOCAwAQAAAAADiZ9+OGHhl0GAAAAAMSZ1NjYaMybN89+CAAAAACIoUseAAAAADggMAEAAACAAwITAAAAADggMAEAAACAAwITAAAAADggMAEAAACAAwITAAAAADggMAEAAACAAwITAAAAADggMAEAAACAAwITAAAAADggMAEAAACAAwITAAAAADggMAEAAACAAwITAAAAADggMAEAAACAAwITAAAAADggMAEAAACAAwITAAAAADggMAEAAACAAwITAAAAADggMAEAAACAgwkLTG1VSzVp0iRN8lSqzV43lJ73NijN2j5tg0I99koAAM51H/uVY9Vv5lK63173DWh4Ivqak+70K2yvm2jJeE4AMGGBKX1JvrxW4e1yBQ5FVg0pZfFSrXaZhXCpAnu6oisBAFCDSu3A4bSkzc5W9j1rVfl2m6hBAACjMXFd8i73KL/AKjTLt6c5smpomfI8ODdSKt8VosIDAIxY+EhIoaoyrfBMV8btZWr+yn4CAIBhTOA9TKly31EUKTVvrR5RN7u5S/IViUxVlao+EVkFAECfTfUyDGPA0q3O9ib51rgV6ajw5lp5NodE724AwEhM6KAPqUu8Wh+pvSoVahhB1TXHq6JbrUJQgb0jufMJAIAUpbrmKm9rhUoidYhZ7VQ1qCVaBABgSBMamJTi1tJVkcSk0p0j6WaXrqV3Re58UvDXAY2kIx8AAFHpmplpF8OihQkAMCITG5hMmcvWRrvZvRxQ6LPIqiG5luSr0Coc8ik0gsEiAACI6lH3l3bRZbU7DdSjcJ1f5RtXK+eWbM1Mixs4Im2msu9crbIdDQp/bW8+lHCD/E+sUHbm9N5jTM/M1oqHKhX8YAx34X7VrLLb0+xzyZf/I3t9zNdhNewo1YpbsjQ9/pxvWaG1VQE1fzzKePhZiwJVZVp7T3a/99DvfZwY5n2ciXPqalPwRfPv0XsO05V1T6kCR7iTGcA3qLGx0ZhYTcaWOTLMUzG8/nZ73VA6jZr7otu7NtXb6wAA5696o8SsE6x6QUPVC1/WGsWu6HaZW5vslfHaDV+ufZyhlqsKjeo2e5dBuo2mX3uN9ET7xS2ugmrz1WynfIbXXl/SYK/rp9Xw3eWK7uvKM3wDX7vNZxRe1f/4gxeXUXLA3t5Wv8l+LtfXdy4xDSUD9k+0uAz35nrzHScw7nPaZtT4iw23/fcavKQbhW+02nsBwNk14S1M0lx5f+GJlAKv1YxgTqZUuXPXR2/cfamGOZkAAEP7ukfhQ36tvT1fZWHzq3ZBtXxroqOuDnKxR0XP+FTT3KrOL+MGjujuVHuzT0ULzG1OVCpnVaI5BHvU/KRb1/8iYD7nknuNT02fdvceo7utSdXPeGWGKYW/Gmnl1Sb/z7KU/5p54q48+Rp8yrvSfsrS06DSO/JVecJ8elmJalo6ZQaY6Gt+2a6joQoV3xp5RfM6RHcZqYzlxaoI1Otoe9wxrffR2arazR7zHYYVWufVhj0D3suZOKedq7U0zyctr1B9W9/+3adqVbLM+gbQpspfVPIdAMA3Y+JbmEy9v665jYrj9roh1Rsl9q9Oxe8k/G0LAHDeiGthGmbJuNdnNH1q7zYWxysMT+RYc40tzfa6mN7nZHheOmqvTKC91ih5dCQtTK1Gzc8zo+eeqGXJ1P1OcfR5eQ3fKXtlAu3B9ca20bQwDavbqP2l3ep1X43Raa+1nJFzmlNk+A7HHzVOyzbDHTm+jKLdDtsAwBmUBC1Mpt45mUIq3zW6OZnKdgSZkwkAMCItr+Tr+u+mKXvjGOfzu2qmsiKFZrWd6n+Ehh0bFLQKc7ao5L6MyLqEXG6t3+yN9JRw1qWGJ/K19MWGSMtSxXuV/VuWbF2fxdq50pR6sV1MwHVriYrm2w/OiBTNnBu9Empo6dfadkbOaUaW3LNS7QcDXHO9zMAUUX9i+H4pADBeyRGY+s3JFJRZPQyrb04mn4IfR1YBAM53CedhspZudbbVqyIyF1NYoSeylbHK+Qe3ns9a1LCrUmXPrtWKW7KVbS5ZM6xBB7K0wd6mvV+3umbVB8KRksubFa2fxqzHDEseZW3sC0uF1wweosLiSr/eDl7lKtnoV/MIBk8ala971HYoKP+LZdqwKidyHbLdM5U2aZLS8gLRbQ719Btx8Kyfk9KVnhstNY+4ayMAjF2SBKb4OZm2qea9EXwA9s7JFJBvD78wAQCGkqLUKzNVuLVW9b+J3jcbfnmDyvcPqG8+Cqr0zum68LszleVdobUPlalyT0ghc2kYasL0nk612yO3Zl1l3Z8zVmZYenKpvJGw5NGWt53DUsSCPJXdFY0nDS9arWexUezM894VUvNHXf3CzMh1qblqhbKvuFDT5y5V/i/WqtQazda6Fu+1WHcfOTtr5wQAEyNpAlO/OZnerh/Bh2ncnEw7QgluvgUAYLD03CLZfRq0zfzy3+sjv/Izl2rDTqtGSZfnvi3yBWvV1Napzk5z6bZaqupVEt26v8/CZ6QeanqpUN51oWggCXeqZ9jKMF15L4VUvSk6mISlbX9IlVbLmDdb16dfqgtn5KisbjQdEKMtXNffU6mQeSKuWXkqfrVatQ1H1W5dh87oQBbt/mgdPNjZOCcAmDjJE5hMvXMyPetXcDRzMu0pV4A5mQAAI5F6qdLsYrilzW4t6VJgU7781gNrNLq2VtW8VKy8W92ae2WqUlPNZYiGHl2c2nvM8Qi85peWFarQGo1PDdpwx1KVDmwFG+jiDHl/Va3Wf3SrtblW1a9uUXGBW5lX2c+fCGjtIs/wx4k5VK4iq4XLlLmpXi2HfdpS4JV7QYZc1nUY8kLYzvQ5AcAESqrApDlu5c+xCpUK7h3BL0/fcct7n1Volm/PSAaLAAAgjssMANZ/e5pUXxVZI/emkoQDLAwpNU1p0V5oqv+oPVoYA9ddFQr5K1TxZq3WW6EpHDJDU+HgiWoTuSBF6WY96i0o1pZXa1V/3FBnc4XyIudlhq+XgkN3pbO1HQiataqlWCW/zIxen7E6Q+cEABMpuQJT3JxMla9Uj6B7Q9+cTM1bq5mPAQAwvBNHFbKL7hnpirSXxHWpS734Qrs0GhnKLIgmpvAbITtwjN7qVYXKsEaW+45bJTt80WAR9it/+QaFxjB4QuqcQq2+137wWv/R7JyEzZAWdakuHEFj0miN5ZwAYCIlWWCS0hd5FYlMbwcUGuoGW1tKpluFkQqlUqEGEhMAYCht8m8yw0ek7FHeYvsum8szdH0076jtY+cWovDbNaqxy/2lyH2n3a380FqVVA0RA8xAUrouMHzLypV5qtxVokyrvL9U2ctK1fBV5Jle4V2lKt8/VI+MHnXHqsa7MnrvKRpK+jV5dqlN7U4hratFNW/X2w/6OxvnBAATKekCk67KUWFkTqagyt8cwW90KW7lROZkCqt05xjn1QAAfKv1dHWpbb9fpXdmK/+1yI1KyvNvU2Hsnhoz6ngeikQTNT9UpNU7mtUV+1L/dY/CHwRVdud0pXnM0GKvHmROkco3RY8RuCdLS58MquWzvh/yej5qVuDZHE1Py9aGEyP7gS9lwXqFGmKhaYO8q/z9W2R6mrQ681JN96xW+dstCveetPWe2xR6Nl8rnrUeuVR8l8ce7ntorsX5KopsWKmie0oV+qj/MRuq1io7Y6ZWRK5jAmfhnABgQjU2NhrJpnN3kT3T9xajyV43pOYthhmZzH0KjerxzOAOADgH1RslkTpgpEumUeQ/anTbe/f6ssnYssyVYHt7ucprbAn5jPX2Y6+/3d4xXqdR+yu3YYaAwfvHLen31hi9e5/yGV57fUmDvW6AVn9e7zFdd/mMVnt9+xt5/Y6beEk3Cl8d/H7rN9nP5/r6zsXWatbDZkgbcJzY4jLca3xGza+99uMS8y/Q52ydU592w5drb7cp/pUB4OxIvhYmU++cTIe2qHpUczJVqvJNekMDAAZwZci9pFDFr9aotbNe25ZnRO9dinfxXBXvblHTq8XyLoh1FEtXprlfib9e7S3VKl6crqHvcEqVe1OtWo7XqOKXhXL3Hsc80gK3Cn9ZoZqWTrX+ZnQtK+nLKxXYbE26K4Vfy1f+Ew2R6TdcuT51n2pStXnOhUvcyug9qEsZi8268Rmf6ttbVVGQ4P0OIX3ZNoXaarSloO+YrlnWQEvbVHO8RbVb83T9d6LrBzpb5wQAE2WS1cI0b948+2Gy6FFoXbqynwzL9Wit2sxKYrgP1baqpZp+T1C6tUKtwUL6RAMAAAAYt6RsYYq/eTb8ZEChEdyYlG7NW2EV3mZOJgAAAABnRpIGJlPvnExmAHqPOZkAAAAAfPOSNzDFz8m0YyQT28XPyRR0HsUIAAAAAEYoSe9hAgAAAICJl8QtTAAAAAAwsQhMAAAAAOCAwAQAAAAADghMAAAAAOCAwAQAAAAADghMAAAAAOCAwAQAAAAADghMAAAAAOCAwAQAAAAADghMAAAAAOCAwAQAAAAADghMAAAAAOCAwAQAAAAADghMAAAAAOCAwAQAAAAADghMAAAAAOCAwAQAAAAADghMAAAAAOCAwAQAAAAADghMAAAAAOCAwAQAAAAADghMAAAAAOCAwAQAAAAADghMAAAAAOCAwAQAAAAADghMAAAAAOCAwAQAAAAADiZ9+OGHhl0GAAAAAMSZ1NjYaHz/ih/YDwEAAAAAMXTJAwAAAAAHBCYAAAAAcEBgAgAAAAAHBCYAAAAAcEBgAgAAAAAHBCYAAAAAcEBgAgAAAAAHBCYAAAAAcEBgAgAAAAAHBCYAAAAAcEBgAgAAAAAHBCYAAAAAcEBgAgAAAAAHBCYAAAAAcEBgAgAAAAAHBCYAAAAAcEBgAgAAAAAHBCYAAAAAcEBgAgAAAAAHBCYAAAAAcEBgAgAAAAAHBCYAAAAAcDBhgenkjuVKu+y7Ssvz6aS9DgAAAACSyYQFpmk3/UQeq1BbqeCRyCoAAMbggF6wfoDrXTzaPky90rGrILrtvdXqsNd9Kxx8rvc6vHDQXjci8dfwOTXaawEAE9kl73s3K2e5VTis6vcPR1YBADB+B/Tya+/qC/sRAADjMYH3ME3RQk9hpHRk+5uqOx0pAgAwZgVFqzTV/G/HbzfLT+8FAMAZMKGDPlxy01LdH6nZfKprJDEBAMbnsn8t1MPZVumwHn/hW9bd7qy6Qfd/8qnaI8sazbfXAgAmODBp8iLdXBBJTHph9166TwAAxueCacopWhNpZdLucu04yI9xAIDxmdjAZJp/S5FmWYXfvqW6v0VWDaHvptTCXdHfDb9oe1dVDxdo2QL7ZtUFHhVvfUvHP488DQA4z0y+cYUeu90qHdZT298aRyvT5zpZ69PjD3j149l2HTP7RuXe+4iqak8m+JHvtOo22dutdnjd03v1eKQe+6HjoAxH/sMdPcad3+woso1b7XNPMBBG7yAZsQEhvu5Q467nVOy9UdfZ7+fHd5nXZd8IrnZk35e07l6PfhTZ11zMujv3gecUODj2vxYAnC0THpg0a5FyIonJp+r3R/FB+fmfFdjo1aIFy7XODFuNbfb6tgPyP12gH//rAwqestcBAM4jU7V05broj3G7N+rVfWNoZfrbXj3lzdKP8h7Q9h17dTxWPXUcU93uSq3Lm6clD/h0/O/2+ojJunr2bdHizgM6luBlTzfuVSBS6tBb+xMNeHRSx+z1s7Kv1bRIKZl0q+MPL6lw4Q+1bOVm+fcds8NVh46/Y14X72LlvnDAjI6JnT7uU3Fk38dUtftAXyA06+66HZtV5DH3f5oeJwCSy8QHJs2WZ8XNkVJw554R/5oWfHi5inZJ3ueD+sOxj+1+1x/rT4F1yrb6YrT59Ohrex0/tAEA316T592jNZGRWDv0QvnvRtdS8/cDeuGnXr2wr0NTb1ylsuBBffS/7ft7Tp7Q7/3Reubkjgf0k7L+9czUOTdrYaS0V0eORwr9HP6Dr7f15kjA3MYu9zr93zocjBaz58yOFpLKcyq8/TEdmf24Xq/7r77r0hJS+YobzOc7VLd5q6pjP2LGO1WtB70PyG8+N+12a/8T+ih231TrQb35fKHmW/tv9WrV68zQCCB5JEFgip+TqVp1iT5kE5h193b9vi6gx5bfoGlTJttrJ5uV2xo9Vrwo8qjjhRrV0TUPAM5DU+RZ8Xh08ILazap6f6Q/n51W3Qt36ymru9y8dap87XHlzZumyRdEn9XkKZqRvUaVFWsiLVgd5S/1Dwfp1yo70rR1WAdaBn7pP6B9VWZcmnqD5lvbHPmd6gYmpuOHVRcpFOqGayKFJHOzHgn8l/7wyiplz5jad13+aba86x5UQeTBu6p6Z2Dr2Un5H16pgPX2c7drZ2T/KWatbbtomuYvf0rl26ItdLVPv87ouQCSRlIEpr45mfaqKjiyOZmmLVgk87M2oRmzo4FJ+qOO0y0PAM5Ps/L1wN3RgYW2P105uDUnkb/t0a4XrDag2XrsmTWaf1F09UCTf/RTFdxkld5VbWN8MLpasyLrpWDjsf5dyw7W6VXr0LmP6rE7rdajwfMQdhw/ED3P22/QbIc6bmL9i268MTKkxmAXXav5kXvHzCzY+kn/937kLVXVWoV8Pbkpx7Gr4bTb79FKq9DxnOoORVYBwIRLjsDUb06md8c/w3jatGiLlVkZneYXKgA4T01R9l1F0Vamg+XyvzN8l4MvGuvkj5RujrYCOZqmq+dFS8FTn0QLEZN17YJofabgYR2LliKO7H8z0h1v5U3/ovk3/iTSQtW/W95pHTv8VqQ0a/7V0ZH+zilTNS3DLv7tc/XYRcuRfb+Lvk/PIs36p8iqxCb/QLOjFbiO/9W6WgAw8ZIkMMXPyVShd8dygy4AAAPNKtTDRdFWpqqnfcO2MnV1xCLOc1oWG8HNYVm21d70q55+9zFdknFD9Ee7jr061ttd77DqAlZr0iplL5hsnpc94FG/bnnHdOR9679Tddv8ZLx/aaxOq+sTuyUtuLJvZLyEyzwV2fdwffH3+MgFABMnaQJTvzmZav/Yr/IBAGBsJmvhXesUmcv2yGOqCg7dytRhhpxRO9Whfke94mrdEGmdsgZ+sJ85slfVVjAqulk3RG7cma2FsW55++ww0fHfOhwJTz/RvCFbt841n6tjDN3j6zriW+4AYOIkT2Ay9c7JVF6t2mHnZAIAYATSf6KVkS4Mkr/sVTUO8YtcykWxlp11ejM2gttwyys5A7rPzdb8pdE1Vc3RFqtYlzSrO15soINZsW55b0S75Z1uORAdcvz2a3V172gI3waTNSXWDe/27fpTomuYaHnQGnUPACZeUgWm+DmZavczvB0A4EyYrIV3b4p2kzuyWS8Hne+NmZp2tV36RJ+PoxqaPe8n0cI71iAOJ/XnWqsVqVAL58QloQHd8o5/EG3dWnjTDefg/UtDmaLLvme/o9ZPIvdxAcC5JLkCU9ycTP7X3xrdvBkAADj53m267+Fo61FwY4Xe7TfhbJ+psxdFu++pUsF9Y09Mk2dcawe0Azr2/l7tsu5Nuvtm3dBv5Lu+bnm1h/bq5GErVE3VwlnJN13teM2Ynx8NgYmGUgeAJJdkgckaLvy2aGVV+9aI52QCAGBokzX/7geVZxU7ntPTT/8xsnaQ9NtUEBmKXPI//LACw9x707HvOT21O0GbyfduUHZkePG3FPgPsz4zSwXZN+gSa1WcWLe8ut3PqWqnteYnmhcbae5bZPKNy3RfZFTBw3r8oefU6BBYoz7X8V2PqMqaCwsAkkDSBSarssqLzMmUaOI7AADG6J/MMLQpel9MR4dTx7Apyr7/aXmtzNRRrSKPV4/vOKCTn8fd+PT3Dh2vrdS6vHm6zrtZx/8/e30/03RtdrRFq7b2XfN/C5X9owQTK8W65b2/Nzph7d2LdO236v6lmNkq2LzOHuJ9s5ZlF2h77TF1xAWn05+fVOOu51R0U5Z+vLKy/zxOADCBki8wxc/JZN8ICwDAmTAr90FFBmQdyvduU/n7Ad1vTdDasVfbH/DoR1df3jf09fQf6sd5j6iq1uo4Pk2pDpPbzrgmNom6aVB3vJjZWuiNDTQhLZx99aBWqLF6yhM/XLfTUqDAX+0dzrLJc9bod3XPKy/dfND2lh7Pu1HXTe87lyuvnqdlKzcr8IEZZqdercn/I7ofAEy0JAxMcXMyHSnXW8zJBAA4U/7pZq18OHqv7JD+aZEeCTTpT8Hteuzu27TwmriUlX6DFi5fpbKqkP508qDKbkmcwCbPWaQCu5x30+DueDGzbop2y7PCU/acb9/9S/Emz8hXWd0J/d7/vFYuX6T5VniyTTUDpufux1Ue2Ke/NO/Tyjn2EwAwwSY1NjYa37/iB/bDZHFadZuvV+4LHZp6f0B/XLeodxhWAAAAAPimJGULk3Vz7sLbo3MydbxQozpGGAcAAAAwAZI0MJl652Qa39CuAAAAADBWyRuY4udk2vUuE90BAAAA+MYl6T1MAAAAADDxkriFCQAAAAAmFoEJAAAAABwQmAAAAADAAYEJAAAAABwQmAAAAADAAYEJAAAAABwQmAAAAADAAYEJAAAAABwQmAAAAADAAYEJAAAAABwQmAAAAADAAYEJAAAAABwQmAAAAADAAYEJAAAAABwQmAAAAADAAYEJAAAAABwQmAAAAADAAYEJAAAAABwQmAAAAADAAYEJAAAAABwQmAAAAADAAYEJAAAAABwQmAAAAADAAYEJAAAAABwQmAAAAADAAYEJAAAAABwQmAAAAADAwaQPP/zQsMsAAAAAgDiTGhsbjXnz5tkPAQAAAAAxdMkDAAAAAAcEJgAAAABwQGACAAAAAAcEJgAAAABwQGACAAAAAAcEJgAAAABwQGACAAAAAAcEJgAAAABwQGACAAAAAAcEJgAAAABwQGACAAAAAAcEJgAAAABwQGACAAAAAAcEJgAAAABwQGACAAAAAAcEJgAAAABwQGACAAAAAAcEJgAAAABwQGACAAAAAAcEJgAAAABwQGACAAAAAAcEJgAAAABwMGGBqa1qqSZNmqRJnkq12esAAAAAIJlMWGBKX5Ivr1V4u1yBQ5FVAACcEV0fBFX50Aplu2cqzfpxLrJMV9YtOVq9sdKsd8Lqsbc9J+wvtd+DuTzRYK883zSotPdvOXhJm52t7HvWqvLtFnV9be8CAGfAxHXJu9yj/AKr0CzfnubIKgAAxqPnA7/WutN0acZSrXi2UqH3WhS2n5Pa1LAnoPInVihnbpounLFUa6ua1WU/i3Nb+EhIoaoyrfDM1KWLViv4kf3EGRbekWOHtFIzwgE4H0zgPUypct9RFCk1b61W6Jz6qQ8AkGy69myQOyNfZe+ZEcnlVuGva3S0vVuGYUSXf3SrvaVWvk15ynCZO5wIquyeEgU/ju6Pc8im+r6/q710d7aq/tUiZVrP7y/X0js2qOGryNYAMC4TOuhD6hKv1luVVrhSoQYSEwBgbHoaS+W5xf7Ff0GJ6s1gVPFzjxmMUiLPR1yQItc1buX9yqejLUdVUZBuP3EOWLC+Lxz8KhIJMEBKaroyC7bJ58+T9dVCh0pVspO7pAGM34QGJqW4tXRVJDGpdGeIbhEAgDFoVvnPN0TDkitPvh3rlZkaecJZaoYKXz2qpq0ZiotU+BZIX75ahXY5eKCF7xYAxm1iA5Mpc9lazbUKLwcU+iyyagh9N3zm7LB7pYdDKl+Vo6wZsRs/8xXo67AOAPiW63mvWlv2R8verWXKuzJaHl6K5q4pkfdy+6Gp5+MG+V/coNV3Zit7dppdr1hLmma6c7T6Wb8ahqhjGp6wt7/TH7136uuwQi+uVk7m9N5j5e+MHmDwvTBdatlVqhVxA1WkPRm7xzdB/RdnvOcd03Ui2L9OTZup7HtK5d8fVkuVfb6x9+bAOkZkwI3e87DP4cWg2r6h9HKh/V991jXE4B5danu7UmvvydbMtLj3e+dqlb/dNjho2QNvpOUF7BUblBV5f/FL3H1NH/uVY68vtf99JtQ7oEeO/AO7hyY4RteRgEr7nXOpov9KBv8bGfT3nJGlFU8E1EKKBEansbHRmFhNxpY5MsxTMbz+dnudk3qjxNwusu1/HjWafu010u3HfYvX8J2yNwcAfMt1G7W/jH3+Fxk1nfbqMWr3e+PqE6cl3Sh8o9Xeo7/6TfY2uT7j6IFthveq+P2iS6yu63utEqO2rdooXuzqt11k2VQf2bZf/ZegrhzveVvXsWmrx3Al3G/AYr63xLV1p1H7K/fQx7iq0Kho6ba3H62+a9B3XRKJ2+6+GvOsEvi01lif6HrHLekFFcbRL+3tLQ0lCbfrv5SYr2475TO89vqSBntdIr3HTfD9Jf4YoVajek2i6xt7zbh/Iy/VGL6E29qL+XeobovsBGAEJryFSZor7y88kVLgtZoRz8lU/5Bb12/ukvfVerV+GX/jZ7Xy4n4tBAB8m7WoeY9dzM3S9cN1xRvWpfLct0W+YJNaO+MGjDC61dneJN/PrfuH2lR552pVnojukdDeYrlvKFHXsgrVt8Ufx1D1cqsrerxtys/MUeA7a1XT0ikzTvRtP+L7lcZ33m07CuV5MKiwXPJsrtHRT/uO0d1+VLX+Epnhbwg9anjCo+wnQgq73CruVzeb59BSo5Jl5vs+UakVizcodDYHYzhxVPV20XNDhgb9k/iqQaXLslX6nvluFxeroqFV3f+wz7W7U0eDJfKYp9pWtULuTaG+Fir7PjIznNorSmQGFfs9xpb10UEnzoJteVnKeTNVa4NH1dk99GsGVi1V/g4p3/o79P576FZ7KPrerL9D0W/i3huAoU18C5Op9xcUt1Fx3F6XUN+vJ65lW4ymcf6SCAA4x3XWGEWxX82HbHU4U1qNilujrzd3a5O9rk9vC5PLY2w5MHQl1dcqlGkUBZxafmKGbmEa3hDnfbzC8NjH9rx01F45WHzr2cAz6A6tt1szMo2SBocWpC/rjfV2jxLPq8O930RG0sJktTjaLUeuIqPmU3t1L/P5R+3nF5QY9fEtSHG696435kZeyzPoe0l8y+CQ/+LOcAtT5s+rjdZ/2OsT6rs+c+/zGUcd/vkdfcltv974W2SB80UStDCZeudkCql818jmZMpanq+54/4lEQBwTvuqS+128ZuRrpn2z/nNx9udBxRYlK/8+SOtpJYq/46zPWKf83k37ypX0CrM2aKS+zIi60anS8HXSiP3Nc19plzrFzgMo3FxpgpXuSPF4JsNI+5RMiJf96jrowZV/sKt7GetM8lUya4t8nwn+nSvz4LyPxk5U215eb0yL46uHihlYaGKlliloIINyTHS3tI8r9IvsB8MI32RWxkO//wy5kb/BlK9Ws7SXFXAt01yBKZ+czIF+26YBABgIvR0qWV/QJXPlkUGBci+xVzsgRuyNtrbDDmgwAQZ9Xk3K+SP/lDp8mZFB2Eara56haqiRU/m0EdIz7BT2662IQeOGNbGrOggBrHlf16oS9OztOLFhkg3O19LKGFw62oIqTJS8ihrTqTgwAyYC6KlwEfjOtPkc3m6op0Km9VDnzxgRJIkMMXPybRNNe/x/2AAwAhcnKo0u3hGfN2m4BM5mn7hpZqZmaMVD61VWVVIoT3msj+J5/QZ63n3dKr9ULSYddUYW7k+a1eLXSxdFBdiEi2LSu0tO9V9Nqr6a9bLF9iivGsSt3J1hnvPNMEId/2XrCfsTb/s5l4f4DyXNIGp35xMb9fz4QQAGF5qmtKsqsNyvH18rRZqk/+eLC3dGIh0F0u/tUhb/DWqbW5VZ2enuURvnq/fFN06eYzjvD8Lj79rnHmMkF0cuTaFh51KZAib6u2BDKJLd0NJdOCDD0qVfWupGhwGlQiHR3+m+ijs3PUSwHkheQKTqXdOpmf9Co7ngxQAcJ5I19w77OJrQdWPo+7o2lWq/NesyOVS3n+2qjW4TcXLPXLPSVdqaqq5JOcUt+M67wtSxj9xb0pKb1e+koa+EDP0cmZHtE1ZsF4+f555BUz7N8i7yp8wCKZc3HumCUa4c1jesI8L4LyVVIFJc9zKj/QprlRwL7/nAACGk6qsW6P3wFp1R+WbY20v6VFTQ/TuFi0pUcldZ3sQhjNlnOftStNMu9j1VbddGiVXumJDRbR/OnF1d/rySgU2Re+RCr+Wr/wnGgb1Vkm7vPdM1cnXDAAjlFyBKW5OpspXqsffTQAA8K2XuiRfJfYN/MF1G+Qf8chfPWp5pVSBj61yl8Kx/VIv1IV2MfmN97zNsHNXtBRqaB5b1zPXXLlvjRbLd4UmsPtaijJ/5ZPvrmh7UMNGrwp39P8m4ZrrVvRbRrkC731zZzqRQRLA+CVZYDI/uhd5ox9mbwcUGmpSQAAALCmZKn7Zvocl7Ff+8g0KDdc1r6tF/l+4NfPfmuxWCJcy5todr463Ow9VHg6qJjIGd7IY73m75L6jMFqsqlS1U737dZuOHrbLg6Qr576iaLe1qiIVDQgpg4RDKl0XGOf9Zk7SlfdSQCWREe7C8uflq3R/XDvTVTkqui96vSpXFQ0brsPvlWrDzv5nmnJxbJiRJrVFwraDyzN6R+Krboj9Oxvg67CCu2vsBwCSVdIFJuvDrDAyJ1NQ5W+ObE4mAMD5rf89LKXKnp2tFS8G1RKOG0I7MldPswIvrlB2xkzlv9h/Eou5t66Nhq5Da1X0C7+aP+v7itsTblHw2RxNT1tqfgG3VyaJ8Z536q1FdsAIasVdq+U/1HfNerra1LCjVDkZ07Vip70ygdRlG1QeadmxQkqWsh+sVMNH/a99+AOzXl+11DyXbG040XeOZ9zFmVq/w6e8yD+GBm0wA2FfMEqVZ1159DkrXGdma21Vg9q64s7nq7Ba3i7Xas90pbk3qOVre70tdW6WPSx3QMXr/GpxGGDC6jXj/pndRfDJDSp5u009sWN9FbuuaVr6JJOpAEmvsbHRSDadu4uis1DP2WL0n498vDOdAwC+zTr3bjG8V0XrieEW16w8Y0uw1ei09zWMbqNpq8cwv0sn3F5KN7zP1Bq+R+3HuT5jYE1Uv8n5uYHa/V77uCVm7Tacoeq/8Z+30eYzzBAxYL++xbWsxCi5137s+N46jdpfuYc4j74l/d6aYa/PYH3XQJuGv2LdDSWGGVei2y8wr/GX9hOWT2uN9Ytd/c4p8ZJuFO5OcL03ZybY1loG/C2/NM95iNdJz91i1L+x3n7sNXyn7P1iTvkMM5xFni9psNc5GuF3pFEdE4Al+VqYTL1zMh3aomrmZAIAjFDqwmJVH+9We4NP235ZKPfijGirU0S6MpcUqvjXPtW2dKr9sE/Ft6Yr1X7Wugdm7poatRyoUHFuprl1VPoCtwo3+VTf3qrqX7qVnnQ3OJ2B874yT76Wo6reZF6zWbErZl6v3CJtC7Wrbfd6ua+wV6c4jauXKvemWrWdqpfvmSJ5E137V6vVdKpbrb/xxD13dgw5ct533CoJtUX+nWy5zxv3nk1XZcpdUKyKQJPau1tVsWzgmZrX+9F6tYe2qDD+PVr7LUntP+qg1dr1TrNqf10kT+w1XBnm8Uvka2hX6xvFyrzi3LljDjhfTbJamObNm2c/TBY9Cq1LV/aTYbkeNT98N7v7fwABAIBvkFkvP3Shsp+V5m5tUtOa2PDcAPDtl5QtTNavN+47o3MyhZ8MKMTgMgAATJzPQgq8ZhXmKn8xYQnA+SVJA5Opd06mb3boTwAAzjfhnSuU/1ClAvtbFI4fAKGnS237K7V62VKVhyXXfSUqtEd+A4DzRfIGpvg5mXYEz9LwowAAQF93yv/sCuVkzlTapRdq0qRJ0eXCSzU9c4XK90vpudsUfMYTd88XAJwfkvQeJgAA8E3pORFU5X8GFdrfpOY9Db2DI7hmuZW1yKOcn+Urb8HAwQ8A4PxAYAIAAAAAB0ncJQ8AAAAAJhaBCQAAAAAcEJgAAAAAwAGBCQAAAAAcEJgAAAAAwAGBCQAAAAAcEJgAAAAAwAGBCQAAAAAcEJgAAAAAwAGBCQAAAAAcEJgAAAAAwAGBCQAAAAAcEJgAAAAAwAGBCQAAAAAcEJgAAAAAwAGBCQAAAAAcEJgAAAAAwAGBCQAAAAAcEJgAAAAAwAGBCQAAAAAcEJgAAAAAwAGBCQAAAAAcEJgAAAAAwAGBCQAAAAAcEJgAAAAAwAGBCQAAAAAcTPrwww8NuwwAAAAAiDOpsbHR+P4VP7AfAgAAAABi6JIHAAAAAA4ITAAAAADggMAEAAAAAA4ITAAAAADggMAEAAAAAA4ITAAAAADggMAEAAAAAA4ITAAAAADggMAEAAAAAA4ITAAAAADggMAEAAAAAA4ITAAAAADggMAEAAAAAA4ITAAAAADggMAEAAAAAA4ITAAAAADggMAEAAAAAA4ITAAAAADggMAEAAAAAA4ITAAAAADggMAEAAAAAA4ITAAAAADgYMIC08kdy5V22XeVlufTSXsdAADnhgN6warDzKVwV4e9DgDwbTRhgWnaTT+RxyrUVip4JLIKAIARa9waDSxjX55To30sAACcTFyXvO/drJzlVuGwqt8/HFk1PH7RAwAAAPDNmcB7mKZooacwUjqy/U3VnY4UAQAYkfkPfqr2TxIvbz5sb6R1ejPB89FljebbWwEA4GRCB3245Kalun+qWejwqa6RxAQAAAAguUxoYNLkRbq5IJKY9MLuvfoiuhYAAAAAksLEBibT/FuKNMsq/PYt1f0tsiqBDgXute5d8ugpe01w5Q/jbtzlviYAwGicVscfqlX19CMqvNOrH8+Oq09m36jcex/R9l0H1PG1vfkIdOzz6fEHPPqRfZzrblqudRV7R3UMAEDymfDApFmLlBNJTD5Vv0/gAQB8Ez5XXcVKrdtaqeD7e3U8vvrpOKa63ZV6fKVH1y18QMFT9nonf92rF+76oa7zPqDtOw70TpXR8cG7qlrv1XW3P6fGv9srAQDnnIkPTJotz4qbI6Xgzj0OczJNlfcV6wbdoB6x13i2/9eAm3c/VeUdVvc+AABG4KKbVbBxu16vPai/tMbVJydP6E+121Uwz9ymzafCh4eeLzC4aaWeOv4vemR7UH+IHed/f6w/+NdooVUtHdxsHuMt8ZMgAJybkiAwxc/JVK26tsgqAADOoqnyPr9Dm4tylD1rmi65yF5tmTxFU2flaHP588q2Hg8zX+Csoh36U12V7r/jBk2LHeeCyZqWvU6VZYXmK0kdO7cqwJyDAHBOSorA1Dcn015VBUc6JxMAAGdR+tW6IVI4rJN//TxSSmTa7Gs19QL7wQCX3JKjeyKdHw6reh/1GwCci5IjMPWbk+ldZl4HAHxjTv/tmBqDPm0vf0zFd3qVay7LFlgDN/QNNPTJ38c69cXVmhXpQmHWb4f/m255AHAOSpLAFD8nU4Xe3cecTACAs+zUu3rh3nm6MuNGLSt4QI9vekn+9/eqzlwaz1j38Cmacpld7PhcPXYRAHDuSJrA1G9Opto/isgEADhrTlWryLNcT+22hnOYpuy7H1e5P6A9jSf0l2PmctIavKFvoKEz4v0OWpgA4ByUPIHJ1DsnU3m1ah3nZAIAYDw+V7BspQJWepmao/LGg3r96VXyZi/SrCum6JIp5jI5uuUZdfs0M5oBAM41SRWY4udkqt3vfIMtAABjdvrPOrAjWlz48Dp5r4iWz44OnWyxi1dM1RS7CAA4dyRXYIqbk8n/+ltDznsBAMCY/B8zxNjFSy5KsUtnyd/+qH27o8WCBdfqbDRcAQDOriQLTNK0BbfZ8168lWBOphRNjrRASY1t/x0tAAAwGt+7WtdGhvqWTv71k2ghgY7aPXrXLo/NaTX+9iX5reLUNfLcRPsSAJyLki4wKf025UXmZHpXVe8MnLNituYvjdZyHU8/phf2fc7gEACAUZqt7NXRGZaObHpY63Yd1hexyuTr0+o4/q623ztP1+U9N6JpLhpf26yq2mPq+Lu9wnT61AH519+hZU8fMB9N1cptxVpI8xIAnJOSLzDFz8n0xl4NnBh9/v/ztLyRzHRAT3mv0pWXWXNlRJfCXYw/BAAY3qyfPq3HbrEqkwOqWunWP0+z65LvX67rFi7X44ev1WOB7bo/uvmQOvb5tC7vRl03va8+unK+R8UVVliaprxX3tZjN5GWAOBclYSBKW5OpiPlemvgnEzfu03ldftUXnSb5qfb6zRVM25cpGkX2Q8BABjKRbO18rV67Xl+lTzzYmPXTdP8m/L1yPag/lRXpZU3TtOF9jNDeWT3Cf3B/7xWLl+kGXZXP6XfIM/dT2nn4YMqu52x8QDgXDapsbHR+P4VP7AfJovTqtt8vXJf6NDU+wP647pF3CgLAAAA4BuXlC1MMuPRwtujczJ1vFCjOkYYBwAAADABkjQwmXrnZKpUcB+JCQAAAMA3L3kDU/ycTLveFcM5AAAAAPimJek9TAAAAAAw8ZK4hQkAAAAAJhaBCQAAAAAcEJgAAAAAwAGBCQAAAAAcEJgAAAAAwAGBCQAAAAAcEJgAAAAAwAGBCQAAAAAcEJgAAAAAwAGBCQAAAAAcEJgAAAAAwAGBCQAAAAAcEJgAAAAAwAGBCQAAAAAcEJgAAAAAwAGBCQAAAAAcEJgAAAAAwAGBCQAAAAAcEJgAAAAAwAGBCQAAAAAcEJgAAAAAwAGBCQAAAAAcEJgAAAAAwAGBCQAAAAAcEJgAAAAAwAGBCQAAAAAcEJgAAAAAwMGkDz/80LDLAAAAAIA4kxobG4158+bZDwEAAAAAMXTJAwAAAAAHBCYAAAAAcEBgAgAAAAAHBCYAAAAAcEBgAgAAAAAHBCYAAAAAcEBgAgAAAAAHBCYAAAAAcEBgAgAAAAAHBCYAAAAAcEBgAgAAAAAHBCYAAAAAcEBgAgAAAAAHBCYAAAAAcEBgAgAAAAAHBCYAAAAAcEBgAgAAAAAHBCYAAAAAcEBgAgAAAAAHBCYAAAAAcEBgAgAAAAAHBCYAAAAAcDBhgamtaqkmTZqkSZ5KtdnrhtegUmsfc8nZEbbXAQBwDvvYrxy7bivdb68DACSNCQtM6Uvy5bUKb5crcCiyCgCAMej7Mc1pSZudrex71qry7TZ12XsBADASE9cl73KP8gusQrN8e5ojqwAAOBvCR0IKVZVphWe6Mm4vU/NX9hMAAAxjAu9hSpX7jqJIqXlrtUI9kSIAAGO3qV6GYQxYutXZ3iTfGrdc5ibhN9fKszkkqh0AwEhM6KAPqUu8Wh+pvSoVaqDqAgCcDSlKdc1V3tYKldwaXROualBLtAgAwJAmNDApxa2lqyKJSaU7Q/QrBwCcRemamWkXw6KFCQAwIhMbmEyZy9ZqrlV4OaDQZ5FVoxJ+r1Jr78nS9N4be5dq9Yshhb+2NwAAIKJH3V/aRZfV7jRQj8J1fpVvXK2cW7I1My1u4Ii0mcq+c7XKdjSMrH4JN8j/xAplZ07vPcb0zGyteKhSwQ/G8PPgV80quz3NPpd8+T+y18d8HVbDjlKtuKWvPoyc8y0rtLYqoOaPB8fDhifs7e70W/lRPR+HVPmQec6zY68zU0tXlSvkOChtl1p2VarM2if+da1lRtaoBtnoOhFU+aqcvteelKaZ7hytftavhgTnHtWltret7wBxfyv771TO4B4AzqTGxkZjYjUZW+bIME/F8Prb7XVO6o0Sc7vIts/4jJJlrkg54bKgxKj/0t4NAPAt1lc3aFO9vS6BL2uNYld0u8ytTfbKeO2GL9c+zlDLVYVGdZu9yyDdRtOvvUZ6ov3iFldBtflqtlM+w2uvL2mw1/XTavjusus7V57hG/jabT6j8Kr+xx+8uIySA/b2tvpN9nN3bDEqfuU2zAw5YJ/YkmmeV7e9V7y46z7E4lo8VH3catSsGeq1o0v6MwP+Xp/WGusXD/EdwFzSCyqMo3wPAHAGTHgLkzRX3l94IqXAazUjnpMp8FC+NrRkqcRfr9Yv7Rt7/9Gt1uB6ua1efvs3yLsqEPnVDABwHvu6R+FDfq29PV9lZqWQXlAt35pI34bBLvao6Bmfappb1RmrW6ylu1PtzT4VLTC3OVGpnFWJ5hDsUfOTbl3/i4D5nEvuNT41fdrde4zutiZVP+OVGaYU/mqkHQLb5P9ZlvJfM0/clSdfg095V9pPWXoaVHpHvipPmE8vK1FNS6fMaBN9zS/bdTRUoeJbI69oXofoLoPsWqsVT7Qpa5NP9W1959vZUi0zlJgbNGjDHYUKfBzdvJ9ZeSp+tVr1Le3q7LZfN/LanWoNlchj7h5+z6yPNyUaZCOsgPnelj4XMkvp8j5T21efWwN1tNSqwh6oo60nbu+vzPe8LFul74XlWlysioZWdf/D3s/8Ox0NRl+3rWqF3AlfFwBGaeJbmEy9v665jYrj9rqE+n7NmvvLGqP9H/bqATp3F9m/Vs01tjTbKwEA31Ija+mwlox7fUbTp/ZuY3G8wvBEjpWgful9TobnpaP2ygTaa42SR0fSwtRq1Pw8M3ruiVqWTN3vFEefl9fwnbJXJtAeXG9sc2phmlNs1Dh18Pi0xiiyW+XmDmzlGQHr/KL1cZFR02mvtPU95zKKgwOejNN52GcU/TrWctht1D5qtywN0ZOke+96w4zE5naeYb5XAMDwkqCFydQ7J1NI5btGNidT+tzr5brAfjBA6rJ8rbZ+krLmeHqPOZ4AAFEtr+Tr+u+mKXvjGAcaumqmsiKFZrWd6n+Ehh0bFLQKc7ao5L6MyLqEXG6t3+yNtJw461LDE/la+mJDpGWp4r3K/i1Ltq7PYu1caUq92C4m4Lq1REXz7QcDzbhe1zudzHfM+jkyOJP5jv0h812PTkrG9fb1qldLv/uuwgq8UhbtBVJQrg23pkbWJpI6K0/bfm6P1vFZUP4nrb3masvL65Xp8J5TFhaqaIlVCirYMNK+KwCQWHIEpn5zMgVlVg/jlKG5d0RLzc1t0Q9kAMC3X8J5mKylW51t9XYXr7BCT2QrY1XQMTT1fNaiBmtAg2fXasUt2co2l6wZ1sACWdpgb9Per1tds+oD0drG5c2KDmY0Zj1mWPIoa2NfWCq8ZvAQFRZX+vV28CpXyUa/mscweNJwMubkRAuHmtTmUKH2fNSs4I5yldkDZljXKzIQwxX5CkS2aFZ8rzp1Nal+Z7ToXZJlfgsYma6GkCojJfP6zIkUHKRrptV90hT4iG8BAMYnSQJT/JxM21Tz3nh7HKfq0jS7GO5Ut10EAJyvUpR6ZaYKt9aq/jfR+2bDL29Q+f4B9c1HQZXeOV0XfnemsrwrtPahMlXuCSlkLg0n7G0S6elU+6FoMesq656hsTLD0pNL5Y2EJY+2vO0cliIW5KnsrmhkanjRaj2LjcZnnveukJo/6hr3PTyp3+2tUNX5lV20dTVWaoU7TReawW1p3mqtfaJcAft6tQyVUz5r750H6/p0p+atwTrDsb1KlRU/Kl+CJesJe9Mvu7mPCcC4JE1g6jcn09v1Z+7DbU+YFiYAQK/03CLZfRq07b246Ws/8is/c6k27LS6cKXLc98W+YK1amrrVGenuUQGNahXSXTr/j4Lj3jQoqE0vVQo7zprEARTuLN/q0xC6cp7KaTqTdHBJCxt+0OqtFrGvNlmGLlUF87IUVndmRhk2zyvuBasnv2l8tywQpXvmWfrylDeLytUHarX0fbo9YoMxHDKJ6+9fT/m9QrZxdEIh8ew10dhhhgHMC7JE5hMvXMyPetX8Ex1K8hN761EAABQ6qXqbTNpiXXb7lJgU7781gNrNLq2VtW8VKy8W92ae2WqUlPNZYiGHl2c2nvM8Qi85peWFaow0p3MGp1uqUoHtoINdHGGvL+qVqs1Umxzrapf3aLiArcyr7KfPxHQ2kWe4Y8zLDOUXW4XzbBZft+GaBf6BSWqbzkq3zNm2FucqQxX9HqlONxnHJGSMqZuiykXx/YyXzNh18sEyxt5w9wvBgBDS6rApDlu5Uf6JFcquHc8vweF1XbYLl7pGnHfaADAecb6cm/9t6dJ9VWRNXJvKkk4wMKQUtOUZn8rr/+oPVoYA9ddFQr5K1TxZq3WW6EpHIoM6T1ootpELkhRulmPeguKteXVWtUfN9TZXKG8yHmZ4eul4Jh6XLQdb7JL6XJ9xy6eaFLQ7oJYvKlYmaOtaF3pig2LcfTUyM8q7fLYXu3qpNkIwDckuQJT3JxMla9Uj717w2f1Ctk3kxYtuj7BbO4AgPPWiaO93cHcM9KjdURcl7rUiy+0S6ORocyCaGIKvzH60eRiVq8qVIY18tt33CrZ4YuGnbBf+cs3KDSGnhepcwq1+l77wWstY6hXu9T8XnTYBt3n1vWxCjWuS92l/2sMtaxrrty3Rov+t+tH3GXONdet6LeEcgXeIzEB+GYkWWCS0hd5ox+GbwcUGuoGW0c9anh5S3QUHdd6eZfQvgQAiGmTf5MZPiJlj/IW2522L8/oHVq77WPnFqLw2zWqscv9pch9p92t/NBalVQNEU3CIZWuG8HE6lfmqXJXiSIDau8vVfayUjUMGHQhvKtU5fuHCg496o71xLsrY9Rd1HvqtpjvxSq5tD7X3ddj48oM5dnFtnan1+9Si3m96u1H/aUr597CaLGqRFuGCD9dR/xabQ2vbrkqR0X3Rf9QlauKhm15C79Xqg07x9KuBgBxkmLi2n46jeoCe5K8rQMnyeubnNC1uNDYFjxqtMdNWtfdVm9UxCb5sybCe6fbfgYA8O0VN3HtptgEp/11d3YarQ0+oyQ3vbeOyPO32s9GNW2N1R+ZRpG/yeiMVSH/6DbaW2qMLb37Rhevf+Bsr91G/aa+OsizucY4+mlfPdTd1mRUP+M1zNBiKNc3golro7obSgwzNEWed93lM+LPut3vjaxPv7UoWif2nrT1nluN2tjrJagTeyeudXmM9f5a42h73PNfthr1rxb1vm6meV37791p1NxnTyBr7l8SajW6Y5PJd1vXusIoXmw/by+D31ur4bsrto15zV+tN1p76/Ruo7Ol1qhY445Obhv/dz1VbeTZk+nK5TaKrf3i3rfxZbtxNLjNKLo1+vca/HcCgNFJwsBkfgzvLop+EM7ZYvSPTCOdzT3dKHyjf0UIAPi2GmndEFusQHR0QAAwfdlkbFnW/0t+v+Uqr7El5DPW248TfxHvNGp/ZX/JH2JJv7dmxIHJ0urP6z1mfGhqfyOv33ETL2ad+Org99sbmIZZMn9e0y+k9WqrMYoWJN7HWlyLiw3f7m1Dv7cvjxoVBf2D6ODFZWQM/AH101pj/YBAlngx3/tuAhOA8Um6LnmW3jmZDm1RtcOcTCV7O9UarIiMBJQRbZ2XrsqU975tqm1vVUUuY+MBAGyuDLmXFKr41Rq1dtZr2/KMwfe3XjxXxbtb1PRqsbwLYnVIujLN/Ur89WpvqVbx4nQNfYdTqtybatVyvEYVvyyUu/c45pEWuFX4ywrVtJj11288oxq5LX15pQKbrUl3pfBr+cp/oiEy/YYr16fuU02qNs+5cElcfWhumbHYq6JnfKq36sSCBO83JrdC9Q0+bbnP2zeynnW9Ckrka2hX/a89ibvyXenRtj2tqnnGfJ+z7Be29sst0rZgq1pCW5Q399LoeicXZ6jw1Va126/fe5z48z/VpqNrBoypZ93jFWpLsJ/J/C7gLihWRaBJ7d3me18W9xwAjMEkq4Vp3rx59sNk0aPQunRlPxmW69FatZmVxBhuKQUAAA4anpikrI1mwQxd7Qy9DQCOkrKFKf7m2fCTAYUYCAcAAADABEjSwGTqnZOJoUMBAAAATIzkDUzxczLtGNtkewAAAAAwHkkcmKT0ghoZhiGDvtUAAAAAJkCSDvoAAAAAABMvqVuYAAAAAGAiEZgAAAAAwAGBCQAAAAAcEJgAAAAAwAGBCQAAAAAcEJgAAAAAwAGBCQAAAAAcEJgAAAAAwAGBCQAAAAAcEJgAAAAAwAGBCQAAAAAcEJgAAAAAwAGBCQAAAAAcEJgAAAAAwAGBCQAAAAAcEJgAAAAAwAGBCQAAAAAcEJgAAAAAwAGBCQAAAAAcEJgAAAAAwAGBCQAAAAASkv5/zYVIyfBKMPsAAAAASUVORK5CYII=)"
      ],
      "metadata": {
        "id": "TQiLRDlY-87B"
      }
    },
    {
      "cell_type": "markdown",
      "source": [
        "## **Booleans**"
      ],
      "metadata": {
        "id": "_jLYV0l9_XWu"
      }
    },
    {
      "cell_type": "markdown",
      "source": [
        "Booleans represent one of two values: True or False."
      ],
      "metadata": {
        "id": "jtBiRslH_eWN"
      }
    },
    {
      "cell_type": "code",
      "source": [
        "print(10 > 9)\n",
        "print(10 == 9)\n",
        "print(10 < 9)"
      ],
      "metadata": {
        "colab": {
          "base_uri": "https://localhost:8080/"
        },
        "id": "G8trjmhC-cEz",
        "outputId": "b85013a8-0f37-4dab-a90f-1937d60d60ce"
      },
      "execution_count": null,
      "outputs": [
        {
          "output_type": "stream",
          "name": "stdout",
          "text": [
            "True\n",
            "False\n",
            "False\n"
          ]
        }
      ]
    },
    {
      "cell_type": "code",
      "source": [
        "x = \"Hello\"\n",
        "y = 15\n",
        "\n",
        "print(bool(x))\n",
        "print(bool(y))"
      ],
      "metadata": {
        "colab": {
          "base_uri": "https://localhost:8080/"
        },
        "id": "s8vLnOMD_yZs",
        "outputId": "ca56e5f9-50e9-4023-afa2-96e728a1f793"
      },
      "execution_count": null,
      "outputs": [
        {
          "output_type": "stream",
          "name": "stdout",
          "text": [
            "True\n",
            "True\n"
          ]
        }
      ]
    },
    {
      "cell_type": "code",
      "source": [
        "bool(False)\n",
        "bool(None)\n",
        "bool(0)\n",
        "bool(\"\")\n",
        "bool(())\n",
        "bool([])\n",
        "bool({})"
      ],
      "metadata": {
        "colab": {
          "base_uri": "https://localhost:8080/"
        },
        "id": "p_pOtlhPAIK1",
        "outputId": "081ff8cb-0301-41e4-d3ba-e1084b9900a1"
      },
      "execution_count": null,
      "outputs": [
        {
          "output_type": "execute_result",
          "data": {
            "text/plain": [
              "False"
            ]
          },
          "metadata": {},
          "execution_count": 35
        }
      ]
    },
    {
      "cell_type": "markdown",
      "source": [
        "## **User Input**"
      ],
      "metadata": {
        "id": "gIpZXjZVLtxa"
      }
    },
    {
      "cell_type": "code",
      "source": [
        "username = input(\"Enter username:\")\n",
        "print(\"Username is: \" + username)"
      ],
      "metadata": {
        "colab": {
          "base_uri": "https://localhost:8080/"
        },
        "id": "B_Fh94zLMaA0",
        "outputId": "56306058-b783-4f0b-da3d-a509340ee562"
      },
      "execution_count": null,
      "outputs": [
        {
          "output_type": "stream",
          "name": "stdout",
          "text": [
            "Enter username:Amal\n",
            "Username is: Amal\n"
          ]
        }
      ]
    },
    {
      "cell_type": "markdown",
      "source": [
        "# **Operators**"
      ],
      "metadata": {
        "id": "H0hCwyVk_AMF"
      }
    },
    {
      "cell_type": "markdown",
      "source": [
        "# Python Arithmetic Operators"
      ],
      "metadata": {
        "id": "P2bFuwg5BMhH"
      }
    },
    {
      "cell_type": "markdown",
      "source": [
        "![Screenshot 2023-08-22 095419.png](data:image/png;base64,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)"
      ],
      "metadata": {
        "id": "Oy91BZlUCHW_"
      }
    },
    {
      "cell_type": "code",
      "source": [],
      "metadata": {
        "id": "TCt_3UyLCOEP"
      },
      "execution_count": null,
      "outputs": []
    },
    {
      "cell_type": "markdown",
      "source": [
        "# **Python Assignment Operators**\n"
      ],
      "metadata": {
        "id": "OjX6aTIGCZrf"
      }
    },
    {
      "cell_type": "markdown",
      "source": [
        "![Screenshot 2023-08-22 095918.png](data:image/png;base64,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)"
      ],
      "metadata": {
        "id": "DRMZdxFLCqR_"
      }
    },
    {
      "cell_type": "code",
      "source": [],
      "metadata": {
        "id": "9sSfxtfVArou"
      },
      "execution_count": null,
      "outputs": []
    },
    {
      "cell_type": "markdown",
      "source": [
        "## **Python Comparison Operators**"
      ],
      "metadata": {
        "id": "nWLFAJsSC4pS"
      }
    },
    {
      "cell_type": "markdown",
      "source": [
        "![Screenshot 2023-08-22 100157.png](data:image/png;base64,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)"
      ],
      "metadata": {
        "id": "ckz2umyWDQhe"
      }
    },
    {
      "cell_type": "code",
      "source": [],
      "metadata": {
        "id": "Sd24mu7xC6GO"
      },
      "execution_count": null,
      "outputs": []
    },
    {
      "cell_type": "markdown",
      "source": [
        "# **Python Logical Operators**"
      ],
      "metadata": {
        "id": "xbdyIH7PDS37"
      }
    },
    {
      "cell_type": "markdown",
      "source": [
        "![Screenshot 2023-08-22 100237.png](data:image/png;base64,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)"
      ],
      "metadata": {
        "id": "B4MYoo2PDd8R"
      }
    },
    {
      "cell_type": "code",
      "source": [],
      "metadata": {
        "id": "KL5AO971DiuI"
      },
      "execution_count": null,
      "outputs": []
    },
    {
      "cell_type": "markdown",
      "source": [
        "# **Python Identity Operators**"
      ],
      "metadata": {
        "id": "xZ9Tv0HIDj1y"
      }
    },
    {
      "cell_type": "markdown",
      "source": [
        "![Screenshot 2023-08-22 100413.png](data:image/png;base64,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)"
      ],
      "metadata": {
        "id": "Pl4HHqTlDp9F"
      }
    },
    {
      "cell_type": "code",
      "source": [],
      "metadata": {
        "id": "q9Jwboq4DpXF"
      },
      "execution_count": null,
      "outputs": []
    },
    {
      "cell_type": "markdown",
      "source": [
        "# **Python Membership Operators**"
      ],
      "metadata": {
        "id": "2PIqo3iADzC-"
      }
    },
    {
      "cell_type": "markdown",
      "source": [
        "![Screenshot 2023-08-22 100537.png](data:image/png;base64,iVBORw0KGgoAAAANSUhEUgAABNUAAAFgCAYAAACc6U9zAAAAAXNSR0IArs4c6QAAAARnQU1BAACxjwv8YQUAAAAJcEhZcwAAFiUAABYlAUlSJPAAAI1WSURBVHhe7f0PcFTl3f//v/x9+h3i1K9ivy1N7lv5GEasWFDCn1sSoQ6JeI+rOMOmOEOi9xiDvZHQKgaLkhRHTFAsAWkJ5W4T6dRmmZEmzKisc6uJY8GElj/Bwk2sOMQPeDcxepv4p5Mw9TP7O2fPtX+zu9nNPwJ5PmbO5NrNObvnz3Wuc673Xue6LvFZBAAAAAAAACBp/z/zFwAAAAAAAECSCKoBAAAAAAAAKSKoBgAAAAAAAKSIoBoAAAAAAACQIoJqAAAAAAAAQIoIqgEAAAAAAAApIqgGAAAAAAAApIigGgAAAAAAAJAigmoAAAAAAABAigiqAQAAAAAAACm6xGcx6aQcOXLEpAAAAAAAAIDxaVBBtdmzZ5tXAAAAAAAAwPjD458AAAAAAABAigiqAQAAAAAAACkiqAYAAAAAAACkiKAaAAAAAAAAkCKCagAAAAAAAECKCKoBAAAAAAAAKSKoBgAAAAAAAKSIoBoAAAAAAACQIoJqAAAAAAAAQIoIqgEAAAAAAAApIqgGAAAAAAAApIigGgAAAAAAAJAigmoAAAAAAABAigiqAQAAAAAAACkiqAYAAAAAAACkiKAaAAAAAAAAkCKCagAAAAAAAECKCKoBAAAAAAAAKSKoBgAAAAAAAKSIoBoAAAAAAACQIoJqAAAAAAAAQIoIqgEAAAAAAAApIqgGAAAG72ClLrnkksjp6Rbzz/Ovc3d+v/XL391p/gsAADAWdcpzT+T9yyWXVGrs3GEh4IIPqvW81yTPz1cp//YcTQnLcBkz8pT3wBpV725RZ5+ZGQCAjzzKD7texJ4ydENu4DrSpLZPzbIAAAAXqZanY90TDTzxYxXGsws2qNb3nkdrcjN05bQ8Ff60Wg1vtKjd/M/WeaJJTbuqtKogRxmXTlH+z5vU+bX5JxKK9at+5UHzTwAYFzrV9lbgOpKnG76TobxHPWrrMf/GecM1CgAAAGPFBRlUa39llXKnFarqrWQj4u1q+Gmesm6vVMtX5i0AAJLWqaathbph2p2qOkbzZwAAAAAXYFCt72ClCu+uHtSzxJ1vlStnUZVazWsAAFLS6dWaO4rl+dC8hjSvTD6fL3L6Wbb55/mXvqy+3/rVL0s3/wUAAAAG78IKqvW1qOqh8hgBtWyVvNCs09295oa5V91t+7R5aab5f5iDa1SylbAaACDM0jp1hAdevuzW6ZY6VcS6jnR6VLiMH2gAAMDFr6Il7P4ozsSPVRjPLqigWs9rtSo/Zl4EZVsnepO2F2Urc2KaeS9NE693qfSlo2r8WZZ5L6TluXo1RTy9E39kjc6DHlU+kKecqYH3pyjnnlWqTubR06871bq3VmsilremqTn+zq9rX2tX7O55Eo300aO2vVVadfcNyoh439LnfF/Vz9do+e15ypuREfkZGTco7/Z8rfq5R03v9f/mQD81GQUN5p2Q8uywz7GnezzWWkbr8++vqpX5ysueEja/tc9uX641u7wJO/tO1E9Oz4kG63Pv1A0Zke8DwIi4bKIy5xWo7KWTOvnrAvW7VTy4RtV7E3Sw1tOupt1WWX1PXrDcsid7EJ38lVXyHBz4GtL3UUvMgXj81xDrOlS+q0GtHyZ+FDXeYD5TsvO0/KfV8rzVpp6w/kYHVQ7HGP2zX4fF8eax9pP3l9b65Qauac4+Wv50Q7/+6wZ7jUq1D7Z4+93ZZ7Xyxrh+BiXYFz0feFVtXR+D9wPWccxfWa2mgbMCAAAXhg89Kgy773GmO1X7gfl/uE+9WtVv3hzrGh26t+l5zyvPL6tUbtcvo++HrMm+Nvvr1Xtb4w9OmOjabN3b2HX9wL3NlGyrrvzL/n2xB2ICofmWq3KvdQ9l/h9hGO55Bm0Y7j8xCL4UHT582KRGW4evbql89iqHT1kbmn29Zo6Yvmz0lab3X67k5W4zgy3WZ7t87qWZUe9FTtk/3uc7bT4hWvfrZb7cGN8bPaUvrPA1h6+KX6z1qfA1ttf7Shem93u/2SzlO1vnc0f8L/EUvf4dHnfM+WJOS+ustQzzSaOvrN+6xZoyfe7nmn39NtkS6/srmk776lfn+qwKbeT7LWYhAEhVrLIyukyL0OtrfCxG+XZHTYxrQK/v5AvFvszoeWNMmUV1vtP/MIuF+/Kkry5GuRdvcntirPknzb7NA1zDgtN99cFtH1Q53FIR8b499VunGPNkLXYnvk6mu3ybW0NX+MFeo2JuU8xrSLev8WfJ7ffMpZt9zZ+YxcLF2hcvNMbcf6Ep21qfhHcyAACMiuYN/a9Tqda7eq1rYXbUZ2ieVWf90szgd9pXd1/0vVW6r8ATeWcVa33iTlH3DUGxrs079iW81/LX0e31HeB+Kv0+617O+ZaQYbjnccSOCQTr/hGG4f4Tg3bhBNV6G32l/TJFlpX5zP8TaN4QozK0ITw7xg7YJTO5f9e/SnXaU5B0Zcg/WYXM0YhzKNb6pPvSY56Igw+q2VP2xqPBoOSgg2rtdb6CJAKI4VN2jGBorO9PT48dqCOoBmDQUg6qWU7V+HKjl1GBrz5ioV7repMdNU/iKT0soOWIdZOZeOoXwEq1TB4gADVgORzrZjWJoFpS08yy4E34yAbVUt/v/SsIlsFuZ3qZrzFGPQAAgNGUUhArMMW4hzr9u/7X3vD6X6z6cqz6Ycrrk27dm501CwcM8tqcdV+xzzXg/VR6VGMdyzDc8ziSDaoNx/0nhuLCefyzs1PtJhmSq6zrTTKBzOutqlC04+0xHl8Ml63iX+zTyU9MP23/6NZRT4n1bqSGn9ZGPkp6rEqFBZGPRmb/uE5HPzHPnNufE/0o0cFyle/uv3WROu1dMKC06S6VPFenxrYOdfea77Qnf/9ANSqZZ2Y0WtbVqdmsf6AzZ6sC4rwRxqqAhD7Lnl4KbEOnPD8tlCdi3dJV8Ouj6v6HM2/v2X0qi/7e9W6teWXgdq6dyWw0AIy0a2+wrjjRPGoLG7Cg55U1cq8P7/UzXa6NjeoIlMW9Hdr3RORVpPPFEm1/K+wxh72VKnwxvNxzPuP0l+Yz7DK1+7SaPRVyX2tmidCqqmXRZXLgOhTod9T6jPZm1azOjbwWxTFS5XD64jLVtZxWb/Ba0aiKxVFrdKxSFXuc6+PgrlHJ6dy9Jmq/W993X03o2h3j2NnXbvdPvXG6cUhRZ6W8++M9twIAwIUl877Nqrsv8kps1//K37CudR/UalVUfVnzKlS1OluBzpxCMpVdVKqahqNh/afbU6+6O05q30ZX5PW+06Pq1waqVyen9cVaeQe8Beq0vq95wHuBVO95UjEc958YImtHp+S8tVSLGfGN1/wxSqxlIyLqqUSBs6LmSw/7xbvbt++h8P9ZU8zHg7p99UVR8y0Kny/W+rh8FQ1HfVZhYuYZnO6XS6I+N9dXc8r800juV32jdbMvK2peFdX3f7zzVI3PFT1f1L6J9b2uDfW+o+3dPqsAAoDhMZiWajHL5fCy8ahv88zI/6U/1tjvF9dY8ylsvv6/yOb6treZf/bT7Wve6PIVhLUK624ojlreWo+H9vUvkw27q4LsAVp1DVgOx7jGJtNSLeZjq0kcm5SuUZaB549xTFTsq+/3eOdpX80d0fO5Iq+hMbYzfWGpr6bldGj/fXLUVxOjVVzur/vfLQAAMJqGq6Wa35fNvop5UfOm5/py+71X4KtrN8ukLPF9lV+sa/PiMl99q3VvY2bpbq2J2co/+8c1vub2wFy9vo6XS/vXfdMrrLUIM2z3PMnEKIbn/hNDc2GN/nnepSl7ocukAzrVdNxElPuOqulXTjIgd0mu+o8dN1FZC6N+aX+jdYAOCnOsz8oKG4whsb7ONrWED1pgTXZnhVfeXW3mCGhSZ4LBAwbS+lZdvxHwSqxtnmjSQdfmyr3IpANe86rlI5OOI2eRW1nXTFTaN8wbADAWfXBU3qiBdAoX5cT4xTVLOYtNMsAu/00y7RvR7auatGrhDSq0BxV4rUmtH/aoJ/jD4kRlP7FPdcERt3rU/EatSQdkac2PXP3LZGPiogo1D9Cqa1TL4auylb/EpAP2HNXJkfwx9ViT6qIHQXrIrdxvm3RQpv+aHskr76HEP2PnPLhGxfMyQ/vv21kq/lGxeRHSRMtsAMDF5LJslb1Yo4jac2eTmiIGC8pWhVVnLbjGvIynr0ftx8IHLbDqt/6B8WZpTfQ1/MPOAVuO5SxbJfdM697GvJ44s1irHjQvwtxZUKzsa0KDIaYvLlThTPMywLp8D+o2ZTjueYbp/hNDc+EE1dIz1f+Bj271JpHpOs+eNKlhcNUN/dYjeCP8XqtV/YnU9KPwUTBD05R/ix69rEM9X5nkEPQcqNby3AxdmnGDctzLteanVap9wyq8rKlt2O/Xe9RxKjqkJmV8J1b1LVM3RD0CKjWofYCgGgCMDR1q32+SQemSCZT0tPUv/6tuvzRm+Z/ztJkh4Fhf8GYs64411m1PlM42/2iUha48zcq8UldeGm90qna1hbf+93MpJ/rmb0zLVOZ0kwxqH9KPPwPpOdve78chZVwZMxCZOS26EwjrSvbBIB4zuab/vQQAAGNRRXQXC9FToh/nri3Wdk/8/2dvrFbpvASNRr5qU8PT+Zpy6ZWaknWnCn+yRpW/avDXbZsODs9jngFpV/a7A4shQxlTTXLIhn7PM1z3nxiaCyiolh6jxVeTWt8zyQTa34vOapYZmQl/mY8r0S/1fX39b8yT1qz2IQa92ncXatqCVap9a7R+7e5TTyoVnf/H/AWAC80HR9XUr2jNV5bp16zvqw4nMSgn1RH47Jklqt44cF9n7QcbVP2TPGVMW66GYL9u1s1R9K+1utT8vYCM8rUipWP3jQtwfwIAcB5lLitX+XzzIkKJyn+cFaNVlfFViyoX3aD89Q0x+lYffhnp/aMNI26I9zzDdv+JIblwgmppN2jWUpMOalXdKy2JI6xfNal+R//cUjJzmkml6NOOfid1+jdMUfANf7uFQbLWMaLFQYo+bVBldIePypR7Q532tVgnTHe3f+CCjhgdPA9emib2ezwmgX+YvwBwQelTy++q+/0SqKU5mhVozhS4DgxKn/qC5X+asp9oVGtLnSqWTRv4mvJBrfI3NJjHHNKUdkG1SoulR9397g+t7RrBR0/TLsswqSR83WsSAAAgGe27K1RxwLyIUK2KrfHr8q2/KlF5xKOiVl17YbG2NzTqaLtVt/UPXNCsCvO/C88w3PMM2/0nhuIC6lMtXa5l/fsgaV1fqqqD8U7FHnk3rFFVdEwtvUzuRfF6mEmsp72tX2u0/Okmqn1tlvKdVFDur0/3byIbZ4oeITMVfa3Niu5Jx/27RtX/rECueVbFbOJEJdkdWwomKmNq/2ayHZ/Eeoq9Xe0nTDLIrcyrTBIAxqj2F4vlfjq65E9XyX2hEafSp87q99hm6evho1QlmupVEFUWps8rUJnnpDr+0avu9qNqbKpXzc9K5JoeI8y2q0nN/mI3U/2fTmzSyQ9M8oIQ4xHWmbOUOfhfrAY08erM/o/cdnSbQGWkduseIJr72vPwyzYAABeAvoOVKuzX8CPEHhG0eHesdmjtOvpG1L3XzDI1vFzj77/b7ut14vBXbkfZ0O95hvv+E4NzQQ1UMPGOElX0Czy1qDw7V6t2tag92Htzn3re86rqnlm68+f9H8jM/mm+cgd1Drar/jfRoati5WabAN3EHOUWOcmAph21ahmgr7SeEx6tyq60tmTwej7tXxjNmjp8N/q9caLYWQsL+53I1Xub+ldGPmhS3V6TDrjDpWxOZABj0Vd2h7gN1nVkiqb8W4ybwaVVKl0c9uPMzNx+HddW/WbgxxU636rUncHP75Tn3/JU/lpn6Ffbb6Rp4jVZyl1o3XRu2K59x5tVF92prbrt3gcsE5WzKPrHpyZV/y7+r8A9ByqVc0/8m93R1vdGnTZHPcKaVWDdPJt0PPGuUUmJcexk99fSr3uDdjXtju4P1SXX3BGM+AEAcKH60KPiJeWRddyZJSq5L/y6ad37FBSqql/3FZ3qfMMkA6beoMzLTPoiMNh7ngjDcv+JobqggmpKy1Lp1gr17ya4RdUP5GjKlYFO+S7VldPu1Jo9MbLTvM2qXp1MVu1Vd1gwrO+jFtX+pFDLXzNvGOlPFMgVfARyolwro9bvmFVhycpX1Wtt6gwN2WZ9oKmwFdygaTMKVR3VtDVV6Vf3f5x1+45atQYqBV/3qf1grTb/ptm8EV+sz6r9ddhnhZtZqDXRj+XusgrL37QGR6jr+8ir8vuWy+u8NNJV8lB+jH7yAOA82FOojPAOXf9fu0Pc/NjXkfQC1T1XEFV+ZalwXVRHvNZn5uSuUe3B9siBaL7qVNtbtVrjmqKM3HJ5wyNefU2qdGUo07ouVO62B5jpCQuI9annWIuao1fpDusGzHxxrB+fWp92685HPVYZHvZJnW3y/jxfsxZE3eyOpq+6Q9v2dY/aXqtU/r9VRd3guVSyJPKandI1KinWsftpdNcItSp51P7MwIWsU951Me4BHipRvulXDwCAi1F5dtj9UZwpf3d0eKZdnvWl8kS8na2KX23W9o3VKoi4YWrRmocqoxqipCuz38iY27U97IfHvk/te5nN/Z7WGpMGec8zsGG6/8TQ+FJ0+PBhkzp/ul8v82Vbq26vfipT+sIKX/OX5kMidPjqlsZeJuE0L9bn9fpO/rrAZ2Xs2MvEnazPMp8Qe33C/x9Db7OvYmb0MslNFS3mMwK69/lK0mPPG5yW1llrabTX+ayCMfZ8cabsDc3WnorU4XH3m6/fugHAUJ2t87mjypqkp2uLfXXt5nP66fY1PpEde7lEU7A8Hcy1KNsqJyNL097WzT5XKmVyWHk+qHK4paLfMm5P8ArhiDHPwFO6r8Bz2nxAmBSvUclt02lf3X3p/eZLOMW6B0hmX9hi5UHruggAwPnUvCHq2pTkFHmt67U+p//9UPbGo8H6X+/rpf3qy+n31VlX45BY1++kpvB6qi3Ja3Ny9wtJ1NOH7Z4n2ZjAUO8/MVQXVks1Y+KiCjW11an0jmTbOWXK/VyjWl8vU/ZwNRmdV6J9u2N9XpqmPVin1qbNcqfy6/W1adaSQ5CWrdJdm2VVpBLIlmtxEtHviS6VbkkwNHK0awpUd7xRZQuTWcI6Fr84Ku/Psoe2vQAwqtKVu7pOJw/VqOAa81Y/E5W70auTnlLlJl2AWp98Wag0TEulYLzWre2HvCqLGoo+bWap9rXuU0XS18ixKF2uLV7VLouxDaleo5KSqYLftanxZwOPvGrLXLpdR18bxnsKAAAuEu27i+VeH9UOfmmd6p4IjfSZZtXnG34WWS/tfLFQhVtDXTelL9usfT/u/4xauPTFLrlM+sKV4J4nKUO//8TQXJBBNVva9QXa7D2t7rZG1T1XIvei7IhHcdKn5yq3qFTbPY06+clp1T9m3SinNHpYhRo7mlW3oVi5wY6h0zVtYbEqPM3q2L9drrgVK2vOhaWqb+vWyaY6bX/M+oyo9VP6NOu9YpX+ok6N1ny9p0pTe346Bn9F6vhR/zpnRwT0rPW2CiV7e5I9WTOX1ant1D5tf8gdtv02ex/kyj0jPTIo9u1cVTS1q6OlTpvtZeaFfU9gW1/Y5xyLH2dZpz4AjGWZyl5klXUPlZnrSIcatxRo2oCF10SnvG3v0NGGGpXZ5eHCqFE8r81W7tISlb1Qr6Ptvep4wW3+ny7373zWda1Z9S+UqWSpdR2LGpggc569TptV13TSmq9eJXPirFC6S2X+a+Q+/wAHsa6Rwc/xDHeAKjnu353Uae92azvD1s3aN+6HtmvfqTbtWx1/mP2Ur1FJsW5KNzSq/ax17e93X+F8bvFjNdpnXbNPv1SiLC5kAABE+tCjNdEDE8TsNiNN2T+t7tdlRcujJaoMDkKYKdcvmpx7hcXR91IulXpOqu3lcuWYt8ayodzzJGco958Yqkvs5momnZQjR45o9uzZ5tXFolOeezJUuMe89KtQs68sRv9tAAAgJQcrdUl2uXnhcHs6VL+M2zkAAHAR4Z5n3LlgW6oBAAAAAAAA5wtBNQAAAAAAACBFBNUAAAAAAACAFBFUAwAAAAAAAFLEQAUAAAAAAABAimipBgAAAAAAAKSIoBoAAAAAAACQIoJqAAAAAAAAQIoIqgEAAAAAAAApIqgGAAAAAAAApIigGgAAAAAAAJAigmoAAAAAAABAigiqAQAAAAAAACkiqAYAAAAAAACkiKAaAAAAAAAAkCKCagAAAAAAAECKCKoBAAAAAAAAKSKoBgAAAAAAAKSIoBoAAAAAAACQIoJqAAAAAAAAQIoIqgEAAAAAAAApIqgGAAAAAAAApIigGgAAAAAAAJCiS3wWk07K6dOnTQoAAAAAAAAYn1IOqh05ckT/fPX/Nq8AAAAAAACA8YfHPwEAAAAAAIAUEVQDAAAAAAAAUkRQDQAAAAAAAEgRQTUAAAAAAAAgRQTVAAAAAAAAgBQRVAMAAAAAAABSRFANAAAAAAAASBFBNQAAAAAAACBFBNUAAAAAAACAFBFUAwAAAAAAAFJEUA0AAAAAAABIEUE1AAAAAAAAIEUE1QAAAAAAAIAUEVQDAAAAAAAAUkRQDQAAAAAAAEgRQTUAAAAAAAAgRQTVAAAAAAAAgBQRVAMAAAAAAABSRFANAAAAAAAASBFBNQAAAAAAACBFBNUAAAAAAACAFBFUAwAAAAAAAFJEUA0AAOBi1rVfu9YWafG87yjju850s+tJNXaZ/wMYtMNbzHn1YL3GxCn1t3oVm/N82xHzHgBgxFxQQbWuvUXBm8HivdwJAgAG45C2mWtJrOmmW91a+siT8jS+ry++NovgvAu/BxjcVKSGv5kPu1gc2Rravi2HzJuRzlnzLJ7h1rrfvqrD7eZNy5kjZ/Q5+RvjVpcaHryIywZgzAq/B9uqw+Zd4EJGSzUAAMJ0vbdfB3bvUGnBLfre3Y+r8az5xzAbc60bcPE5d0g7f7rRX2mZvOx5vdH2kTo+/sRMu+T+J2c2AFHGYGuv0A8LBCIAYCwhqAYAGL/WesOCDM704ftH9MrzxZpj//9Ire69f6MO/90/N86jSUt29TtWgendnXeZue5SdWvsecZjEOncwVf17Ak7Vagn1xdq+rcm+N8HAADA8LiggmrhN9S1SyaZdwEAGD4TrpisOcueVfXOfPmvNCe26vmXz/j/B4wps1eHgoaPzjVvhnzcZfKta4Gmf8tJArBNkvs34zfgDpw/c/Vw4Lr18WrnB0zgAkdLNQAAYpi8pFjLTLrx2Pv6wqSBC0XX2VedxDekNCcFAACAYXRhBdUS9m8Q6vQwMIjBF+1vRo52Nc+l0i2v6tTn/n8DAJDQpeavPvtcfSbZ3+c601inpx5x6wczzPVmxi1a+uDj2tV4pl8wLtAvzuJN5o2XV+gmc/0KTuH9rAU7o0/cmXbC/nZiXD+/eO9VbYtY563yPyk4jNfTriP1/u8IjTr5ff3A7Vbphjp5T3TpnJlvVKSyD5LtTynJY2PvP8+GR7T01u+b+e39UKR1NW/qzJDuSfofKz+zXonyWGr9RJ1T15/qtWvT4yq+J2x/2ZPJ6zv3HlLXcAx88PkZNdZY3+O+JbTOVn5zvmO/Tn1m5oul65Aaqq1lXbOD63ezy8pvW+p1OImOCwP5Nbh91vcWr61Vo5XRD2wy78UYECK5/hHDOsaPM6iE39ddOrx3h9Y96NLN9rxmPZY+slUNR+J9+vDeAweW7Zdfq639+Lf4Z+1I5PNzbz9pPmuFvDE3/5wObHC28aZ4+/XEDi3yf4ZbnrDBOmKXmWZfZlnfZ9551uV8fviU8PwJ5OFgPpytxdbx8743yJ1gzuebVpgguTZqcdi6OFPiftai8/ZNty6zjsv+pM7ZkSu/MLackafA5KcZK9SQqD/Zs/UqMXlpsXXepXotT1hmxrj+DiX/xnKiOtds50YdGGjlg+VHrnY6N0lAPxdnS7XP/6KG9W4tmGedcOGjXbUfkmdTkX7wr4/IO0IdTwMALkLfuiJ2S5/P9utZd45uLnhEO3dbFf7A3WHX+zrwcq3WFczWokfqdGos9cnWd0Ze+xp5a5GejVhn618mGTTY6+nXZ9TwyGzd5Frh/47QqJNdOvXOfnmqH1Fx3vf1L9uOm/dHWSr7YEjsYIyz/0qr63TgvdAXnXrnVe0qW6abrX3oOTWq4cVBsLajZoXWbamV9+2w/WUzef2pFS7dNH9o91df/Gmrls6frXvLrO955/1QZcvKb853WJWqabGCK+d0avcjunmGSyUbrGWPhB7XPnPEym+bVmhxnlvPvh0vAnBGjWXW+pv8Gtw+63u9v31c986/Vku3mPdG0LlTdSqd/30tXvGkdr18yForw97+3RtV4lqopZv2J241O6R7YGs/hC3bL79usPZj1lW6uTr6vB25fD5h6o1y+VP1OtQWY/lzf9aBPU6ya98h88NApDNt5v3pt+nGTP9bI6RHx/c+GcrDwXx4Roet41d8a65KR7krgd7/PqSdD4bK4kDe7nrvTeu4uLXonq0J+gy9WMovJGeyCjbtlNvu96KrXiX/viPm+aRzx7Xt31eowcoOk5buVPWjczVSvXUOLf/GN91VrDw70bVVexsTRYbPWdeeamc/5BXLNd3/JtDPRRlU865dppK9kvt5r/70fmCkq4/0bsM65dkFRXudnnhxf8pRdQDAONL+vgLtHvJmXqfLTTro74e07V63tr3TpUm3rFSV94g+/G/TT8iZD/RHj3PNOWNV9n9YFbrmBPoHfWWteePunXo32L+ImX5j+nMbAS+suEPFr1+hhzzv6K9nwr+3f98mg7uentPhX9yvkt1W5XHSbXo8/Hv+21r2QIOqSm6zbt+t+9n/O7whrGSlsg8Gz9oPW5Zp6Zb96pq0QCvsfXg68D0f6a8Hduvx262daO3DUvdGHRjOwKvpay1RHnt4tvlfsr55m4rW79TvG4/or8HtsCYrr7/buFNF9udZ21K8ti4UDErF3+q1+m5rP1iVpjnLn9crh0MjldqDh7yx6ym5r7cz3Tn1RbVOOLP3Yf3wEft7J8u1frf+GDbK6YeHvapaPtfKbPu17Z4VES2VHFalaeMS3Vtjn+1zVRRxnKzlj7+j31cWav5InZABZ+v1qPsR//pNvvsp/f7AB/rQrEPH6cDgKV06sMWtlb+Pv4cHfw/cJe+qO3Tvf1j51b8fG6Lyq3Xe/vsCf7l05lz4eTvC+fyf5irvVid54L33nUS4E4e1OxDrOfEHHegXBTinM22mhdftczVwndj099S60wTzpMe9ge0JTTHPn5cf170r/iAtsfNv6Ph92Nrg7AMrh3rKfj9wy5ho5nwODciyTq+Yzw5NscuubQ+69NTxG/WkVda9Gzgu//2B3tjpDMbT9c7GOH2GnsfyC+fP1fnasn2lc/9x5Ek90a8VmpUvqtfqWbsF2fTVqt2U77+Wj5TB598BZN6lAtO/h+f3r8a/Zn32hvZucwqYgnvvGtFtxYXtogyqTb9/p/5oXfyfXDZXk68IxM4nWJWe1XqydIH/Vde2fTpAk2UAQExWRfvFjWq0k5OKVfSv0bdS1v+33e/cWM5ep9oXn1LB7Mma8A3nv5pwhabmWTecNav9lbiu6h2q71eZPz8m371JfzqwSyvyrtPlA/y8PKjr6bk/a98mpyWLa8M2PRz+Pd+wlp26QAXrd+tPx3fr4W+dn56+UtkHg3XunSoVb3ICNY//drezD7/p/M/eh5dPvU0P7/ytHvZnkB3aOaYHw5gk9/O7tbEkX3nTJ+vy4HZYrLw+aXq+NlY/7/zy31grb8zmDYmdaapzHrebtE5PVhZqztWhA2MPHjLdtVLVbzfrj8/PjWw1alXq162wHyGy1nHnXtWW3KapYaOcTrh6rgoqd6r6bvvVm9q0OzKgZB+nkm32vp+hh1/eq40Rx8laftJ1ylu+TsvmmTdGxBl51oZafuz5zUrlTb0i1Prjm2bwlO1OUKVxU/zAzGDvgc+9Xa0n9tiVx0la4Wmy9uOCqPxqnbcbGrT/7Z0qCvuFYeTz+WTdmDfDnzpx8P1+ld/Db9f4j/2c2fY8x1X/dnQruvd14m0nVZR1nZMYKdOL/Xl0zwY7/4aO34R/WqCH1z+q+faLrq3yxm0xOfzy1jboXVPWTQocl29coelLntIjy52XjTWv9muRdHGVX0jFhFute5q1zsA3hzet1dY/hQqbL15/MpQvnivVnLCyciQMNv8O7ArlLV3tBA8TXLPO/GedPHZi0motybvC/x4Qy0UZVJs8b4Gse5GYps5wbiikP+sUj4ACAMJ9fU5fnD0kT9kSLa22K5h2heIp5UWPnBj89XKGnnxuddwbywk336sifyuLN9V4eGxUOm5z36XJgeDfAAZ1Pf2frmDF97vfDAU3+rFbsd3vVJZHWyr7YHA+V+OerVZl36pnr9+kh2fH2Q/fnKuCImc/Nr4e9rjfhSjzOutssR3Xmb+lHjTo6trvJCZNSDCowhWaumylXGEjNZ7w1jrB72Wb9MySeO0IJuvOe1f6U13b9ltrGBA6Tlr2qFbenCC/jqQTr2qXfyMK9cyG+C0/Jt/9gFbYia6tOnDM/1Y/g7sH7tK+3+8w+2GTVieoPF5+fb422i3//EYnn0+93qy391BUn3CH9M4u+9t/qLVP/9D/A8aJhv2RFey/va9D/jfu0pzpI1wpnjJX86+Pt/NvdIJqlkPto3emz711gSbFLOsmaMYc0/LtxBl9HLFfx2H5hTATNOfRwA8Rx7Vt+cPy2n2Gnq3XE6W1Vr6wf8DYGT9fDKPB5d/kTLhlsR6yCw1rG3/1cqzWu8flrXnTn5qzarHmn6fLAy4MF2efaolkTDbNuY/rXJxf+QAA48Qml9NZbWD656v0vTkuldYc8j/SWX1gb8wbxy8OH3B+vdRtVkXNn4hjsq4zjwl5z37sJC4W8a6n/zRZN/p//pV2Pf+MGk6MXquMMeNzuw8sJ5k3J3HgcPJU89CW94wT1Bjjzn32vg5767Sz+kmV3uPWUmtyOsN36Vkzz8d/T/0Ga3JmoIJUrWe37VdXUh9xXAcaTKvIW27s/4h2mAlTAn1zndKZwKASYcfJdeu/JFx+JJ145w9OIMi1QNOjA/jhJvxvzTDPJJ762yByS7xz9vO/6PDLTjKl/TBK+XzCzAUq8qde0YkP/AnHiUN61f6wkts0d/YC5fujapGPgJ479RenBeT0ubouLBg7+v63rvYHKaxV/Pv5eew92qTJN5rUx/o8/PHNi7j8QrImy70+1L/aExs36lnTmnbO2t9qS9wfMEZP3PybtBlyLb/Nn+raVq/GqEFwzr3zin7lL0sK9dDS8/MDIC4c4y+oBgDAQKauVrXdh9PU2D9N9nQF+vbZGmMUtshpcaCD86/6YvwSejGaqyUbTJ9wR2pVknetGb3wSe3c/apV4T2jLy72HfHZxzplktvujp0vgtPdW82cPeoby/vl7Jva9uBsXTPtFi0uekRPbdghz9v7dcCaQgNRDN6k21fqcX8AukuNG926abIZYXBTrRoaD+lUrCjbuR59bAIo3lWhET9jTnMCozl+HtrPYcfpxskmEjzqzqnnY9N2zrsiNOJnzGm2SsyQlF8MZ2BmsPthtPL5Fddpjj8a2KUDbaH2UIFg5Ipb/8Vut6L599gV3+OqfyfUFvHUe04LyEl3JtOfGvwuxvILqbP7Vwt0YbFnq7bZrWlnr9MzJSM3MMFom/yvhSrwp+rk+c/wtpah1pqTHs7v/7QCEIWgGgBg/FrrNR0vO9OH3nVOZ8+ntmrpsvijSgUfVUvF2S7rNm18mLxkm/6wa51cgZH2/KMX7tBTjxRpad5sfW/ybBVXH0o8iuGF7DOr8m+SyTujrv8xybHmbL1KXMv0rL/fpMnKu/8pVXsa9MbhD/TX963JP9iDV487cw/ON+fq4d97tfFepzN8O4DiH2Fwy+MqKXDpBzOu0k3uJ9UQPtJg2KPGyduvTwItEgZ1nIbb5+oaRHckB7qGseXrYPfDqOXzybpuntNS5MDx9025cVwHXrKDZyuVN8+p4k+/xTwC+lLgEVArfxx3Amzu2YFWLRjQxVZ+YdAm3Fyi1aZDf1vRIw9o+sX0GOS3FmnJw84VJ6JvtvZX5fG31pyhh+5ecNEEETFyCKoBAGBMmL1a1TsDraw2qnhtfcxKe9o3A48CxBqFLc40giN6jj0TNNW1WrUH7dEXm7Rn1/N6sqRQ82cHHhk5I+8Glwr7jSx2kZgwIdgqJtbIgbGnXXKf18fT4vlc3irnsR9Nylf14SP6/aaVcuct0PSrr9DlV1jTcNU4vjVXRVUNetcePde7W9WVq1VkVWimmhOn650dKnE/rIZAEOqbV+i7Juna+V8x9mnsKThyY9hxOn8m6IpAK4hYIwHHmx4N9Gs2DAa7H0Yxn0+fs9gpP3/7Z/nbCZ/Yr3q7Bmw/+hnIf9OjHgE991cd2mP/4y7NiNPqGDFcVOUXhuLckRf0K/MosG1X6ZaLbKTXCZp/d4mT309U69V3nDuSYF+decVyDapwxHhDUA0AgDB2K6vAyFdde1aoJEbgZ1JGYBS5j/X5OOwyLBUTrp6h+a5CrVj/vPZ4j6ijrUlVS50oyeFN1o3rxdgRz6TJCuaQ/7nAM8i5v+iQqVTNX7tO7qud9IiyR8+dfZvcy9dp428a9MfjH+ldz2qnFWlXvZ4y/ajpiu/quybgdmYwLbe+9d3goADn7zhdoe/+k9mI0x/7HzcadWH59f3/TmENRjOfT58jtz/xpg6fsI73sTf9rUqK5t0Y1ook6hHQU8edFle33qY5BHySdzGVXxi8s/V69P6NOqxJcm94SkV2MdW1QyVxfmy8YE2/S0X+oau7tG3PG/ri3H69utO5xhTce1fwGgEkQlANAIAIZuSrYODnfj26N/IWctKMBfLfg6lW3ndGq9Lxf9QV1ZHuBelbM1RwX6F5UT/mR+IeVKVy0o26xckg2uXdf2E/5hr2iOXl34w/LufImqBJefeqyHTS33XifRN8uk6zlznnaeiRvxT803Waa1oh7LM+c8gGGRSbOqfQaYUV1cn+qAnLrw1Nf04+v45mPp/wPc0woxEeOrVfB162H8EvVt7NkaNtBh8BbfyLDpz+iz9PTLrlRirGqbiYyi8M0hl5zMAEk5Zu0Np/X6knf+t0j+H/sXHb8Yuolflk3XV/sVMG767Trup6+Qd3n7RaSxKMhAyEI6gGAEA/k+Xe9Ntgx+kNK1Zo25GwW8jMu1R0v1OZ96xdG3ocLY6ud7bq2Zcjq9vBR0gPnkn8q++1M8zId8d14HicOT9/X282/tm8OM/+9qq21RzSF1+b1zGcC/Zona+po9HyKVXhwZbDf4ldefi6S43/+YZ5ES38Jn2tnogKyvbTtV/bNr56flopDcTaF4HRXM/8LX5rsK7GN/SmSQ/Gid8+KW974mpan3nsaNL065x9ax7d8bdgO/GknhjocWLrPGkoq9Vh89LfssntnIddu2rlDYwKGq3rLzp+2qRjuG56sZM4sV9/iTNowxfvvaHGg+ZFlAm3LNZD/rLmuJ76afy+HB2f69Tex7XriHk5LKz8eq8JdO/eoh0Jfij44r16rbPOb8do5vNJmnPrAn/Ku2eHvG9biftv09zoOm/gEdC3rYrx7+v9b7lnBtpdpSDs0eK/nBkbZ2baN4NrFBrBdkRcROUXBuGcDm9ZoVL7+cfpq1W7Kd/KEVY5NXulnjSt+A9vXKud4fdEF7jLby/UQ/5r/pt6dlOd/728tfdqPk+NI0kE1QAAiMXuOP0/zJDyOqRn7w/ry0lXKO/hTcHh5ktcbj21+5DOfB52k/n3Lp1qrNW6gtm6yb1Rp/6ved8I9hHUtVFPbdkff0TMK+YqzwTwGjdulOfE58HAwbnP3ldjzSNaOv8Wle4ZK1Wac/pLmUvfm7/Mqny/qVNdofXVuc915p0dWrl2h//lpJJC5TmbNsbYj5GZR4C3PaOtjWd0LhAk/PsZHd67VcXzv697twWCC/1dfvujesbf2tEOyt6hpevrdPhs2L74+py6Tr2pXWuX6eYZbj07QEDp/JmhvFXOvjixYa3W7T0eyqtmG3Y+aOXxgq1hwarU9X22Q8XzZukHK7aq4cgZfREWWDrXdVwN6x/RJjuQotu09u5An4aW6cV6Zp2p6G1y6QcP7lDjqa7Q8bL2+BdnD6nBqiT+wDpPSmoi291MX7bOPNZUr+Llj6vBOr8CzvmXK7KOzzLtTNCC7PI5tzmfYVXINlXV6cRnwTNUX9jHuNStBbc+4vRLF9MMFW00g6Qc2ajFeUXa2fi+usL3wedOviu5NcfaR7XD3nroctejpnXucW1zW+euXZ4Fv9/ejv3yrLe3Y4V2hX35aObzyTNvc/o+anzT399RUd5cXW6/jhAIlNoj09qvizV/5iBqxlfcqDn+lnGSd/36yAEyzpPLp8+V01jzVT21sV6nEgZfh+biKb+Qqq6XH1bxJvvaNlePP1eqOd903rd/xJjz6CY96f8BIPqe6EI3Q67lt5m0rVAFLtq3InkE1QAAiMceUt488uAPnv17WCuSf7pL1W836OFbrIpH137tfMSlm6+7Shnf/Y4zTfm+flDwuHY12r/yT9bE4I2pMbvQVFrsYIBb35tslrOnB+vDfvW/QnmrNqnAHknTWofSvGt1jZnvmmm36N6yN6QlO/X7TXc5s59v35gg/0OC7VaFq2yZfjAjtL4Zk6/VzW67RZK1R5Y9rz+Ujt1Rtabf+5Qet4+tVXnYVjBb1/yz2YYps7V4xUadmPGUXvnNamfmmCbJtb1Zex61R7Ps0oH/eESL54Tti3++SjfZgcffvulvqTj58rH7mMn0e62K1O3Ovti1IjeUV802PHX8Rj3ZsFMPO7MPStr/cirwp/ZuVIlrtr43xXyHNV0zI1cl/7FfXZMW6OGXdjrnQtAETX94r/74fKG/NcWZl5/UvfO/Hzpe371K35vjUsmmep2yTqpJ15v8GfCt2/yPNc23v/5IrUqs8yv4vf7lXpXuXqmiW53ZY7I+Y0Wl8/1dex7RommBcsD6bvsYvy65d+7WRhOkiWXCzNX6w4HnnW1rf1VPFdyim8L3wXVOvmt4z96I6zThfznLDR+7de5eVS2zt8I6znZ5Fvx+ezvcKrWPgZWbp0Y8BjyK+XzqDM03yViPfgZMv9V5BNTv1hmaOqivnKQ7S8LK/vlhZbs1bRvWloJJsq45q00A2X4E7wdh+SPju0MLavd38ZRfSMHZej1V5tx/5FVZZfrs6Cv0DK0I/NhonRdPWeXqAO0YLxiT/7VQBSY96eF85QUGkAGSQFANAIAEEo4I+q0FerzhqN717tST99+l+df753JkztX8ZStVtatJ7545oip/UCKcU2n5486VcgVHxbTevX6B5mdEVVCuvktV//mOatcWak4goGB9vuv+Z/X7g1bFZ0O+ZoyVOs2ku1R95r/0xq7ntWKZtS1h+8TeNtf9T6na+1/60/OFVuXc/GMsslsqvvSW9lRalffANky6zjqm65z1/81KzfnnS53347pC89c26M+tXlWvL5brlsBji7bJmnNroVY8v0tvtH6kP1XdFva/MeabVkXqxWa98Xx4XnXW//GdXr17YJdW3DJZA+2NRKY//F/664EGZz/dOtcfoHIE9tNu/cn6/+O3xsroEzR12fP6U9s7+r21jgURy0/S1FvuUtH6ndpz4AO9+/bKUMDFsM/xPY1eVZXcFXF+hY51ieYMcH5Nvvt5vfH2Lj2+LPTdk2db31vprPeTS260ckNiE6YWqspaxz96nHMnuC6W4LnT8I7+2vqOVsw0/xhO37xOBc8fiVGehfbhK61H9cd/D2sp6DdK+XzCjZp/v0kvm9//0c+AwCOgdjJv8P2p2YHOV45bx846FoERaJ3tWaDLhz2omQw7gGydbw1PqSB8H9t59dbLI4PFw+IiKb+QnL8f0rZ/D/SjtlMb741z5lydr7XWPYd9vOMN5nRB+vxzOR0czNBDd4/dH/wwNl3is5h0Uo4cOaJ/vvp/m1cAAADAxaxLDQ9+XyUvW8m1XnU86rQWAgBcDM7pwMZZWmqPUJD3vP7kcVoeA8mipRoAAAAAABh/PntDe/1DfkoF995FQA0pI6gGAAAAAADGnTPeOnnsxPR1WpY3VvrSwIWEoBoAAAAAABhfzu2XZ9Ob/mTe8nzNoTM1DAJBNQAAAAAAMK580Vgv58nPQhX8Kw9+YnAYqAAAAAAAAABIES3VAAAAAAAAgBQRVAMAAAAAAABSRFANAAAAAAAASBFBNQAAAAAAACBFBNUAAAAAAACAFBFUAwAAAAAAAFJEUA0AAAAAAABIEUE1AAAAAAAAIEUE1QAAAAAAAIAUEVQDAAAAAAAAUkRQDQAAAAAAAEgRQTUAAAAAAAAgRQTVAAAAAAAAgBQRVAMAAOp6p1brHnTp5u9+Rxn+abYWr39TXeb/59Xf6lVs1mvbEfPeBaRrb5HZp1t12LwHYCw5pG2mjCneOyZKvREyXrYTAEYPQTUAAC5ioYBOvErUOR3e4tJN7se16+VDOmPelZU63PG59bdLDQ86y2d8t0gNf3P+i/Fl4HwEhDmyNZhfMrYcMm/i4hF+XeDHAgDjG0E1AADGsXNHduiJTXald7IKnm/SX898oo6PzfSbfE1yZgNwkTu8xQRJHqwfGy1UhwGtRMcXjjeA84GgGgAA49Y5Hdq3USfs5LKn9OSyGbp8gv8fAAAAAAZAUA0AgIvYpCW7gi3PapdEtzv7WF3tTsp1y4263ElGmST3bwKt13bJ/U/mbYwrifMREGX26mB+6Xh0rnkTF4/w68JqzTHvAsB4RFANAIBx62Od9ZrkN9JMAgAAAEAyCKoBAMalriP12vaIW4vnmX6Evvt9/cDtVumGOnlPdOmcmS+gX18tnx2Xt/pxFbtmm/dna/EjW+V9z+7cfwBdh9QQsex3dLPL+u4t9TqcTGdG9vJbHtHS6OWtdW88FfX9cUbOdPpPculZ89q74vvBz3KmUJ80yfZT80X7m/JssNbr1sBn2fu0SOtq3tSZgXbL1106vHerSt236CazDje7rGWrrX3S0WdmGoTPXlWp+bx7d4eGYYjtc3kfcebNeORVfWHe1Wfvy7t7h56y8kv4PnfW0ez39iSOeyzBDt0TDwKR3DH4XGca6/zr+YMZZh1n3KKlDz6uXY1nQtszGEmMwGof/11ri8KOv7N/itfuUMM77+uLr82MKYru6+vc3/ZH5jNrG+9dW6sD8c6dGOv+xXuv+s//0H7a6jwGHW4I52mq5Uu4wZxH/fJHv/PJ+oz7rHzwTv8VDyy7eJN54+UVwXMwOKXcz1riUSaHsr5JMefVTSteNW9s1GKzPqFp4PLMzs/BYzjPZR37VxVdxMYypLIwSXYe3hm+fvY1yDrXd3qPp3Sudb1jlxmhkZ9vunWZtZ771RXjM4LnYvg0QN4Y2r6wyzR7ZOr+ZdrOvYfUFTiRhuF4A8BgEVQDAIwvX59RwyOzdZNrhZ7dvV+HzeOPVtVCp96xKuvVj6g47/v6l23HzfvRPtbx3Y/o5mm5Kt5QK++RQKDmjA7v3qjiW3NUsjde8OacTtnLznCpJGJZa+kj1ndvWqHFeW49+3a8msY5nagpcpbfVKcD0ctb637v/Gt10yOvjnJH45/rwCa3FsxbptJqa73eC3y7vU9f1a6yZbr5Xx+R51ScUMLZN7Xu7u9r8YqN8rzzfnDdzxyxlt1g7RPXIwo0qEvZtxYob5mTbNy7P2x00xj+9qbqdzvJIteC0OOw7ftU/MiT2mnll/B9bgvu93k5WrrtUMJgyYj6bL+edefo5oJH/Ot5KngI3teBl61KacFsLXqkTqf+bt4fVp/r8Dbn+K/77athx9/ZP97fPqkS9y363lDz5dcf600rn/1Lljsyn1nb2Pjbx7XUOi+2HRngCPSdkXe9ta63FvnP/9B+sv5lkkM6T4dUvgzxPPLrVdefdqh4fvT5ZH3G61Y+cC88v/m0nzG4vp//RQ12HjH5OXgM2w9Zx75IP7COgfesea+f4TiGAzHfYeXhp8LXz74GWef6U0W5+t7dj6sx7joaf9uvbfd9Xze57TIjNPJz13tvWuvp1k13b9XhIZUXQ78uPOUv0+yRqfuXaU+tcOmmybO185h5HwDOE4JqAIBx5JwO/+J+ldgtlibdpsc974RGu/zvj/TugQZVldymydacXf83Xusoq6L3yBuafO+z+v2BD/Sh6Tfow1avNi7zL6mGFSu07Vj/isKZvQ/rh4/UWZWXyXKt360/tn1k+qSxlj/sVdXyudbiVkXnnhXyBCtKAed0YtsSLSp71Vp+kub/+069EbF8k2rX3+Ws+98HrrDNedRezqvHzWvXzv8KfpYzJdtPjrVPtyzT0i371TVpgVY879WfTgc+4yP99cBuPX77JKtCWqdS90YdiK6k/f2Qtv37Mu2yWxDNLlaV94g+/G+zvDkm1Q/fNoRRSK9Q3tLVzvJv18rbrzlSyJm3/+AE7yatluvWK/zvBUxdslJVu7z64/HQMbenD98/oj3r7PXr0oGN9+vZt0e1+u+w9+G9bm17p0uTbrHWM3wfnvlAf/SsU561A87sfkQ/rNo/7AGKrr2PaPFG6/hrroqij78/X+Zrqn0Azg3xm71PqnTL/9GctTv1yuFQ3v/rgV16+Bb7Cw7p2fsfljdBi78XVtyh4tev0EPh575/CuX3wZ+nQylfhngeBW1V8d1P6sSMp6zy6b9C+aCtSdX2evvz6RbVh613oL+8V9aaN+7eqXf93xs2jdhIwKmvb1JMn27v7rzLvLFOr4Rvj3+KXcZ51y5TyV7JbR+D9wPH3jp+Dc55ZB+DJ16MdR4N1zFMJOw7rJxUUBn2HVYe+5P3eRXNtmY7Uqt7/z1xUMy7YYWePfUvenxn1Gd4Vmu+vZ1HNqp4bWQg3LluOFMwv8Q0xH3xt1dV4lqmnXZLxcy79GRDVJnW8LxW+M/5Mzr3f60/QzjeADBUBNUAAOPHuT9r3yanhYhrwzY9nHddaLTLb0zQpKkLVGBVov90fLce/la8Psbu0sa3m7Wnqlh5U69QYPEJ/2QHFH6rJ+0KjV25/+0bkY/bWZWHdSvsx2Qmyb1zr2qtyvXUb4WG2pxw9VyrgrRT1Xfbr97Upt1Rlbb2P+jZjYf8ybxNe7VnQ76mRyw/Q66SXda6N+jxzND7I+3cO1Uq3mSv11w9/tvdenLZXE3+pvM/a610+dTb9PDO3+rh6dbLrh3a+XJ4S69zOrDtfj1rB9QmrdTvdz+rgtmTNeEbzn8Dx8R9/w+HVBmacMtiPWR/v47rV687+7C/4/LWvOlPTV+xWPPDd6FVYfvjzqdU4JqrqZNCx9w24YrJmv/wb1VdYlfwurTTu39oj1mmLGwfzl6n2het9QzfhxOu0NS81aqtWS3/IajekXqAIqEzenO388jVpLVPaWP08ffny53644F3VDVziPlyupVHjh9R7aP5mnN16LMun3qXHq/ZpiL/IajX1r3xWplKk+/epD8d2KUV4ed+uKGcp0MoX4Z2HoW7TY83/Jf+9JuVVvk0KZQPvjVD7nWPqsj/4k3tej3+PhpdY299p99v59cG5xhcETiA1vG7ZbWeLF3gf9W1bZ8ORDVUHL5jmMCJWj3l/w4nf9oB3uB3WHls8uxCbdy9WytMUOyJ/4jfym96yW69awekl0R9Rp5VjljXN//ptGeLGhL8EBHPkK8LNWvVYEfz7OvCf1rn6y1RZdothXqyodkql4vjDLADAKOHoBoAYPz4ny4Fbt2/+81YNWrDbmVy/wzzItqNmnF9ZCumEKsi+KD5pXz3AR0Kq3Sd8Naq0U4s26RnlthtVWKZrDvvXelPdW3br/Bq5OG9G53lpz9lrdt1/vdimrRAD6+7a4RalUT7XI17tvpbMkxfv0kPz46zT785VwVFTmW08fXQY0b67A3t3ea0gyjY9Kjy4u3WIZshl/n+rl1v6ECsWuaJ/ar3Vx5vU5Er3rGPZ4Kum/EvTvLw+6HtGw3BfThDTz63WnOCFddIE26+V0W32qk31Xh4ONfwY33ytpOa9M0Eg11ccZ0KSoaYL6dY5168D/jWbXL7o2rWoWzY379/NOM2912aHKicxzCk83TQ5csQz6MI/6Jb/C14YvjmjZrjDwZa23n641EO/sYz9tZ38rwFmhqnLJo6w9n/0p91KuLxyuE8hvGc04GXq51+wW5dp7Xx8ucVVhm27jZ/8sSmV3UoTlRt8owbNSnOuXD57fl6wH9Yjqv+nVQDmkPcF397Vbuqk7kuXKGpS551WuYBwHlEUA0AMH7802TdaOpvu55/Rg0nBuwlOWWTps71twiSXtGJYIug4zrQ4FRMXLfcmPCX9QlTbpTLnzqlM8HH2I7r8D6nkjHpzsDnjwGfH9IB0wdZ3pzEgajJU01bM+8Zf2XL9sXhA/L4U3fplpkjFlHzm3xLvvLsRNdW7W2MPu5OZdUfiLn7h7ot0/9mf1+f05kTb6qhZoeetTvkv8etpaZj9WAH2SfOhfXNNfJC+/A2zUmYMSbrOlP59J792EkMi/+tqwOBj+0b/Y+gxmsZM9Kum77YSZz4i84EMllKhnieDrZ8GeJ5lLxJmjzNJD/7fFTz6eCMwfXNmGyO+/HIp5lH5Ri+rxONzhLT8270P0Ycz+R5d2m+P/UHHWnzJ1J0naY7G6oTx/9Paus51OvCiUOmD82Rvy4AwHAgqAYAGEfmaskG0zfQkVqV5F3rH9Ftqb8T+ld14MQZfTHUiMC3vmsqO13q+dx82LkefWyaznhXRY4e2W+as8JUKKxKZGBdwpafk/m/ncRY8NnHOmWS2+6OsS3h091bzZw9we3q6XrfSciqIP6TSY6UzLtUYAYs8Lwe9YjmuT9blUCnSlewJFb/bZ/rxO5HtDTrKt2ct0wlZU9qm90h/9v7dSBsYIXzIbQPt8YY7S5yWrzFzPpV3zAGvibpzhXrnMdzu97Us+7v6xozOt+zNfVqPGLtn0H1HZW6y/+/75qUde4N5juHep4OtnwZ4nmEMWA0juHnH+uMyZ+TJwXyehzfvMKUY136S/tgSqgrdEXwdEoxoHkhXRcAYBgQVAMAjCuTl2zTH3atkyvQGqnd/lV9h556pEhL82bre5Nnq7j60LA8anTmM9NSJeyxsOTt1yefmeSglh8Fn3XpgEkm74y6/sdJdXXtdxKjImzAgt11ejWsX7Ev3t4n/xOUk1ZrSb9njZwOt+2RMw9Y80y6Pl8rnt+lPd539O77H+ivpiPzUAfZo2tQ+/Bsl4azjeaE2atV9/KzKgg8xmdG59tWtkL3um7RTVO+r6Xr60do5NFYws6dVAz1PLUMqnwZ4nmEMWA0juHfP1fSbUwnfVcJOglIzdtdqf1wcEFdFwBg6AiqAQDGmQma6lqt2oPOiJl7dj2vJ0sKNX924GGaM/JucKlwS/wOnpN142QTZPjmFQr86N9/lM3408OBvmLClh9TJkwIPor6uDf2NvSfdsltWh+k/S+zf0bJhFsWmX6C3tTedwLhk891wFvrT/UboMB2olZP+Dvcluas9Wr/2zv15LK7rPxynSZdcYUuD3Zkfn6kfTPweFWs0e7iTCMwkuPlNxerquG/9GHbO3rFs1MbHy2W6xZrH/n/a1Wy/2OFfri2fhBBq8G4S1dnmGQqhnqe+g2ifBnieYQxYDSOYSrXga6PFWjvNWR3T074qGk/Q70uBMs0ALgwEFQDAIxb9oiZ812FWrH+ee3xHlFHW5OqljphgMObamW6r0nN2b+ax8IW6Dvf8idkP0fzXRPFOGNVdlIWtvzhM8PZH9YQTZocbA3x8f+k3vZp0mTTuf+oPco2V3krnArbgV2vOn2otb8qj7//n9gDFJw59qbp9H6l1pbMHXMjzU3KCB4BfT6czc8GacK3rtOcvHwVrX1WtQ3v6N0z/6XfPzzX/7+uPeu195g/OSLOnP6LSU3WpP/PJFMx1PM0StLlyxDPI4wBo3EMrfw52USrBrwO/P1z07pskm7MNJk6JV06E+iL7epJSqlns6FeF4Jl2l/VNZhrMACMMoJqAAAEfGuGCu4rNC/qo0Z3S86Jw286iem3WZUZJ2l3+jx7mVOxOfFS/JEJ4wst3/XyYJYfIZNu1C3+3v+lXd6ofsqSEBrU4Q86MkobNd1V7AxYcKJar75zTmcOvuqM9ph3l+bHGKAg9CjSRKWNaKO0/6OuQTyyOGnGAmd7VCvvO2MwIDNhkvLuKzaduw+2f6dkfK4T75jBIu5foBsHdayGep4OIF75MsTzCGPAqBzD6zQ9L7nrgF2uOY9g/lCzA4M9pOKzP+udl51k0bwbldLpNNTrQrBMq1fjYYLMAMY+gmoAgPHjb69qW80hffG1eR3DuWCTqXxNvdokk3W2Xls3OKMH5i2/K/gIjKwqyfy7S5zO3E88qScGerT08/fVUFarw+ZlYHn/51nLb92d4CG6rv3atvHV1PrAGbTJuuv+YtNP2Vo9sXeAh/ui1236AuX7N6pLL7z0ZtzKV5c9mqNJD1lwwIIu7W7cIU+NEwQtuPeumI84Tb4236QSBL2s4/Vm45/NixRdO0NF/sRxHTgeZysTfb61PUX3OxVtz9q1ahggENz1zlY9+/Jw5o7j2rX+VZ1JlKG/7jPHdrCtZgZ27k/V1nlhpybp4bsXDLJF4RDP00GXL0M8j4ZJ8LG7g2dG6THdkZf2zcADk1YZEhxNeSSMxjEMvw5U61fxvsO6Dm3a6JRr09fepbkpB5jP6fBvrbLRTk5aLdetqY7AOcR9ET6oTFW1DsSNq32uU3sf164j5qVl9I43AIQQVAMAjCPn9Jcyl743f5nW1bypU12fhyrN5z7XmXd2aOXaHf6Xk0oKZRoFRHlDu2te1Ymzkcueatyqe13OiICTlu7UxmVRIZrpxXpmnfMY3OFNLv3gwR1qPNWlc8EK+Dl9cfaQGras0A/m36KSmqgQk738Wmd57yN36N5t1vp/Fqrynzt7XN7qIt08w61n2xOGAobV5bc/qmf8j7R1qWHFHVq6vk6Hw/fN1+fUdepN7Vq7LMa6zVDBWqfy1fXbh1W86VVrm5z/BJbb+eBs3XTfjmFsNXSF5ruK/amu6o3aZn9wzAEKHJPm/1BF/nxQpyce3qoDZ8P2+edndHj3k1pqHa/SPYMMcVwxV3kmKNa4caM8J0L77txn76ux5pEBPv8K5T28SW7/TqxXicutp3Yf0pnAyLO2v3dZ+bNW6wqsfeneqFP/17w/LPr0xX9Y+W6OlWe31DvHPpCn7WN4ol5PlW50Ws3krdOSmf7/DM7BP+iFvfut8zZ82+xj8Lh+ePdWfx6Zs/a3Wn3LEJoUDuk8HXz5MrTzaHhMn7PYCYR0bdRTW/YPfSTkMeDy6XNNK8lX9dTGkR0sY1SOYfA6YH/HEhVX79eZwDZZn3/mSK1Kl65Qg11czF6nZ/59btxWZodf3KhdjZGj856z8ranbIkW+/uRnKQV20v79zOZhKHtiyvkKt3plGkntmrpssflOXImdA7a19t36vSUO0c/WFEb8WPMaB5vAAi4xGcx6aQcOXJE/3z1GBrOHwCAZHW9qpIZRWowL+OZvOx5/b6yUFO/ad6wdO0t0k0rzONlCUy6/SnV7Vyp6WHLhpzTqd1rde8jdQO2BJl0vfU5b1ufY147PteBTUUqsSq8iUI4k+/drVeqbnMqyH+rV3GWE+yzO42O7FT9kLZ916VnrZTdMXvtEv8S/YS23e4Mf7XTkidCcutli1g3v3M6vG2ZijfGWXbSAj289jadKn0yzjYMwrn9enaO2xnx0zJ9fZPeKInfOfaZ1x9XyX21YS0Hw03S/H/foBWTX9W9ZbH30YD77+yrVkW4SJ6wEUlDzOdPsT5/bYLP+MzapuUrtO2dAY+ACl58TVW3xz7WccXNR8e1bUaunh3gayfdslrVNes0P9DPYAoOb/mOVck3LxKYs3y3qitv69/iMOE5EMsgz9MhlC+OwZ9HA5+jjuC+vHun3u03YEWXvKsWqjhWADfm/IkkLluGZ32TcU4nti3Roo3OYCORwr87ubJw4Lw0lLIwWWfUuP4RPfofCb5jdrF+/x/PKq9fa+vQdiZmlRO/2auqu+MPUTDwsRnavjh3qk7r7nskTrloTLpOT774jlYEg/XJHm8AGD60VAMAjB+T7lL1mf/SG7ue14plCzT/+tAt/KTrF8h1/1Oq9v6X/vR8rApvwGr9/uBuVdkj+gWXn6w5dxdro+eI9r8YL6Bmm6CpVoX6T23v6PfPr1TBrXPDAgCTNPWWu1S0fqf2HPhA7/YLqNmu0Py1Ddof+P7giILWGsxeoIISq7JuLfunQVXUhsJZrz+3elW9PnzUR5u1b24t1Irnd+mN1o9irNsEzXm4QW80PKuiu0P7Y/Jsa19UNujdww16PHeYxz6dsEB3mQEL7NZy+bfGD6jZJt/+rP5weLeetPLMVLPyTn551soLzdqzIV8zBtMxfsDVd6nqP99R7dpCzQn065Y5N/LzB3oC61sL9HjDUb3r3akn778rIm/bnzV/2UpV7WrSu2eOpB5QS2iGHm79QH9sMN8blieD32ufFw2DC6hFuPt5vWK2L7ifrEr1/GXr/OftK7ECaoMyyPN0yOXLUM6j4TBJru3N+uPOlXKFHUd73ednpPoI4FgxQdMf9urdhqdUEL4/7bx56+VKMy+Hz2gcw8nK22BdBxp3RZ4L9udb16End1rb+3KsgFqkx1+2rhUeJ68GyrVAubPnuFVOJAioJWdo+2LC1EJVHbDO651PWdeGsHW0z/nAdh4OD6jZRvt4AwAt1QAASEqyLSsADK+ht1YCMNw4LwHAQUs1AAAAAECSzuj9gyZ59SRdqO0YAWA4EFQDAAAAAMTQJe/GrWpsN8NwnvtcJ36/UZvetl9M0sN5/6IhDA0CABc8gmoAAAAAgJj62jfq3nnXKuO731HG5Gu1qLTeP/jAkEfbBYCLAEE1AAAAAEAMEzR5TqHmBzv+twfrKNTju95R3aNzaaUGYNxjoAIAAAAAAAAgRbRUAwAAAAAAAFJEUA0AAAAAAABIEUE1AAAAAAAAIEUE1QAAAAAAAIAUEVQDAAAAAAAAUkRQDQAAAAAAAEgRQTUAAAAAAAAgRQTVAAAAAAAAgBQRVAMAAAAAAABSRFANAAAAAAAASBFBNQAAAAAAACBFBNUAAAAAAACAFBFUAwAAAAAAAFJEUA0AAAAAAABIEUE1AAAAAAAAIEUE1QAAAAAAAIAUEVQDAAAAAAAAUkRQDQAAAAAAAEjRJT6LSSfl9OnTJgUAAAAAAACMTykH1Y4cOaLZs2ebVwAAAAAAAMD4w+OfAAAAAAAAQIoIqgEAAAAAAAApIqgGAAAAAAAApIigGgAAAAAAAJAigmoAAAAAAABAigiqAQAAAAAAACkiqAYAAAAAAACkiKAaAAAAAAAAkCKCagAAAAAAAECKCKoBAAAAAAAAKSKoBgAAAAAAAKSIoBoAAAAAAACQIoJqAAAAAAAAQIoIqgEAAAAAAAApIqgGAAAAAAAApIigGgAAAAAAAJAigmoAAAAAAABAigiqAQAAAAAAACkiqAYAAAAAAACkiKAaAAAAAAAAkCKCagAAAAAAAECKCKoBAAAAAAAAKSKoBgAAcDHrbFL1ynzlTL1El1ziTFOy18jbaf4PYNBanjbn1T0ejYlT6iOP8s15XnnQvAcAGDEE1c6rTnnuCdzg5svzkXkbADCCWlRpKhyxpowZecp7YI1qX2tTz9dmEZx3nbvzYx6v5KeL8Dp7sDK0fU+3mDcj9Vnz5GTkadWvGtTygXnT0n6wnfyNcYx7cADDJIlrMS5uBNVSxa8/AHBR6zzRpKZdVVruukFXLlgl74fmH8NszLVuwMWnr0VVD5XLvsXPLKrR0U965fP5zFSvgquc2QBEGYP3+6EfFir95zSAweMeDMOJoBoAYPza0BwWZHCm3u7Tan6hRNn2/w9W684l5Wr5yj83zqP0ZfX9jlVg6vC4zVxu1Z2NPc94DCL17a9X+TE7VazNzxUr69tp/vcBAAAwPAiqnVfpKnhp/N7sA8BYlDYxU9lF21XnKbBKacuxSlXsaff/DxhT5pWFgoY/84eBI3R0mny7JFdZ33aSAGzcgwMYJgNci3HxI6gGAEAMmctWqdikvYfa1GPSwIWi88MGJ/EN6VInBQAAgGF0YQXVYvRv0HnQo8oH8nRDhvN+xow7teqXTepMovPdzrdqtSZs2UsybnA6p36rU31mnhDTsfXVhTK3qCrPNsuFTan2u5Cwf4Rh3l4AQGqCgYhPe2JcFwJ61P5ajOvJPatU/Vp7v2BcoNzPWW/e2FOoDFPWB6fwPj6CHeAm7kw71etJz4mGiOvJJRmVavX/JzSQQ/5uZy16PvBGjh45NUfLn25Q2wCRxsA1KzTqZIZuyM3T8p/WquFYrGvtCEplHyTbn1KSx8bef7U/Xa68GRlmfns/5FvXb6/ahxSt7X+s/Mx6Jcpjqd2v9KnzgEfV61cp//aw/WVPJq9X7W4ZnnuRnnZ5f2l9T+4NoXW28pvzHU1q+9TMF0tnizw/t5bNnhJcvynZVn572qOWJDrNib7Hsr83f2W1vO/1qGm9eS9GJ9TJ9c0T1jF+oo6sv+5Uy+4qrbonR1Psec165D1QKc/BeJ8+fOesLbBsv/z6c2s/fpSgJByBfN73xhrzWdb9d8zN71PTT51tzIi3X49VaZb/M/JUGzZYR+wycxju9wN5OJgPpyjHOn4NJwa5E8z5nFEQXCPlhK2LMyXuZ20o9YeRK78wtrSr1mXyU0ahPIn6k/3Qo0KTl3Ks8y7Va3m/MnMo50xPmxr6lft2edWg1hjXi5TvwZIS51psDOv2xtSqqiznOzLWNQ14PFp/Psv53qwqc9+HIfOl6PDhwyZ1Hpyt87mtVbZXu+ylZt/mpZn+dKwpfWGFr/lLs1y0L0/6aoriL2tP6Ys3+45GLN/sq4gxX/RU0WJmT1KHx22WtdbXvBc0XNsLAAgTVp5v6Ffyhgmb76F9vm7zboRPGn1lC9MjyuPoKbOoxncyrHwOlfsJpqV1vg4zv6+lwrzv9tWdNe/FkOz1pKLptK9+da4v3bwOTYHlQtvt3rHPVxdzXjNdW+yrb/cvFOkfp311A1xn7Sl941GzwNCEtj3BPkplH4TPm+i6PuCx6fY1/izB/rMnax/WtPWa+VMVdqw8wRwTtl7xp9TuVzp8dUtjf07EFC8/JKl7f4UvNz3G50ZMBb76sE119PpOvlDsy4w5v5nSc31lr8c8iy2nfft+nB17uegpRpnRvMH8L/y87SdsH8Ypd3rbanzF15p5Yk7pvtyfNcYoi4bhnPWz9kOiZc2U+Vz0eTuC+TzsXCx9PcbyvVYZHMgzM617d/N2uNO/M+VD1P9jl5lh5X6CKfz8CR3/7b59ntIEeTjTV/zSabNUCpI4nyO2YdjqDyNdfmHMaa/zFQTy77zY55Ov96ivYp4zT/p9dVapkbrhOme6Xy8b4JqR7St5OXL5lO/BkhLnWmyMeBlhOf2Cy3yGVcZ/Yt6MJazMdL0wuO9CfxdsUM0/Xev2bfae9HUELgb/6PYd9ZT4ss3/Y2cU60b/PlMBsm+wGk76ugPXgt5u30lvhc9lMlrMgiLZG+0kJVsJ8k+D2l4AQKSwSlOioNqpGp8rUfn6pfU5gRvLhaW+mpbTvt5/mP9FX08ea7Sq/ZGSq4hbhjmolp5uXQPN9SR4/YsQVam0rpWlLzT7Toculr6OprBteyJ623qtbcsyy7p8FeHf8w9r2bZGX81jLicAkjCombxUg2oD7oNkr/UJj429H0ygJrAPg5XXXl932z5fxeLA/UiprzFuxTaRZG/kU60gROvw1RW5fCXP1fn2tZ72dYevq5XXO1rrfCXmXNAdNYOqZIXv8+wf1/ia20MHprf7tO9ow2ZfwXR7f/Xf16c9Babin+lzP7fPd/KTsGXbm301wYCZy1dzyvwjqNfX+EQg6GBVwCKOk/XfjpO+fb8oDlWCRiqoFlaZzVy62bevrTt0Xn152tf8Qtj93q+j9/BQz1lbh68+cH/s34+NUfnVOm8DAbeI9R/pfH7aV7PIWe+sLTGq+NY5GAr6ZPk2t5r3g6zj+5j5/88i93uyZeZA9/vB4++f0n25q+38Gzp+vWcbw/ZBma+x/85PSsL1DRe27v5pUPWH0Si/MBb1vl4aPKeyrXM9MruG5YuZZYNu0DEc50yvde4H8nBm0fbIa0ZEuZ9tncP9P2D4ro+2JK/F/mmEyohP6n3F5jsSxQS6G4rNegwQfENKLtigmmtDo68jUHmJ0Ovb92Nnnli/WHW/XGIKitgnmF/b9mBFqt+JkcJFNhnJXtAHu70AgGhhFdC4QR27Iha4wSnx7et342FXxM3/51nld5wby979Zb4s/3f1r8wnfUM3zEG17B/X+07HvJ4EhPZP1kN1vpNxGvec3JFrvs/aP+Hz9Db6Ss3ysW4ugzr2+cp2DM9VK9Wg2oD7INlrfYJj09tUNvD9xpfNvrKZzvcM7oex0QqqJSEYhI4V2BjY6V+b/JSeKGDQ7Tv5wmZfffi+Dn5vuq/AE28fng4GtKIDSqHjlOUr2x+vJpM4IJbcfk70Gad9NXc4/0vU8iPY4qpfpWuI56wlVJFO95V643yApft4na/kF6H1H418fnSLCdIv6b9vmjfY5XC6L3ueM09Wv1Z0R32bzXeXvBy5XcMeVJtZ4qs7HmffWXWLXPN50euRrMEE1QZbfxid8gtjU1jgLKpcTKoenYShnzPWeT1ga7lu377AfdxM65yJWt3hvT4meS0e0TIi7L40bkwg7FoT88cVDNYFO1BBzqJcpX/DvIiQplnZ1qXEdqxdHRGPJrer/lfVzrPMj1WodF6coeWvL1bpE1aRYWnYtc9a6vwb3PYCAFLydZ96PmxR7U9ylfdz+2qRrYq9m+WKHjnxU688z9j/z9LmX5Up+zLn7Whp84tVsshOeeVtGRsjiN5Z4FZmzOtJf5kLcjVtonkRZVqWdfvn16y28L5XPu0MXjczLotznbWlu1TxUJZ5MbpS2QeD0yPvi5X++42s56pVFu9+47JsFa909qP3lZYxcb8xaNfeoBx/olXtZ1O/GensbHIS6WnWnU08EzWtqFTusJEaW/dWW2eXpaha1csy/e/1lyn3g6X+VOczTWF9yISOk4rKtWZ+gvw6ko41qPo1O1Gs6i0F1trGlrm0RP6t6KxU02H/W/0M6py19kDDb6rMfqhW+R1xPsAycXqBtv8427wanXw+bbpZ773WekdkrRY17bC/vVAVWwut0tjKD57w42v5qE3Nx+yEWzlZ8bdrWEzNUe70ON9x/SwF9/4Ho3emD67+MA7LL4RJU/bP6lS31E63qnJpsRrsPkM/9KjkR3Y9Ol0Fnrr4+SIVgzxn+t6q12Z/v4a5qlgfr8ycKNePKuSyk8fKVb9/VHtxjW1Ey4g05d6zxl8O6thm1b8VY3uD15psrbknN8G1Fqm6KEf/TM+cZVId6vnKJG09bWr1ZySpZMGsBBkpTTkLC53kG9bF2X+XMXbF3V4AQGLrc0wnsWb6fy7VlZk5Wv7LFqUvLFVdW1PMG8eelibV+lMu5cz0J+LI1A3znFTDh2P8YpKqqzKtaqqtVX3h927W+7Oc36VUvbFcnmPj8NeenmY17XKSruzEgcPMaSZAsbfdCWqMcX2ftqllb62qfr5Gy2/PU541OZ3h56jczNPxVeqVl8xrAxX8zSp/pkmdSX1Eq5o8TgjFvTDLqkLFlzZ1lsmvbWoPDCoRdpzci3ISLj+SWt+qcwJBS3KVFR3AD5dmnVtLnGTb2UHklnjnbM9RNe9xkinth1HK52lzc1XiT9Wr9T1/wnGsWfX2hz1mlcPzclVol8XH6tTkD6I5+tqOOgMOzMzRtLBg7OjLVKY/SGHt/UGcHyMhfn3p4i2/kKxMFTxXpwL7Wt7pUcm6cpWvLJTHOsjZGxpUG/cHjOEU/5xpO+Z18ttMl2Zd638rtmtzrTLNSdYdbnMSY9YwlBEz3Sq5w050qvJFb9RAWX1qemmzc60pWqPihPeuSNVFGVSL68M2NZtkxncS3zKkXXmlnDqBJ+rXPADARe/6MtU1bFbB9bF/funuDNycVcYYhS1yynnazPplb8ojZF2YslWwpcC5hh6sVmHWlWb0wjWq2tVgVXjb1XOx74hPOxTMIQti54vgtKDSzNmt3rG8Xz70qvKeKbr0Ozcox71ca35apdo3mtRkTS1hIyoOVvriNarwB6A75V2Xp4xLzQiD66vlea1FbbGibH3d6jABlIZ/C438FnPKDIzm2BPaz2HHaVamiQSPuj51d5i2VXsLQyN+xpymqHCvM2vPV71OYjgMdj+MVj6fOE05/mBip5qOh1pwBIKRpYtylKYs5f6bv62a6t4y+9PSdsJpAZnuznFacGBgF2P5hdRdU6DaPWX+86bzxUpV2g1T5lWo+rHs89zCqUcdp8w5PjVDGU4qjkt1pSnSOlvbxkHgN1P5DxY7yV21qg+/NgefsEhX2X2u8/Yj0sVqfAXV+vqc6Gwy0jPNYwwAgIvWhma7b9Hg1NtSIf/v7u9VKu+OSrXEaf0bfFQtFR92Rv1qePHKXFarpoYKuQO/IH/QoqZdVVrzQL7ysqboykunKP/nLRfv/vjUqvybZPLa1Rlj+P8x4UOPCrPvVPkeO6CRKddDm1XnbdTR9m51d1tTr33+NKvCmXtwLstW2SvN2v5grvlRs1NtbzWo+ulVKnTl6IaMS5WRu0ae98Jq7mGPGievKbSfB3WchluPOgfx421T5zBWDwe7H0Ytn2dq2gInJNZkVYydcqNVTb/zh9TkWuBU8bMWmkdAfxd4BNTKH61OqnAeIbWkXWzlFwYtbf4alReZF5aSdSXKOr8RNUufepLOa+nKmGqS48TEOwpU5r+IelW9NxT5aH+l1nnCYuYa5S887wfxojO+gmpp9u9YSepsD7ZqAwCMD2nzylTnCbSyKpd7pSdmpT3tssDVpELNYUG5hNNL5nPHhTRNW1Km+lM+9bYfVWNDjTY/VqzceYFHRtrV8NMcuZ5uuThb74Xdb1S0xMgLMad6FZzXx9Pi6VHDBuexH6UXqK79tPbtKFXBHbnKumaiJk60puG6P/92tkp+3aiO3m6dbNmnul+UqWRprqYFWhq8VaXChcXyBIJQl00MtlJwezpi7NPYU5l5JDul+8IRk6aJgUc+l9apI8b6xpx+FujXbBgMdj+MYj7Pys53ys9fNTutqI41qc5upWg/+hnIfzOjHgHtO6nmF+1/uDVrGpXIpF1U5ReGou9gtTabR4Ft1T+qUNN572oorMwcUKc6TpnkeJGWq/xHnTO4dUu9mvw3Wa1q+IW/91G5fuIeA9e9i8/4CqpdMy3Y+uzkAH1R9HV3myaiBZp2jT8BABgH7FZWDRucCmvni4UqjBH4ybhqmkl1qHscdhmWirRrspS7pFilz9WoseW0fJ8cVc19TpSkZf12eYexwc2YkZ6pYA755ALPIH1H1WwqVbkbKlQwGvdEaRM1bZ5LBT+u0PaXGnWyo1cd3jKnFWmnR6W7za/vEzOUYQJu7Z0dTiIV385QIMx7/o7TRGVcbTbiVIdVopwHYfl1oPvjCKOZz2dmy+nt2OsfeKD9kNffGi2yj+SoR0Dfa3VaXC1yKZuAT/IupvILg/ehR8VLytWidBVs2awSu5jqrFJhnB8bR49VZk41YaH97QOUmb3qNkVaeta0cfPDZtaSEmeAhs5KeV7rcQZ28HeVUKzixaPRH974M76CahOnKcvfeZ+sDNac4LGTPjW/VeckF+Uqa7ycgQAAixn5Khj4cat4d+QtZHpWrnPDomo1vDValQ7r5vFieLzm21kq/pHp8+MC6Ld0UJXKdKtyb+43qvc2XdiPuYY9YjnxsktNarSlKf2OYq0ynfSH+saZpuwi5zwNPfKXgqumBQcaqT8W6EVqCAYZFJs2r9ip7EV1sj9qwvJr4vvjKKOZz9Nu0CwzGmFzW5Oa9tjhMqviuCCyZ6DgI6CvHVXTqaP+PJG+cFYweIokXEzlFwapXbVmYIL0+6pUsbpUm/c63WP4f2x8pvW8tjKfNtPllJmd9YnLzA+a1PCGkyycEwgVjwPX5qvkIefaWPubalWZ0XzTnyjoP5o9hsX4CqpFdN63WdUHYxcHfQerVO7vyE9yF90ZeSEOe9TgaLsJfQMALjKZKtjREOw43VNQqMrwa0b4DcvKktDjaHF0vlWp8j2R14zgI6T72xP/6nt9lhn5rlVNrXHm7GnTPqsyPCZ81KDKX7ao52vzOoa+YI/WY7Q1eHiwpeVo7MrD153yvrzPvIhm3W88VOLc9O8qUUlUULafziZVrmswgaIxxtoXgdFc2z+KHzLqfG2f4u2NZLT+ao0aPkhcTes1jx2FWhykKfeeNU4LtmNrVDLQ48TWeeL5SbVazEt/y6YC5zzs3LFdDYFRQaN1HtXRBI8QTZvpnKH2I4lH4wza0HPC2j/7zYsoaQvztcZf1rRqzUPx+3J09Kht9yrrHta8HBbh98cV2pzgh4KeEx6tss5vx2jm83RlL8r1pxperHIqyg+5lBPd23bgEdA3PKr8jcf/1qAq02Pwfj/tsuAahUawHREXUfmFQehTy9OFWm4PTDCzTA07CqwcYeW/eaWqMq34W9aVqCpOPXo0+MtM/zW6VZu3xGs51y7PhnL5H3qcWaF80/diQNL3YBekiXL9aI3zmOdr5Sr3tzZ3qeKB3LCWvRhO4yyoZmWxJWWm9UGLypfcqTW7W0OjkPVZNyp7y3Wnv6mrHZmv0+Zl5k4yYOIs5ZjhbhseLY3sMBcAcPGwO07fbYaU918zwvpysm9Y1lUHh5svzM7Tml0tag8f1vKrTrW9Vq1VrinKyC1XW1SQKdhHUGe5Sp9uij8i5sQcuUwAz7uuXLXHeoKBg75P2+T95XLlTbtBy18cK1WaPh39SY6unHanVfn2qq0ztL72dbbd7hdrZZX/ZfpjxXJFXWbHhizl/pt5BPiZclW81q6+wPH7ql0tuyuVPy1Ddz4TCs9Em7i4XNX++w07KJujvEdr1fJh2L74uk+d73lVvfJOTcnIU/kAAaXzJ0uunzr7ovWnJVoVft9ktqHqHiuPuyrDglWp6/u0SvlTM3VDQaU8B9vVExZY6utslefR5Sr3tziwKgZLTWXINrNE1RtNRW99jm64p0re9zpDx8va4z0ftshjVRJvsM6Twl9GBoyyiirMY00e5S9dJY91fgX0+ZfLt47PnapK0BpiYrbL+Qyr+la+oVatnwbPUPXYx/hHeZo2Y7nTL11MWSr5pRkk5WC5crLyVfVamzrD90GPk+8KZ0yz9lH1sLceCt0ft6oy16VVdnkW/H57O5pU+6i9HYWqDvvy0cznmXNdppLo9VeUS+7IiTGCXSBQao9Ma78uUe7cQVQjx+D9/sSsHLn9qQaVrvOoLWHwdWgunvILqercUyz3ers0z1bFr8qVfZnzvvyt+Ku12f8DQPQ90WizysxfhVrO5VnlftOHoTxol93VD+Sp0H9fZG9HqbKjioGk78EuVDPdVhlp0raiYuUHBo/C8POl6PDhwyZ1Hpyt81kXE5+92hUt5r1YWir880huX91Z8164L4/6ti/NNPPEntIXb/Yd/dLMH6X3UIXPOoljLpdwvWLo8LjNshW+ZvNe0HBtLwAgTLOvwpSt2tCv5O2n1ypjg2X+PKusDr82fNLoK1uYbsrgRFOmr/jlDrNQQIev/r44yy6ts/4bpr3eV3xtjPn8U7ovd3Wdb9+OYbie+IX2j9sTvc5h4n1mR72vwLyfaMosqvGdjHOdTVXoWprgOpjSPrB8ae2HBMc2c+lmX/NLZeZ1vO/t9jX+LNdn3bhHLBtrynxwX+QxT0riY9W8wXx+dH5KlXXftHlxgnx+rdu3uanOV2ZeJ8w3cRzdmMR5lJ7rK3u92ywRrtd38oViX2asZaKm9OnW/Z1ZKsA+x3PTY89vT5lLS30li8zrOGXG6ZcSfL+13qWefda9p3kd5zN622oSnOdhU/o03+ZDZiG/IZ6zAV+e9NUUJb4/tsubaVui9+BI53Ojt9FXGvysEt++WFnB1rrZlxWYb1GN77R5O1rCe3BLsvf7yZ1nHb66AY7/wHqt8yQ7Yj1CU9g2DFv9YZSOK8aO9jpfgSkLXb+Oc+aEzZN+X13c8yuR4TpnTr9cmrDslrJ9JS/HLQGSvwcb0HBci4ejjIjU3VBstindV9bUa97FSBh3LdX8LstSyUsn1dFUo9Ki0KhS1k2KcotKVeM9rbaXS5UVjMxHSptTpuaORm0OX1aZ/mbpE79hXgIALgoJRwT9dq4qmtrV0VKnzQ+5lTs9eFGQrs12rikNR9XRe1o1i8P+55cu9+/adNJTKndwVEzr3em5yr0qqv3FNW7VHDqp+g3Fyg780mh9vvuh7dp3qk2NWwo0q3+TjfMj3a263g4dbXCuseH7xN4290ObVdfSodMvFGtanOvsmGC3VHy9VY2/KJErsA3++4QKZ/1fKlX21QP1MTZRuRsa1X62WXXPlci9MLyjZPu+oVilL9Tr6Nlenf616SNmLLLum0pfbtPRF8LzqrP+FZ5mdbTVq3RhpobS41rWEx3qbmt09tOibP/jRo7Aftqn09b/KxbFyuhpmlZUo9OfnNQ+ax2LI5ZP17SFbpU8V6fGtm51HLfu78x/AuxzvLG1WTWPuSPOr9CxXtP/McMomUtrdPR4vSqKQt+dOc/63l8467152Sxdad6PJ+36YtVY63jS65w7wXWxBM+dppPqPntSpXPMP4bTZdNU/MLpGOVZaB82n23XydXRe3CU8nnaLOU+ZNLW/ol7TAKPgFqy7hh8f2pj734/zTpPrPOtabOKw/exnVet82L4H+u6SMovJOerFlUuC/SjVqftD8Y5c64pUIV1z2Ef73iDOY2WzMWb1Xj8qOrt/Bl2H+Uve+3yqqNZ2+N2zJ/CPdgFqvtT02XDzDXKX8iDnyPpEjuyZtJJOXLkiGbPnm1eAQAAABezTnnuyVDhHiu5oVm+n/kf1AQAYGzqa1J5Zp4qOyXXC6e1r2iwPy8gGeOzpRoAAAAAAMBFpuc1jz+gJhWrOG5rPQwXgmoAAAAAAAAXvHbV/6bWn8raUCzXt/1JjCCCagAAAAAAABe4vrdqVf6anXKpZFn2CPS3iGgE1QAAAAAAAC5oPfK+WCn/k59FxcoPG/AGI4eBCgAAAAAAAIAU0VINAAAAAAAASBFBNQAAAAAAACBFBNUAAAAAAACAFBFUAwAAAAAAAFJEUA0AAAAAAABIEUE1AAAAAAAAIEUE1QAAAAAAAIAUEVQDAAAAAAAAUkRQDQAAAAAAAEgRQTUAAAAAAAAgRQTVAAAAAAAAgBQRVAMAAAAAAABSRFANAAAAAAAASBFBNQAAoM63qrXqnhxNueQSXeKfpijnUa86zf/Pq488yjfrVXnQvHcB6dydb/ZppVrMewAwoi7wchMALhQE1QAAuIiFAjqXKH93rBBZn1qezlFG7ipV72lRu3lXVqrlox7rb6c89zjLX3JJvjwfOf/F+DJwPgIubpwDAIBYCKoBADCO9R2sUsl6u/1UpopfOKruXp98PjO9VKB0ZzZgHGtRJcGUC9DFedxanna26ZJ7PGOjJTEAjHME1QAAGLf61NxQrlY7WbRZm4uyNDHN/w8AAAAAAyCoBgDARSx9WX2w5Vn9suh2Zx3q/MBJuRdmaaKTjJKugpcCrdfqVXCVeRvjSuJ8BFz8OAcAALEQVAMAYNzqVPtek/zGpSYBAAAAIBkE1QAA41LnQY8qH8hTzlTTP80lGbohN0/Lf1qrhmOd6jPzBfQbwfHTVjX8fJXys6eY96co54FKNZywO/cfQGeLPBHLXqIp2dZ3P+1RSzKd5NjLP71cedHLW+vufS/q++OMAOf0y5OjcvO6oSAj+FnOFBqpMtnRK3s+8Kr2p9Z6zQh8lr1P87Xql161D7Rbvu5Uy+5KLc+9QRlmHaZkW8v+3NonH/WamQbh0wYtN593567QMAyx9ajhAWfeSx5osF4Zn7apYVeV1lj5JXyfO+to9vsHSRz3WA5Wms9KPAhEcsegR+2v1frX84YMs44ZNyjvnlWqfq09tD2DkcRIgvbxr16ZH3b8nf2Tv7JKnrfa1PO1mTFF/fqQ6mmX95eDO/d6TjSoylrH0HlvLWvtn6q9rTHWLzBIR6LzZDD9dUX39dWnzrcij1vGjDut86ZJnXH2Wf/80KO2vZHnT8Yz/ge7Iwz6HA2cn7fnhEYItvPW7cu1ZleDWj+KLjHDDS5fDv64j9BxS3gO9O+/LXA+BPPa1ByrjG9Q2yBPxMAxz1lv3thTGDzWwWmAftYC171k81nICJYtAHCh86Xo8OHDJgUAwAXoH6d9dUWZPvsSmGhK33jULODo8LjN/0p8218o9mVGzR+a0n0FntNmqWi9vpMJl7Wm9Fxf2evdZv5ovb6jv3AnXt6a0ovqfR1mCd/ZOp/bvF/RYt6zNG/ov1zkVOFrNvOGtj30XqRuX+PPcn3p/T4jbLq22FfT1mvmj9K+z1cyL8YyMabwbUhOt6++yCy/qMYX78j4he2rkpfDjkFLRcQ6xJ7Sfbkbm60j1F/C/Rf8bLev7qx5L4YBj8Enjb6yhelmnthTZlGN7+SXZv5UxclHjm5f88YBjr893ReWL1MQzKtLt/v2eUp9uelhnxkxZfqKX4p3hJPIo/NKfPvazex+Hb66pTHmi5rcnlS3qtlXEVj2uZrEx22edbxjHLPw/NDYXu8rjfUZG8JzyhDO0fY6X/G1MeaPmNJ9FYfM/OGGkC8Hf9xH6LglPAfCjumOfb661Qn2tbWf6yPyWXJCxzzBtLQuZtlf9lKzb/PS+Ne99IWx85nfSJctAHCBI6gGABhHeq2KWpZTEUh3+Sq8J33dgTrkP3p9HW2NvprHXE7QKqJCGl2hSfflPmhV9Nq6g0GU3rPNvu3BYF22VcHsXzk97SkwFa1MqzK9z3fyk9A8ve3NvpofZ5vlXb6aU+YfQb2+oxsD/7e+f3Wd72jE8kd99c+ZgFucilXCimCCCmbigI69T816pef6Sl9o9p0OVq56fd1t+3wVi02FLL3U1xhd8frSWodAQG1eia+m5bSv9x/mf+aY1D3hClZQUw+qWWvRVGaWz/JtbjVvxnD6BZdZzzJfY/jha6nwTVtW6qtpaPad7Agdc1tv92lf48bA+qX7Sl/vf9wT7r/hCKqF7cP0hdZ6hu/D3m7fSW+Fz2UCEumPNUasf9IS5KPQumX7SqKPvz9fFvim2d8fni9TEBkAtvN+ja+5PfzcawzLY1HHzi8sj9oBmF+EraOVx0631ISCujGDWMmdJ8kLfZ5/utbtq/CEr5N1zBrKgkGk9BjByNA+T/elW/NlLt0cUR5FGsI52mut60yzHosrIr/jyw7fyaYaX+kdTrnX79wcYr4c+nEf5uOWZFnqrI/Zz8ELjFWWNYVt7xODPA8toWDjAOdT2Pr6JyufbbaueR1h+eyop8SXbf7veiFGQHo0yhYAuMARVAMAjB+9jb5SU4FIWMnq2Ocr2xGvpZrbt/14vJZkR32bA5XzonpfxFynanwu//KJWrKdDraw6FfpCi5vVX52nDRvxtBhVTSfGLilmiO5SmeigE4oYJVtfX6cKpVVMSszFfPIiluvr/GJUGV+X7zdmnAbkmEdl0BgICpYGhKaJ+u5yGM/MGs7HjPb8dC+yONuSRgQG3JQLWwfxmnVZOvdX+bL8i8fK2CbhLjH4LSvZpHzfvx9a+k+6at5bogt1WaW+OrinXtt2325Zv0iWhnaWjebwEGCc697n6/UBAeyrO2IzMnDHJwJ+7ysx/b5OgJBiijdL5fEDQaH8kO2r6QhXnniGMo52vt6qfmeAfKnt8y3PaKl2tDz5ZCP+3AftyTL0qyH6nwn46zuyR25zjapJH55N4DBBNVcGxrj5LNe374fm8+budkqBcONUtkCABc4+lQDAIwfn3Yq0KtWxmVpJhVDuksVD1nVhJhmadb02ONkWpVfFf7EqsbYdjWpOayjmda91fLaiaJqVS/L9L/XX6bcD5b6U53PNCm8R6SW3eXO8jM3W+s2zf9eTOm5KtvollWJHgU98r5Y6e/DJ+u5apXNi7NPL8tW8Uqr6mvxvtISPAb61CvPM04PQMU7yuWKt1uHLEtu8/2dO/apKVb3T8eaVHfMTrhUsiTesY8nTTdk5TjJlrbQ9o2G4D7M0uZflSn7MuftaGnzi1WyyE555W0ZzjXsVOcbTirhOTVxmoofG2K+nJqj3Hjn3vWz5BxhqfmD8O3rU9NLm51+xxZVqCLeuTfROu4bXf5k6/p6NSfqImwYZWbNUvo3zIsoExcXapV/h7Wq7q3+/aM57lThknjliW1o52jPp4FUhibGyVu29DsqVDLHvLANZ74c1HE/fzIX5GpanNWdlhVcW7V9aJKjIGdRbpx8lqZZ2eaadaxdHeGdo533sgUALgwE1QAA48dVmZplavXVG8vlOTb83SunT8uxqiC2erV+4E9YWtXkcSrF7oVZShQ7Sps6S04Vp03twY7rW9Xc4ASf0t2Bzx8DeprVtMtJurITr1XmtGwnsbc92JF2T0uTav0pt3LnjlhEzS9zYYH8IZPOSnleiz7uTuDFf4SWFurOa/1v9vd1n9qPWRXNX1ap3O6Q//Y85ZmO4TMKGpx5jvX1G+RiJIX2oUs5M/2JODJ1wzwn1fBh4AgMh0xlLnVSrc+Vq/Kt/oN8jI6w9fgqfA3a1Pqas71Zd8yy5oovc4GVD/2pOrWc8CfOs2nKWuKkWltD501KhniOpmfOMoHQalWs96j1U/+LAY1evox33Mco6xrklO+t6hsjq2sfY0eHer4yScv5L1sA4MJAUA0AMI5kq2BLgVNJPFitwqwr/SOy5T2wRlW7GtR0rF09Q63ofDvDVNw71d1tPqyvWx3+VlBWpePfIkeP7DdlFsoJz/SoN7AuYcvnXJsoLDDKPu1Qm0lWLoixLeHTgkozZ3dwu7o7A0vPUuZVJjlSrs1XcZGTrH2lKXK0uj478OBUBouXuWK0pupR667lyrv6Uk3JulOFP1mjyl9Z+eWNJjW91Ta4YMcwCe3DSuXE2u9hU87TZtYve4cx8JUu96MV1pll6fSqPDdDl5pRAct/6ZH3oLV/wirqo66nQ+3m3MlMz3AS8Vx2pTn2nTp6aiwEBybqysAqd1rnjUmmZIjnqOYVqOo+Z6+0/LJQs74TGPG2SrV7m9T6YU/MvHT+8yWGimMIAMkhqAYAGFcyl9WqqaFC7kBrpA9a1LSrSmseyFde1hRdeekU5f+8JTLoMkjtn5pPCXvsNHlN6gy0ChnU8qPAWq8mk0xee3C7OjtTX3rwJsp1X5kTNNlVq/pgK0Kp540GVdoxlPQyFdwR3WKuTy1PuzTrASvfWPOkTy9Q6Qv1amw5qY7ubnV399r906rDYx6hGmWD2ocfdg5L/g5Im1cm7/7tKl5owpFWZbxpT7Uqf1KoO7NvUMb/m6G8Rz1qOx/Bta961GGSA0rP0A0mOea80Tm44O0Qz1G7FVLBjibVb3CbHwus/x5sUu3P12i5O0+zMq/UpVPzVXUgMkeNhXyJoeEYAkByCKoBAMaZNE1bUqb6Uz71th9VY0ONNj9WrNx5wSqjGn6aI9fTLUP+xX1WpgkyXDZRgQYnbk+HPwiTzFRmHqkJX35MSUsLPopa0RJ7G/pP9SowrdLSvmH2zyhJW3in6aPKK89bgTBlj5r2VvtTWY/mKze6y6lj1SpZ7++RS9kbmtV2vE6bi9xWfpmm9IkTNXFign7ERkHaZcEjoOaY+zvG9JJprTmMJs4vUU1Th3o/Oalmb522/6xE7oXWPvL/t1NNWwuVu9Iz+sHhVM6dzg6dNMkxZ2lmMKiVkiGeo36XTZP7Z/U6/Y9enW5tVP0Lm1ValKvs4A8TDVqzwKXKg6ESc6zkSwwexxAAkkNQDQAwbqVdk6XcJcUqfa5GjS2n5fvkqGoCjzqt3y7vYJqGfHjSPL6Zq/Rv+xPSxAxlmJpGu1VxT1nY8s0fDmL5kZKeqcCQCR2fpN4+IeMa07l/+ONmIypbrkedimLTjganD7UP6lXr73Mq9gAF7Ye8znwqVcVj2Qn7wzsfMq4KHgF1j4EmImnfnqbsOwpUsmG76ptOqqO3Q/uecPrq6nyxVJ7D/uTosc6dTNMf1IDnzlfdpjVYumZNHQuhgXa1B8YnuCZ9cHlviOdohG+kWfsyV+6iUm1+oVHNp3zqbq1RgX9Xtah8hzfYmm6s5UukjmMIAMkhqAYAQMC3s1T8o2LzwjOo0dlaW/xjdEozXZoV7PB+mrKLnEp66+8iR/VMTmj5zpcGs/wISc9S7h1OsnpvVD9lSQgN6lCnFtPv1UjLWlLiDFhwbLPq3+pT+/4GZ1TVO9zKjTFAQegRqCt16Yg2SmtXR5KdwIdLz8p1tkfVanhrDNZ809Ll+tEq0zn7+eirbJqy7kju3LHzgnO0C5U93Z84vz5tVdNeJ1myYJYGlf2GeI4OZOLMYq160Lx4MTTy7ZjPlxgQxxAAkkNQDQAwfnzUoMpftqjna/M6hr5gk6kCTbvGJJP1oUcVP3Wq7a6fuMNG6UxT7j1rnM7cj61RyUCPlva0yfOTajkPHdqc5f2fZy1fsSvBQ3SdTapc1zC4/pdSlqn8h0qcx312lahk9wAP90Wv28xcFfpbEXVq+++8cSv8na1Hh++xweCABZ2qfa1Ktb9wgqDFD+bHfLwu8/oCk0oQ9LKO177Xms2LFF2fpRJ/olVNrXG2MtHnW9tT8pATNKpdWSLPAIHgzrcqVb5nOHNHq6ofbVB7ogz9da85tuejBVj4ubNZm+PlUevcLV/n5IWsDfnKiYhgpSkt0Nrtg2HLiQPoU8svKpzRF9PL5F402DaSQztHO/dWqvpgooBKX6iV6X3TQufQec+XtvNx3EZe8LHM/e3DVy7GMiaOIQCMfQTVAADjSJ+O/iRHV067U6t+6VVbZ9jIdX09an+rSoUrq/wv0x8rlitm/X+fan/ZEDnqnbVs22uVujPbGbkz/b46bS+KCtHMLFH1RucxuJb1Obrhnip53+tUXzDA16eeD1vkebpQN0y7QYW/jKrI2stvcJZveCBHdz5jrf+noUhG34etavh5vqZk5Kn8g0QRjuE1cXG5qv2PzHbKU5CjvEdr1RK+b77uU+d7XlWvvDPGumWpeINT4e/8VbHy1zdY2+T8J7Bc1T1TlHF31TC2zpuo3CVOGKvz5+WqtFvIxRygwJG+sFAl/nxQq5IHKtX0Ydg+72lXy641yrOO1/IXB1mZnJgjl6m4eteVq/ZYaN/1fdom7y+XD/D5E+VaV+08gtfpUWF2ntbsalF7+DC2X3Va+bNaq1zWvswtV1uCoHLqrHy71cp3mVaefdrjHPvA59vH8JhHa35U7rQAu6NCBXP8/xldwXPHzqN5yv95k9oDgyZY69h+sFrLFxXKY+/ieRWqXp2tyFZhWcpxO8eoc32pKt8Ky99D1Lx7uzz2CLJhgzj0WeVA7U9ylfO0neuzVbG3vH9ffykY0jnad1Srsq/UFNcqVb9mrWdYvrLzf9PPC7X85/ardJXeFz5y7vnOl7aRO27nU1Z2vrOfO8tV+nTT0EesjmssHEMAuAD4UnT48GGTAgDgAtNR7yuwLn325S/RlFlU4zv5pVnG6PC4Y84bPaUv3uw7GrVsSK/v5AvFvswYy0VP6dOtzzFLhXT7Gn+W67PqODGXCUyZD+7zdZglfGfrfG7zfkWLeS+o2Vdh/uf2BJfoJ7TtFdYSsSS3XvYUsW5+vb7mjQmWTc/1lf16c4JtGITeRl9Zeug7sp7rv6fDnX65xJdt5u0/pftyV9f59v0i/j4acP+11/uKrw3/zPDJfP6OAT7jE2ubFqaHLRdvyvQVvxz/WMcVNx8d9VWE7ct4U/rCMl/jJ2aRFDVvMJ+ztC4q74Tr8NUtNfNtiLWHTvv2rR4gj84r8e1rN7NHO2uVHXG2M9G5E1vovEs8ZftKXj5tlok08DkZbXDnaMdLBTHniZysPPXCSetMjmEI+XJYjvtwHrdhKEsTf0ayOnz198XZp+H7Ktnvaqkwy7t9dWfNe+FGumwBgAscLdUAAONHult1vR062lDjH70ud7pVxTTSp+fK/dBm1bV06PQLxZp2mflHP2Xad2qfauwRQ4PLZyp7aYm2e0+r7eVSZcVdNk3Timp0+pOT2vdCqYoXZYc9cpiuaQvdKnmuTo1t3eo4bn2O+U/IROVuaFRb4PuDI5ZaazAvV8WP1WiftezpX4e3GBkNznq1n21W3XPhoz7arH2zqFilL9Tr6NneGOuWpuwnGtXatF0lS0P7I3OetS9+0aiO9kZV3DHMY5+m5SrfDFhgt2YpXNR/T4fLXLxdTe37tNnKM9PMyjv5ZbuVF9rUuKVAswKDUgzGNW7VHDqp+g3FoREVr82O/PyBnv77dq4qmtrV0VKnzQ+5I/K2/Vm5RaWqaTiqjt7Tqlk8nLkjS2Vnu3WyyXxvWJ4Mfq99XjRVKHco+2jIMuXaYp07rfX+9QzuZ3PubvY0q2P/drniPfJ9lVV2tJ1U3WPhy9rnbK4y457vA3O/0Kxmz+aIvG/nreINdWruaNb2xWH7c0gGd46mL61T79mjqveXV6H8H15eNXdYeapoWlTrPuO85UtjhI7b+ZUu9+/adNJTKnfY+Wbnm9yrRmAolfN9DAFgjLvEjqyZdFKOHDmi2bNnm1cAAIwPnbvzlVFgP9xZoWZfmdM/GgCkrEWVl+So3Eq5PR2qX0YgAgCACxUt1QAAAAAAAIAUEVQDAAAAAAAAUkRQDQAAAAAAAEgRQTUAAAAAAAAgRQxUAAAAAAAAAKSIlmoAAAAAAABAigiqAQAAAAAAACkiqAYAAAAAAACkiKAaAAAAAAAAkCKCagAAAAAAAECKCKoBAAAAAAAAKSKoBgAAAAAAAKSIoBoAAAAAAACQIoJqAAAAAAAAQIoIqgEAAAAAAAApIqgGAAAAAAAApIigGgAAAAAAAJAigmoAAKTiI4/yL7lEl1hT5UHzHgAAAIBxh6AaAADnRac89zjBuUsuqVSLeRcAAADAhYGgGgAACGp52gT67vGo07wHAAAAoD+CagAAAAAAAECKCKoBAHBepKvgJZ98PnsqU7Z5FwAAAMCFgaAaAAAAAAAAkCKCagCAcavzrVqteSBPN2SYfsQyblDeA2tU+1an+sw8A+tR294qrbr7BmWYUUGnZC9X5d426z/9BfssC58S9l/Wo/bXYqznPatU/Vp7zO+I8HWnWnZXavntOZoS+L6pOc52vmat49fObJ278/3/y1nvvNaewuD2BCf6WQMAAACCCKoBAMafr9pU+8AUZeQuV9WuJrUFIkWdbWraVaXluRnKvLtKrV+Z9+PoaPVoVfaVusG9RtWvtAUDTu0Ha1XuvkHT/s2jdvPeoHzapPLcaZriirGee6q1yjVFsx6oVVuc9ew7Vq38aRnKKShX7RstoXX5oMXZTtcNuvLq5WogUgYAAACkjKAaAGCcaZdnZa6W72qX0nNV1nBS3b2mb7Pebp30VsiVLnW+skaulYmDYtUrC1V/abG2eyM/4+gLxcq0/t/5YqEKn2mNaPWW/TMznzU1bzBvxvJViyoX56nyrU6lLyxVTctp9f4j9B2B9WzftVy5G5r6tazrO1yp3KxVavjA2kxr+brWbvWa7/V9eVpHGzbLfa01Y2e3+r625llWH7lOS+vUEZg/ML1UIOsrAQAAAFgIqgEAxpWeV6pU+qLdNCtbFXv3qWLJNE1Mc/6ntImadkeZ9r21XS7rpR0UW7M7fjMu946TamuqUckdkZ+RVVSj+i3O0AMt66rl/dSfTEGfmja6VX7QSs6rUMPLm1U8L1Np33D+G1jP+j1lyrJedv68SnUfOP9ytKtufbla7OQd29X0+mYVzJyowCrqskxlLSlVfVuHGjdOC70PAAAAIGkE1QAA40i76n9V7Tym+ViFSufFCSddX6zSJ5w2WQ279sVtrTYra5ommnS0rKWr5PanatXUMmDPZ5E+9crzjL2WWdr8qzJlX+a8HS1tfrFKFtkpr7wtYWt50KPy1+yEtfzGEk0LBOOifSNduU9UyH2VeQ0AAAAgaQTVAADjR0+bWv3BJqlkwawELbTSlLOw0Em+0aTWwfQ5dtU05cx0kvUnEj1E2l9PS5Nq/SlX8DNiy9QN85xUw4ehlWxtqXcCh+n5AywPAAAAYLAIqgEAxo8P29RskhnfidfGzJF25ZWm/zCP2j70J1KUoYypTqqzuzuF0USl7s42k6pUTvQInFFTztNm1i97zXf0qbuj1Z/Sgkx/324AAAAAhh9BNQDA+NHXJxNuGlh6pnJMcsg+7FQqD4B2djaZVAqC39GjzkEFAQEAAACkgqAaAGD8SEvzd+yflM72YKu2IZuRmdKomWmXBdayQs3RI3DGm4Ijc6Zp4rf9CQAAAAAjiKAaAGD8uGZasPXZybOJO0rr6+52+iVTgaZd40+kqF3t+51UbnoqITUp46ppJtWh7hTHOJAmKuNq8337261PAAAAADASCKoBAMaPidOUdYeT9LzWnOCRzD41v1XnJBflKiu1mJjjWLPq/VG5LLnmptazWXpWrlz+VLUa3ko5qqZp84qdVmud9Wo65n8LAAAAwDAjqAYAGEcylf9gsZPctVnVB2MPH9B3sErlzzjt1NxFdw6is/92ebZsdvpvu6NE7lRH4Lw2XyUPOZG82pUl8gzQR1rnW5Uq3xNqeZe2MF9r/N/ZqjUba9X+tf/t/r7uVNMz5Wr4yLy2BB893d9ubQUAAACAeAiqAQDGlYlLylR3nx2walH5kju1ZneregKxtb4ete0t151Lyq3/Sun31WnzsvjN1Gq3VMpzsD20vPrU855XlXfnqPBFO8jlUs0vigcRlJso17pqFdhf3elRYXae1uxqUXvoi6SvOtX2WrVWuaYoI7dcbRGBsyyV/KpC2XZyz3LluCvlfa8nNALpV+1q3Vul/GkZylvXFnrfkpWdb1q5lav06aawbQMAAAAQ7hKf3btxCo4cOaLZs2ebVwAAXIC+alX1A/latSd+W6z0xZvl9ZQq6zLzRsBHHuVfXagG8zKu9FxV7N2nsnlp5o3+Wp6+RDnrrcTSOnUEBxoI82mTyu8pVOVboVZosWWq+OVm1SyO/ISeN8qV/2+Vakq0+LXF2re/Rq7gop1q+Lcs5fuDglHirScAAAAwDtFSDQAw/lyWpZKXTqqjqUalRbmaFogSpU9TblGparyn1fZyjIBaBLfq2jvU7NmskqXZwdZo6dNzVbyhXifbGhMG1JLy7VxVNLWro6VOmx9yK3d6WDjr2mxnXRuOqqP3dL+Amm3iogo1tp3WvhdKVbwotI7BZb0n1d0WHlCzpcv9uzad9JTKPS/Uxs7ertyrJppXAAAAAGipBgDAeTJgSzUAAAAAYxYt1QAAOC/adXK/SV6TLtqAAQAAABcWgmoAAIy4TjWsq5T3gx7nZV+PWn9TrvI37BfpKrsjR0N8UBQAAADAKCOoBgDAKOj7oFx3Tr1Sl1xyiS659ErN+pFH9lAA2RsaVL6QkBoAAABwoSGoBgDAiEtTZnaxchdOM/2mpWvawmJVNJyU92fZtFIDAAAALkAMVAAAAAAAAACkiJZqAAAAAAAAQIoIqgEAAAAAAAApIqgGAAAAAAAApIigGgAAAAAAAJAigmoAAAAAAABAigiqAQAAAAAAACkiqAYAAAAAAACkiKAaAAAAAAAAkCKCagAAAAAAAECKCKoBAAAAAAAAKSKoBgAAAAAAAKSIoBoAAAAAAACQIoJqAAAAAAAAQIoIqgEAAAAAAAApIqgGAAAAAAAApIigGgAAAAAAAJAigmoAAAAAAABAigiqAQAAAAAAACm6xGcx6aScPn3apAAAAAAAAIDxKeWgGgAAAAAAADDe8fgnAAAAAAAAkCKCagAAAAAAAECKCKoBAAAAAAAAKSKoBgAAAAAAAKSIoBoAAAAAAACQIoJqAAAAAAAAQIoIqgEAAAAAAAApIqgGAAAAAAAApIigGgAAAAAAAJAigmoAAAAAAABAigiqAQAAAAAAACkiqAYAAAAAAACkiKAaAAAAAAAAkBLp/w/Emyq72qYnywAAAABJRU5ErkJggg==)"
      ],
      "metadata": {
        "id": "njfjWNpmD_MZ"
      }
    },
    {
      "cell_type": "code",
      "source": [],
      "metadata": {
        "id": "B2wezNJgEGj_"
      },
      "execution_count": null,
      "outputs": []
    },
    {
      "cell_type": "markdown",
      "source": [
        "# **Python Bitwise Operators**"
      ],
      "metadata": {
        "id": "8w0rT6wPEsCw"
      }
    },
    {
      "cell_type": "markdown",
      "source": [
        "![Screenshot 2023-08-22 100803.png](data:image/png;base64,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)"
      ],
      "metadata": {
        "id": "hruyRI0-EojJ"
      }
    },
    {
      "cell_type": "code",
      "source": [],
      "metadata": {
        "id": "y1hH3N8dErKn"
      },
      "execution_count": null,
      "outputs": []
    },
    {
      "cell_type": "markdown",
      "source": [
        "# **Python If ... Else**"
      ],
      "metadata": {
        "id": "y6z9cc7uM9a4"
      }
    },
    {
      "cell_type": "markdown",
      "source": [
        "Python supports the usual logical conditions from mathematics:\n",
        "\n",
        "\n",
        "*   Equals: a == b\n",
        "*   Not Equals: a != b\n",
        "*   Less than: a < b\n",
        "*   Less than or equal to: a <= b\n",
        "*   Greater than: a > b\n",
        "*   Greater than or equal to: a >= b\n",
        "\n",
        "\n",
        "\n",
        "\n",
        "\n"
      ],
      "metadata": {
        "id": "rpSOsRi6NHfP"
      }
    },
    {
      "cell_type": "code",
      "source": [
        "#If statement:\n",
        "a = 33\n",
        "b = 200\n",
        "if b > a:\n",
        "  print(\"b is greater than a\")"
      ],
      "metadata": {
        "colab": {
          "base_uri": "https://localhost:8080/"
        },
        "id": "y4uWOEU5NEXV",
        "outputId": "056e49b7-3d38-4cbd-f088-919985c7d875"
      },
      "execution_count": null,
      "outputs": [
        {
          "output_type": "stream",
          "name": "stdout",
          "text": [
            "b is greater than a\n"
          ]
        }
      ]
    },
    {
      "cell_type": "code",
      "source": [
        "a = 33\n",
        "b = 200\n",
        "if b > a:\n",
        "print(\"b is greater than a\") # you will get an error"
      ],
      "metadata": {
        "colab": {
          "base_uri": "https://localhost:8080/",
          "height": 141
        },
        "id": "oOaWBh-3Nzrm",
        "outputId": "e99232ec-79d0-49f2-9f56-072b07cd3bfc"
      },
      "execution_count": null,
      "outputs": [
        {
          "output_type": "error",
          "ename": "IndentationError",
          "evalue": "ignored",
          "traceback": [
            "\u001b[0;36m  File \u001b[0;32m\"<ipython-input-3-4276c1871af7>\"\u001b[0;36m, line \u001b[0;32m4\u001b[0m\n\u001b[0;31m    print(\"b is greater than a\") # you will get an error\u001b[0m\n\u001b[0m    ^\u001b[0m\n\u001b[0;31mIndentationError\u001b[0m\u001b[0;31m:\u001b[0m expected an indented block after 'if' statement on line 3\n"
          ]
        }
      ]
    },
    {
      "cell_type": "code",
      "source": [
        "#The elif keyword is Python's way of saying \"if the previous conditions were not true, then try this condition\".\n",
        "\n",
        "a = 33\n",
        "b = 33\n",
        "if b > a:\n",
        "  print(\"b is greater than a\")\n",
        "elif a == b:\n",
        "  print(\"a and b are equal\")"
      ],
      "metadata": {
        "colab": {
          "base_uri": "https://localhost:8080/"
        },
        "id": "bZvfux_xN6k6",
        "outputId": "18aaeb2d-4361-4c38-a739-07dee7747653"
      },
      "execution_count": null,
      "outputs": [
        {
          "output_type": "stream",
          "name": "stdout",
          "text": [
            "a and b are equal\n"
          ]
        }
      ]
    },
    {
      "cell_type": "code",
      "source": [
        "#The else keyword catches anything which isn't caught by the preceding conditions.\n",
        "\n",
        "a = 200\n",
        "b = 33\n",
        "if b > a:\n",
        "  print(\"b is greater than a\")\n",
        "elif a == b:\n",
        "  print(\"a and b are equal\")\n",
        "else:\n",
        "  print(\"a is greater than b\")"
      ],
      "metadata": {
        "id": "_DZHC9pKN2Ax"
      },
      "execution_count": null,
      "outputs": []
    },
    {
      "cell_type": "code",
      "source": [
        "#You can also have an else without the elif:\n",
        "a = 200\n",
        "b = 33\n",
        "if b > a:\n",
        "  print(\"b is greater than a\")\n",
        "else:\n",
        "  print(\"b is not greater than a\")"
      ],
      "metadata": {
        "id": "nWzJiUR2ObqJ"
      },
      "execution_count": null,
      "outputs": []
    },
    {
      "cell_type": "markdown",
      "source": [
        "**Short Hand If**"
      ],
      "metadata": {
        "id": "nYakntLfOmWS"
      }
    },
    {
      "cell_type": "code",
      "source": [
        "#One line if statement\n",
        "if a > b: print(\"a is greater than b\")"
      ],
      "metadata": {
        "id": "iOh2v7OsOocm"
      },
      "execution_count": null,
      "outputs": []
    },
    {
      "cell_type": "code",
      "source": [
        "#One line if else statement\n",
        "a = 2\n",
        "b = 330\n",
        "print(\"A\") if a > b else print(\"B\")"
      ],
      "metadata": {
        "colab": {
          "base_uri": "https://localhost:8080/"
        },
        "id": "qCAXFNN1Oz-J",
        "outputId": "8bf6dd37-f41d-4d46-9182-946061372c68"
      },
      "execution_count": null,
      "outputs": [
        {
          "output_type": "stream",
          "name": "stdout",
          "text": [
            "B\n"
          ]
        }
      ]
    },
    {
      "cell_type": "code",
      "source": [
        "#One line if else statement, with 3 conditions\n",
        "a = 330\n",
        "b = 330\n",
        "print(\"A\") if a > b else print(\"=\") if a == b else print(\"B\")"
      ],
      "metadata": {
        "colab": {
          "base_uri": "https://localhost:8080/"
        },
        "id": "oGLUrcsfPISc",
        "outputId": "fdbcf81b-f65c-400a-a27a-9ef2f797302a"
      },
      "execution_count": null,
      "outputs": [
        {
          "output_type": "stream",
          "name": "stdout",
          "text": [
            "=\n"
          ]
        }
      ]
    },
    {
      "cell_type": "markdown",
      "source": [
        "**And**\n",
        "The and keyword is a logical operator, and is used to combine conditional statements:"
      ],
      "metadata": {
        "id": "zndw9STcS5KR"
      }
    },
    {
      "cell_type": "code",
      "source": [
        "a = 200\n",
        "b = 33\n",
        "c = 500\n",
        "if a > b and c > a:\n",
        "  print(\"Both conditions are True\")\n"
      ],
      "metadata": {
        "colab": {
          "base_uri": "https://localhost:8080/"
        },
        "id": "T-Dme8gTS4w0",
        "outputId": "83421461-9255-49ef-c053-728fdb8391c2"
      },
      "execution_count": null,
      "outputs": [
        {
          "output_type": "stream",
          "name": "stdout",
          "text": [
            "Both conditions are True\n"
          ]
        }
      ]
    },
    {
      "cell_type": "markdown",
      "source": [
        "**Or**\n",
        "The or keyword is a logical operator, and is used to combine conditional statements:"
      ],
      "metadata": {
        "id": "Yt9tXzgwTFCE"
      }
    },
    {
      "cell_type": "code",
      "source": [
        "a = 200\n",
        "b = 33\n",
        "c = 500\n",
        "if a > b or a > c:\n",
        "  print(\"At least one of the conditions is True\")"
      ],
      "metadata": {
        "colab": {
          "base_uri": "https://localhost:8080/"
        },
        "id": "W_VN7HCwS_wt",
        "outputId": "b6135eba-6848-4c0a-de7e-8efeac79267e"
      },
      "execution_count": null,
      "outputs": [
        {
          "output_type": "stream",
          "name": "stdout",
          "text": [
            "At least one of the conditions is True\n"
          ]
        }
      ]
    },
    {
      "cell_type": "markdown",
      "source": [
        "**Not**\n",
        "The not keyword is a logical operator, and is used to reverse the result of the conditional statement:"
      ],
      "metadata": {
        "id": "AkI6fiUVTrkG"
      }
    },
    {
      "cell_type": "code",
      "source": [
        "a = 33\n",
        "b = 200\n",
        "if not a > b:\n",
        "  print(\"a is NOT greater than b\")\n"
      ],
      "metadata": {
        "id": "gBz464PQTxZ1"
      },
      "execution_count": null,
      "outputs": []
    },
    {
      "cell_type": "markdown",
      "source": [
        "**Nested If**\n",
        "You can have if statements inside if statements, this is called nested if statements."
      ],
      "metadata": {
        "id": "GanVZevyT-Ee"
      }
    },
    {
      "cell_type": "code",
      "source": [
        "x = 41\n",
        "\n",
        "if x > 10:\n",
        "  print(\"Above ten,\")\n",
        "  if x > 20:\n",
        "    print(\"and also above 20!\")\n",
        "  else:\n",
        "    print(\"but not above 20.\")"
      ],
      "metadata": {
        "colab": {
          "base_uri": "https://localhost:8080/"
        },
        "id": "m7Nx27yiT9lb",
        "outputId": "d481d820-6323-49fd-9bb7-d2d7ffcb4083"
      },
      "execution_count": null,
      "outputs": [
        {
          "output_type": "stream",
          "name": "stdout",
          "text": [
            "Above ten,\n",
            "and also above 20!\n"
          ]
        }
      ]
    },
    {
      "cell_type": "markdown",
      "source": [
        "**The pass Statement**\n",
        "if statements cannot be empty, but if you for some reason have an if statement with no content, put in the pass statement to avoid getting an error."
      ],
      "metadata": {
        "id": "KRj432ZEUOxy"
      }
    },
    {
      "cell_type": "code",
      "source": [
        "a = 33\n",
        "b = 200\n",
        "\n",
        "if b > a:\n",
        "  pass"
      ],
      "metadata": {
        "id": "4PgbRFgQUQVQ"
      },
      "execution_count": null,
      "outputs": []
    },
    {
      "cell_type": "markdown",
      "source": [
        "# **Python Loops**\n",
        "Python has two primitive loop commands:\n",
        "\n",
        "\n",
        "*   while loops\n",
        "*   for loops\n",
        "\n",
        "\n"
      ],
      "metadata": {
        "id": "XtZCRW4tUatk"
      }
    },
    {
      "cell_type": "markdown",
      "source": [
        "## **The while Loop**\n",
        "With the while loop we can execute a set of statements as long as a condition is true."
      ],
      "metadata": {
        "id": "G0DzoA7_Uzap"
      }
    },
    {
      "cell_type": "code",
      "source": [
        "i = 1\n",
        "while i < 6:\n",
        "  print(i)\n",
        "  i += 1"
      ],
      "metadata": {
        "colab": {
          "base_uri": "https://localhost:8080/"
        },
        "id": "MGUWTpK1U7yS",
        "outputId": "06d01d9d-a1c9-4130-babb-a2cb8270f6cc"
      },
      "execution_count": null,
      "outputs": [
        {
          "output_type": "stream",
          "name": "stdout",
          "text": [
            "1\n",
            "2\n",
            "3\n",
            "4\n",
            "5\n"
          ]
        }
      ]
    },
    {
      "cell_type": "markdown",
      "source": [
        "The break Statement"
      ],
      "metadata": {
        "id": "-ju927WdVKW7"
      }
    },
    {
      "cell_type": "code",
      "source": [
        "#Exit the loop when i is 3:\n",
        "\n",
        "i = 1\n",
        "while i < 6:\n",
        "  print(i)\n",
        "  if i == 3:\n",
        "    break\n",
        "  i += 1"
      ],
      "metadata": {
        "colab": {
          "base_uri": "https://localhost:8080/"
        },
        "id": "O9Uq8sJ_VJ1F",
        "outputId": "48fd81e6-3a59-4b79-f239-8fd747d3f223"
      },
      "execution_count": null,
      "outputs": [
        {
          "output_type": "stream",
          "name": "stdout",
          "text": [
            "1\n",
            "2\n",
            "3\n"
          ]
        }
      ]
    },
    {
      "cell_type": "markdown",
      "source": [
        "The continue Statement\n"
      ],
      "metadata": {
        "id": "Z4cKygyrVcHG"
      }
    },
    {
      "cell_type": "code",
      "source": [
        "#Continue to the next iteration if i is 3:\n",
        "i = 0\n",
        "while i < 6:\n",
        "  i += 1\n",
        "  if i == 3:\n",
        "    continue\n",
        "  print(i)"
      ],
      "metadata": {
        "colab": {
          "base_uri": "https://localhost:8080/"
        },
        "id": "qTs3LGtwVZ3N",
        "outputId": "e427d5d5-eda0-4a1b-84fa-347793e0a876"
      },
      "execution_count": null,
      "outputs": [
        {
          "output_type": "stream",
          "name": "stdout",
          "text": [
            "1\n",
            "2\n",
            "4\n",
            "5\n",
            "6\n"
          ]
        }
      ]
    },
    {
      "cell_type": "markdown",
      "source": [
        "The else Statement"
      ],
      "metadata": {
        "id": "ht5hWg6sXdUL"
      }
    },
    {
      "cell_type": "code",
      "source": [
        "i = 1\n",
        "while i < 6:\n",
        "  print(i)\n",
        "  i += 1\n",
        "else:\n",
        "  print(\"i is no longer less than 6\")"
      ],
      "metadata": {
        "colab": {
          "base_uri": "https://localhost:8080/"
        },
        "id": "Rk8GrqGVXeir",
        "outputId": "27c352fd-8414-4042-cf51-4adde33aa059"
      },
      "execution_count": null,
      "outputs": [
        {
          "output_type": "stream",
          "name": "stdout",
          "text": [
            "1\n",
            "2\n",
            "3\n",
            "4\n",
            "5\n",
            "i is no longer less than 6\n"
          ]
        }
      ]
    },
    {
      "cell_type": "markdown",
      "source": [
        "## **Python For Loops**"
      ],
      "metadata": {
        "id": "iUfn5654YVtU"
      }
    },
    {
      "cell_type": "code",
      "source": [
        "for x in 'Python':\n",
        "    print(x)"
      ],
      "metadata": {
        "colab": {
          "base_uri": "https://localhost:8080/"
        },
        "id": "fUssjy7AYVJ-",
        "outputId": "fa780266-e261-48a6-c191-b19780b44d27"
      },
      "execution_count": null,
      "outputs": [
        {
          "output_type": "stream",
          "name": "stdout",
          "text": [
            "P\n",
            "y\n",
            "t\n",
            "h\n",
            "o\n",
            "n\n"
          ]
        }
      ]
    },
    {
      "cell_type": "markdown",
      "source": [
        "The range() function returns a sequence of numbers, starting from 0 by default, and increments by 1 (by default), and ends at a specified number."
      ],
      "metadata": {
        "id": "miNQydhOYpzE"
      }
    },
    {
      "cell_type": "code",
      "source": [
        "#Note that range(6) is not the values of 0 to 6, but the values 0 to 5.\n",
        "for x in range(6):\n",
        "  print(x)"
      ],
      "metadata": {
        "colab": {
          "base_uri": "https://localhost:8080/"
        },
        "id": "EW2yZYccYm-K",
        "outputId": "c5c32a02-48a0-437a-fc1f-bc96c9326cb8"
      },
      "execution_count": null,
      "outputs": [
        {
          "output_type": "stream",
          "name": "stdout",
          "text": [
            "0\n",
            "1\n",
            "2\n",
            "3\n",
            "4\n",
            "5\n"
          ]
        }
      ]
    },
    {
      "cell_type": "markdown",
      "source": [
        "The range() function defaults to 0 as a starting value, however it is possible to specify the starting value by adding a parameter: range(2, 6), which means values from 2 to 6 (but not including 6):"
      ],
      "metadata": {
        "id": "zigz3IBIY-7P"
      }
    },
    {
      "cell_type": "code",
      "source": [
        "for x in range(2, 6):\n",
        "  print(x)"
      ],
      "metadata": {
        "colab": {
          "base_uri": "https://localhost:8080/"
        },
        "id": "AfSvNEquY65H",
        "outputId": "7945c2b4-2aef-4797-9ef8-b94e725a6281"
      },
      "execution_count": null,
      "outputs": [
        {
          "output_type": "stream",
          "name": "stdout",
          "text": [
            "2\n",
            "3\n",
            "4\n",
            "5\n"
          ]
        }
      ]
    },
    {
      "cell_type": "markdown",
      "source": [
        "The range() function defaults to increment the sequence by 1, however it is possible to specify the increment value by adding a third parameter: range(2, 30, 3):"
      ],
      "metadata": {
        "id": "UryHbqrCZJ9z"
      }
    },
    {
      "cell_type": "code",
      "source": [
        "for x in range(2, 30, 3):\n",
        "  print(x)"
      ],
      "metadata": {
        "colab": {
          "base_uri": "https://localhost:8080/"
        },
        "id": "12NhyV7lY-1I",
        "outputId": "767a2220-b0ed-408c-b511-ce5eea0470d9"
      },
      "execution_count": null,
      "outputs": [
        {
          "output_type": "stream",
          "name": "stdout",
          "text": [
            "2\n",
            "5\n",
            "8\n",
            "11\n",
            "14\n",
            "17\n",
            "20\n",
            "23\n",
            "26\n",
            "29\n"
          ]
        }
      ]
    },
    {
      "cell_type": "markdown",
      "source": [
        "**Else in For Loop**"
      ],
      "metadata": {
        "id": "If0KWus9ZRK6"
      }
    },
    {
      "cell_type": "code",
      "source": [
        "for x in range(6):\n",
        "  print(x)\n",
        "else:\n",
        "  print(\"Finally finished!\")"
      ],
      "metadata": {
        "colab": {
          "base_uri": "https://localhost:8080/"
        },
        "id": "3NLsnW4eaRk4",
        "outputId": "d90324e8-c794-454f-c301-c5eb348a717a"
      },
      "execution_count": null,
      "outputs": [
        {
          "output_type": "stream",
          "name": "stdout",
          "text": [
            "0\n",
            "1\n",
            "2\n",
            "3\n",
            "4\n",
            "5\n",
            "Finally finished!\n"
          ]
        }
      ]
    },
    {
      "cell_type": "code",
      "source": [
        "#Break the loop when x is 3, and see what happens with the else block:\n",
        "for x in range(6):\n",
        "  if x == 3: break\n",
        "  print(x)\n",
        "else:\n",
        "  print(\"Finally finished!\")"
      ],
      "metadata": {
        "colab": {
          "base_uri": "https://localhost:8080/"
        },
        "id": "P7QtPWU1aYm-",
        "outputId": "3217b37f-c542-43ad-d68a-2577ed800097"
      },
      "execution_count": null,
      "outputs": [
        {
          "output_type": "stream",
          "name": "stdout",
          "text": [
            "0\n",
            "1\n",
            "2\n"
          ]
        }
      ]
    },
    {
      "cell_type": "markdown",
      "source": [
        "**Nested Loops**\n",
        "A nested loop is a loop inside a loop.\n",
        "\n",
        "The \"inner loop\" will be executed one time for each iteration of the \"outer loop\":"
      ],
      "metadata": {
        "id": "UKjFKaSEav2G"
      }
    },
    {
      "cell_type": "code",
      "source": [
        "# Running outer loop from 2 to 3\n",
        "\n",
        "for i in range(2, 4):\n",
        "\n",
        "    # Printing inside the outer loop\n",
        "    # Running inner loop from 1 to 10\n",
        "    for j in range(1, 11):\n",
        "\n",
        "        # Printing inside the inner loop\n",
        "        print(i, \"*\", j, \"=\", i*j)\n",
        "    # Printing inside the outer loop\n",
        "    print()"
      ],
      "metadata": {
        "colab": {
          "base_uri": "https://localhost:8080/"
        },
        "id": "jge6EPG0a1g8",
        "outputId": "c59786b4-a3f4-4096-d4a9-722717754e76"
      },
      "execution_count": null,
      "outputs": [
        {
          "output_type": "stream",
          "name": "stdout",
          "text": [
            "2 * 1 = 2\n",
            "2 * 2 = 4\n",
            "2 * 3 = 6\n",
            "2 * 4 = 8\n",
            "2 * 5 = 10\n",
            "2 * 6 = 12\n",
            "2 * 7 = 14\n",
            "2 * 8 = 16\n",
            "2 * 9 = 18\n",
            "2 * 10 = 20\n",
            "\n",
            "3 * 1 = 3\n",
            "3 * 2 = 6\n",
            "3 * 3 = 9\n",
            "3 * 4 = 12\n",
            "3 * 5 = 15\n",
            "3 * 6 = 18\n",
            "3 * 7 = 21\n",
            "3 * 8 = 24\n",
            "3 * 9 = 27\n",
            "3 * 10 = 30\n",
            "\n"
          ]
        }
      ]
    },
    {
      "cell_type": "markdown",
      "source": [
        "The pass Statement"
      ],
      "metadata": {
        "id": "gbUGsz1ma5Hm"
      }
    },
    {
      "cell_type": "code",
      "source": [
        "for x in [0, 1, 2]:\n",
        "  pass"
      ],
      "metadata": {
        "id": "XDhrho2GbByq"
      },
      "execution_count": null,
      "outputs": []
    },
    {
      "cell_type": "markdown",
      "source": [
        "## **Python Lists**"
      ],
      "metadata": {
        "id": "HFK6NgUNE-cO"
      }
    },
    {
      "cell_type": "code",
      "source": [
        "mylist = [\"apple\", \"banana\", \"cherry\"]"
      ],
      "metadata": {
        "id": "WNGa0oGIFIUU"
      },
      "execution_count": null,
      "outputs": []
    },
    {
      "cell_type": "code",
      "source": [
        "thislist = [\"apple\", \"banana\", \"cherry\"]\n",
        "print(thislist)"
      ],
      "metadata": {
        "colab": {
          "base_uri": "https://localhost:8080/"
        },
        "id": "728jlFVcFKww",
        "outputId": "0a75768b-b38a-4cb5-da2d-186edb97ca37"
      },
      "execution_count": null,
      "outputs": [
        {
          "output_type": "stream",
          "name": "stdout",
          "text": [
            "['apple', 'banana', 'cherry']\n"
          ]
        }
      ]
    },
    {
      "cell_type": "code",
      "source": [
        "thislist = [\"apple\", \"banana\", \"cherry\", \"apple\", \"cherry\"]\n",
        "print(thislist)"
      ],
      "metadata": {
        "colab": {
          "base_uri": "https://localhost:8080/"
        },
        "id": "_Kb1wvKZFNnD",
        "outputId": "506a05ed-16d9-4463-b587-923a32d8142c"
      },
      "execution_count": null,
      "outputs": [
        {
          "output_type": "stream",
          "name": "stdout",
          "text": [
            "['apple', 'banana', 'cherry', 'apple', 'cherry']\n"
          ]
        }
      ]
    },
    {
      "cell_type": "code",
      "source": [
        "print(len(thislist))"
      ],
      "metadata": {
        "colab": {
          "base_uri": "https://localhost:8080/"
        },
        "id": "6nR-5nFrFR6F",
        "outputId": "ae1343b9-e1fe-46e7-f957-6e59f49f426c"
      },
      "execution_count": null,
      "outputs": [
        {
          "output_type": "stream",
          "name": "stdout",
          "text": [
            "5\n"
          ]
        }
      ]
    },
    {
      "cell_type": "code",
      "source": [
        "#List items can be of any data type\n",
        "list1 = [\"apple\", \"banana\", \"cherry\"]\n",
        "list2 = [1, 5, 7, 9, 3]\n",
        "list3 = [True, False, False]"
      ],
      "metadata": {
        "id": "hY_9BJckFUju"
      },
      "execution_count": null,
      "outputs": []
    },
    {
      "cell_type": "code",
      "source": [
        "#A list can contain different data types\n",
        "list1 = [\"abc\", 34, True, 40, \"male\"]"
      ],
      "metadata": {
        "id": "0brQp2-OFcWh"
      },
      "execution_count": null,
      "outputs": []
    },
    {
      "cell_type": "code",
      "source": [
        "mylist = [\"apple\", \"banana\", \"cherry\"]\n",
        "print(type(mylist))"
      ],
      "metadata": {
        "colab": {
          "base_uri": "https://localhost:8080/"
        },
        "id": "PznP24zIFjom",
        "outputId": "ad65fabb-1433-4141-8751-9b5b354e6e00"
      },
      "execution_count": null,
      "outputs": [
        {
          "output_type": "stream",
          "name": "stdout",
          "text": [
            "<class 'list'>\n"
          ]
        }
      ]
    },
    {
      "cell_type": "markdown",
      "source": [
        "# Access List Items"
      ],
      "metadata": {
        "id": "QnzZ_4FlH7tX"
      }
    },
    {
      "cell_type": "code",
      "source": [
        "#Print the second item of the list\n",
        "thislist = [\"apple\", \"banana\", \"cherry\"]\n",
        "print(thislist[1])"
      ],
      "metadata": {
        "colab": {
          "base_uri": "https://localhost:8080/"
        },
        "id": "mMRVr93fFvMR",
        "outputId": "cea55305-814a-44e2-a3ed-8ebb9fc6b51e"
      },
      "execution_count": null,
      "outputs": [
        {
          "output_type": "stream",
          "name": "stdout",
          "text": [
            "banana\n"
          ]
        }
      ]
    },
    {
      "cell_type": "code",
      "source": [
        "#Print the last item of the list\n",
        "thislist = [\"apple\", \"banana\", \"cherry\"]\n",
        "print(thislist[-1])"
      ],
      "metadata": {
        "colab": {
          "base_uri": "https://localhost:8080/"
        },
        "id": "_k2Y-rk5INst",
        "outputId": "39dd0029-7b00-4c31-cbd1-251c477e939f"
      },
      "execution_count": null,
      "outputs": [
        {
          "output_type": "stream",
          "name": "stdout",
          "text": [
            "cherry\n"
          ]
        }
      ]
    },
    {
      "cell_type": "code",
      "source": [
        "#Return the third, fourth, and fifth item\n",
        "thislist = [\"apple\", \"banana\", \"cherry\", \"orange\", \"kiwi\", \"melon\", \"mango\"]\n",
        "print(thislist[2:5])"
      ],
      "metadata": {
        "colab": {
          "base_uri": "https://localhost:8080/"
        },
        "id": "7-p0a9hrITf5",
        "outputId": "232c3760-e330-4bbd-abe4-ccdfec2b173a"
      },
      "execution_count": null,
      "outputs": [
        {
          "output_type": "stream",
          "name": "stdout",
          "text": [
            "['cherry', 'orange', 'kiwi']\n"
          ]
        }
      ]
    },
    {
      "cell_type": "code",
      "source": [
        "thislist = [\"apple\", \"banana\", \"cherry\", \"orange\", \"kiwi\", \"melon\", \"mango\"]\n",
        "print(thislist[:4])"
      ],
      "metadata": {
        "colab": {
          "base_uri": "https://localhost:8080/"
        },
        "id": "IG0AVk-0IvY6",
        "outputId": "a65aa6d4-047d-4c01-de33-2c0085110bd5"
      },
      "execution_count": null,
      "outputs": [
        {
          "output_type": "stream",
          "name": "stdout",
          "text": [
            "['apple', 'banana', 'cherry', 'orange']\n"
          ]
        }
      ]
    },
    {
      "cell_type": "code",
      "source": [
        "#This example returns the items from \"cherry\" to the end\n",
        "thislist = [\"apple\", \"banana\", \"cherry\", \"orange\", \"kiwi\", \"melon\", \"mango\"]\n",
        "print(thislist[2:])"
      ],
      "metadata": {
        "colab": {
          "base_uri": "https://localhost:8080/"
        },
        "id": "JHvZ5_N7Ix6x",
        "outputId": "3e2156c4-3b16-47fb-e9c8-b28b1f7f4591"
      },
      "execution_count": null,
      "outputs": [
        {
          "output_type": "stream",
          "name": "stdout",
          "text": [
            "['cherry', 'orange', 'kiwi', 'melon', 'mango']\n"
          ]
        }
      ]
    },
    {
      "cell_type": "code",
      "source": [
        "#Range of Negative Indexes\n",
        "thislist = [\"apple\", \"banana\", \"cherry\", \"orange\", \"kiwi\", \"melon\", \"mango\"]\n",
        "print(thislist[-4:-1])"
      ],
      "metadata": {
        "colab": {
          "base_uri": "https://localhost:8080/"
        },
        "id": "zyZHbITpI6aD",
        "outputId": "cf9e5493-6446-484e-903f-b4a77b4575a1"
      },
      "execution_count": null,
      "outputs": [
        {
          "output_type": "stream",
          "name": "stdout",
          "text": [
            "['orange', 'kiwi', 'melon']\n"
          ]
        }
      ]
    },
    {
      "cell_type": "code",
      "source": [
        "#returns the items from \"orange\" (-4) to, but NOT including \"mango\" (-1)\n",
        "thislist = [\"apple\", \"banana\", \"cherry\", \"orange\", \"kiwi\", \"melon\", \"mango\"]\n",
        "print(thislist[-4:-1])"
      ],
      "metadata": {
        "id": "MTxQTyOQJAAI"
      },
      "execution_count": null,
      "outputs": []
    },
    {
      "cell_type": "code",
      "source": [
        "#Change the second item\n",
        "thislist = [\"apple\", \"banana\", \"cherry\"]\n",
        "thislist[1] = \"blackcurrant\"\n",
        "print(thislist)"
      ],
      "metadata": {
        "colab": {
          "base_uri": "https://localhost:8080/"
        },
        "id": "ta_x8hunKrj1",
        "outputId": "8d200077-7de6-4f63-e775-e53e94add887"
      },
      "execution_count": null,
      "outputs": [
        {
          "output_type": "stream",
          "name": "stdout",
          "text": [
            "['apple', 'blackcurrant', 'cherry']\n"
          ]
        }
      ]
    },
    {
      "cell_type": "code",
      "source": [
        "#Change the values \"banana\" and \"cherry\" with the values \"blackcurrant\" and \"watermelon\"\n",
        "thislist = [\"apple\", \"banana\", \"cherry\", \"orange\", \"kiwi\", \"mango\"]\n",
        "thislist[1:3] = [\"blackcurrant\", \"watermelon\"]\n",
        "print(thislist)"
      ],
      "metadata": {
        "colab": {
          "base_uri": "https://localhost:8080/"
        },
        "id": "G7eZtwvEKsJ5",
        "outputId": "7d70576d-fa19-4f5e-a3e2-7637978c50b8"
      },
      "execution_count": null,
      "outputs": [
        {
          "output_type": "stream",
          "name": "stdout",
          "text": [
            "['apple', 'blackcurrant', 'watermelon', 'orange', 'kiwi', 'mango']\n"
          ]
        }
      ]
    },
    {
      "cell_type": "code",
      "source": [
        "#Change the second value by replacing it with two new values\n",
        "thislist = [\"apple\", \"banana\", \"cherry\"]\n",
        "thislist[1:2] = [\"blackcurrant\", \"watermelon\"]\n",
        "print(thislist)"
      ],
      "metadata": {
        "colab": {
          "base_uri": "https://localhost:8080/"
        },
        "id": "4UVqsLbfLDy9",
        "outputId": "9a14726a-0e57-4d74-9998-c5a6f0e0b5a8"
      },
      "execution_count": null,
      "outputs": [
        {
          "output_type": "stream",
          "name": "stdout",
          "text": [
            "['apple', 'blackcurrant', 'watermelon', 'cherry']\n"
          ]
        }
      ]
    },
    {
      "cell_type": "code",
      "source": [
        "#Change the second and third value by replacing it with one value\n",
        "thislist = [\"apple\", \"banana\", \"cherry\"]\n",
        "thislist[1:3] = [\"watermelon\"]\n",
        "print(thislist)"
      ],
      "metadata": {
        "colab": {
          "base_uri": "https://localhost:8080/"
        },
        "id": "ZZHfRTyrLLQA",
        "outputId": "f8841055-3646-4555-e6db-16cfa39c18e1"
      },
      "execution_count": null,
      "outputs": [
        {
          "output_type": "stream",
          "name": "stdout",
          "text": [
            "['apple', 'watermelon']\n"
          ]
        }
      ]
    },
    {
      "cell_type": "code",
      "source": [
        "#Insert Items\n",
        "thislist = [\"apple\", \"banana\", \"cherry\"]\n",
        "thislist.insert(2, \"watermelon\")\n",
        "print(thislist)"
      ],
      "metadata": {
        "colab": {
          "base_uri": "https://localhost:8080/"
        },
        "id": "rc3r_3pLNZBE",
        "outputId": "7d31d974-4a6c-4b25-ea8b-92773f744889"
      },
      "execution_count": null,
      "outputs": [
        {
          "output_type": "stream",
          "name": "stdout",
          "text": [
            "['apple', 'banana', 'watermelon', 'cherry']\n"
          ]
        }
      ]
    },
    {
      "cell_type": "code",
      "source": [
        "#Add List Items\n",
        "thislist = [\"apple\", \"banana\", \"cherry\"]\n",
        "thislist.append(\"orange\")\n",
        "print(thislist)"
      ],
      "metadata": {
        "colab": {
          "base_uri": "https://localhost:8080/"
        },
        "id": "xg8iVZFgNlVZ",
        "outputId": "8978a642-0430-4b0c-83f0-037c7ee1710d"
      },
      "execution_count": null,
      "outputs": [
        {
          "output_type": "stream",
          "name": "stdout",
          "text": [
            "['apple', 'banana', 'cherry', 'orange']\n"
          ]
        }
      ]
    },
    {
      "cell_type": "markdown",
      "source": [
        "**Insert Items **\n",
        "To insert a list item at a specified index, use the insert() method.The insert() method inserts an item at the specified index:"
      ],
      "metadata": {
        "id": "rp_PPvbxe0v3"
      }
    },
    {
      "cell_type": "code",
      "source": [
        "#To insert a list item at a specified index, use the insert() method.\n",
        "#The insert() method inserts an item at the specified index:\n",
        "thislist = [\"apple\", \"banana\", \"cherry\"]\n",
        "thislist.insert(1, \"orange\")\n",
        "print(thislist)\n"
      ],
      "metadata": {
        "colab": {
          "base_uri": "https://localhost:8080/"
        },
        "id": "abc22CBEOAnq",
        "outputId": "429877ab-64bd-489f-bc98-8d761d4b5ccf"
      },
      "execution_count": null,
      "outputs": [
        {
          "output_type": "stream",
          "name": "stdout",
          "text": [
            "['apple', 'orange', 'banana', 'cherry']\n"
          ]
        }
      ]
    },
    {
      "cell_type": "markdown",
      "source": [
        "Extend List\n",
        "To append elements from another list to the current list, use the extend() method."
      ],
      "metadata": {
        "id": "UEDfIi1eeycG"
      }
    },
    {
      "cell_type": "code",
      "source": [
        "#Add the elements of tropical to thislist:\n",
        "thislist = [\"apple\", \"banana\", \"cherry\"]\n",
        "tropical = [\"mango\", \"pineapple\", \"papaya\"]\n",
        "thislist.extend(tropical)\n",
        "print(thislist)"
      ],
      "metadata": {
        "id": "_8f_vpPRObMp",
        "colab": {
          "base_uri": "https://localhost:8080/"
        },
        "outputId": "8ed280c5-d65e-4f43-fe09-f6d12afccb2f"
      },
      "execution_count": null,
      "outputs": [
        {
          "output_type": "stream",
          "name": "stdout",
          "text": [
            "['apple', 'banana', 'cherry', 'mango', 'pineapple', 'papaya']\n"
          ]
        }
      ]
    },
    {
      "cell_type": "code",
      "source": [
        "#Add Any Iterable\n",
        "thislist = [\"apple\", \"banana\", \"cherry\"]\n",
        "thistuple = (\"kiwi\", \"orange\")\n",
        "thislist.extend(thistuple)\n",
        "print(thislist)"
      ],
      "metadata": {
        "colab": {
          "base_uri": "https://localhost:8080/"
        },
        "id": "pYtvnOTafJzy",
        "outputId": "14d684cc-b597-4871-fed5-18b58d65d691"
      },
      "execution_count": null,
      "outputs": [
        {
          "output_type": "stream",
          "name": "stdout",
          "text": [
            "['apple', 'banana', 'cherry', 'kiwi', 'orange']\n"
          ]
        }
      ]
    },
    {
      "cell_type": "markdown",
      "source": [
        "**Remove Specified Item**"
      ],
      "metadata": {
        "id": "erp_Sqkof5-I"
      }
    },
    {
      "cell_type": "code",
      "source": [
        "#Remove \"banana\"\n",
        "thislist = [\"apple\", \"banana\", \"cherry\"]\n",
        "thislist.remove(\"banana\")\n",
        "print(thislist)"
      ],
      "metadata": {
        "colab": {
          "base_uri": "https://localhost:8080/"
        },
        "id": "ax1hi8__fWkj",
        "outputId": "1b876c4f-c515-4a56-934f-e47abefd2c42"
      },
      "execution_count": null,
      "outputs": [
        {
          "output_type": "stream",
          "name": "stdout",
          "text": [
            "['apple', 'cherry']\n"
          ]
        }
      ]
    },
    {
      "cell_type": "markdown",
      "source": [
        "**Remove Specified Index**\n",
        "The pop() method removes the specified index.\n"
      ],
      "metadata": {
        "id": "eP7xtmEwgJ8E"
      }
    },
    {
      "cell_type": "code",
      "source": [
        "#Remove the second item\n",
        "thislist = [\"apple\", \"banana\", \"cherry\"]\n",
        "thislist.pop(1)\n",
        "print(thislist)"
      ],
      "metadata": {
        "id": "Z0OE8L8agFVw"
      },
      "execution_count": null,
      "outputs": []
    },
    {
      "cell_type": "code",
      "source": [
        "#Remove the last item\n",
        "thislist = [\"apple\", \"banana\", \"cherry\"]\n",
        "thislist.pop()\n",
        "print(thislist)"
      ],
      "metadata": {
        "colab": {
          "base_uri": "https://localhost:8080/"
        },
        "id": "bNigl7H9gfdP",
        "outputId": "9044cef7-6697-4f0e-d63a-71a1eab37374"
      },
      "execution_count": null,
      "outputs": [
        {
          "output_type": "stream",
          "name": "stdout",
          "text": [
            "['apple', 'banana']\n"
          ]
        }
      ]
    },
    {
      "cell_type": "markdown",
      "source": [
        "The del keyword also removes the specified index:\n",
        "\n"
      ],
      "metadata": {
        "id": "A3cr2r7IgrGF"
      }
    },
    {
      "cell_type": "code",
      "source": [
        "thislist = [\"apple\", \"banana\", \"cherry\"]\n",
        "del thislist[0]\n",
        "print(thislist)"
      ],
      "metadata": {
        "colab": {
          "base_uri": "https://localhost:8080/"
        },
        "id": "uDeOszdxgi0d",
        "outputId": "3eeebed7-4fde-40b0-8e5e-f824c3d8131f"
      },
      "execution_count": null,
      "outputs": [
        {
          "output_type": "stream",
          "name": "stdout",
          "text": [
            "['banana', 'cherry']\n"
          ]
        }
      ]
    },
    {
      "cell_type": "code",
      "source": [
        "thislist = [\"apple\", \"banana\", \"cherry\"]\n",
        "del thislist"
      ],
      "metadata": {
        "id": "RaVHdMHIgvQy"
      },
      "execution_count": null,
      "outputs": []
    },
    {
      "cell_type": "code",
      "source": [
        "thislist"
      ],
      "metadata": {
        "colab": {
          "base_uri": "https://localhost:8080/",
          "height": 176
        },
        "id": "NoZkx-4fg1AN",
        "outputId": "137d56cc-6345-49e4-a012-56396116f551"
      },
      "execution_count": null,
      "outputs": [
        {
          "output_type": "error",
          "ename": "NameError",
          "evalue": "ignored",
          "traceback": [
            "\u001b[0;31m---------------------------------------------------------------------------\u001b[0m",
            "\u001b[0;31mNameError\u001b[0m                                 Traceback (most recent call last)",
            "\u001b[0;32m<ipython-input-32-a055916b98ef>\u001b[0m in \u001b[0;36m<cell line: 1>\u001b[0;34m()\u001b[0m\n\u001b[0;32m----> 1\u001b[0;31m \u001b[0mthislist\u001b[0m\u001b[0;34m\u001b[0m\u001b[0;34m\u001b[0m\u001b[0m\n\u001b[0m",
            "\u001b[0;31mNameError\u001b[0m: name 'thislist' is not defined"
          ]
        }
      ]
    },
    {
      "cell_type": "markdown",
      "source": [
        "The clear() method empties the list.\n",
        "\n",
        "The list still remains, but it has no content."
      ],
      "metadata": {
        "id": "NW_2ij9Zg8Bz"
      }
    },
    {
      "cell_type": "code",
      "source": [
        "thislist = [\"apple\", \"banana\", \"cherry\"]\n",
        "thislist.clear()\n",
        "print(thislist)"
      ],
      "metadata": {
        "colab": {
          "base_uri": "https://localhost:8080/"
        },
        "id": "fzv6nI0Yg2d8",
        "outputId": "9dd72580-5005-4648-a508-16b145f5e180"
      },
      "execution_count": null,
      "outputs": [
        {
          "output_type": "stream",
          "name": "stdout",
          "text": [
            "[]\n"
          ]
        }
      ]
    },
    {
      "cell_type": "markdown",
      "source": [
        "**Python - Loop Lists**\n"
      ],
      "metadata": {
        "id": "nN6RVzXvhvDf"
      }
    },
    {
      "cell_type": "code",
      "source": [
        "thislist = [\"apple\", \"banana\", \"cherry\"]\n",
        "for x in thislist:\n",
        "  print(x)"
      ],
      "metadata": {
        "colab": {
          "base_uri": "https://localhost:8080/"
        },
        "id": "pXdL-LRShARW",
        "outputId": "523cb0b3-7a0f-45e9-c561-679253f54c06"
      },
      "execution_count": null,
      "outputs": [
        {
          "output_type": "stream",
          "name": "stdout",
          "text": [
            "apple\n",
            "banana\n",
            "cherry\n"
          ]
        }
      ]
    },
    {
      "cell_type": "markdown",
      "source": [
        "Loop Through the Index Numbers\n",
        "Use the range() and len() functions to create a suitable iterable."
      ],
      "metadata": {
        "id": "kg4VY9bVh9nj"
      }
    },
    {
      "cell_type": "code",
      "source": [
        "thislist = [\"apple\", \"banana\", \"cherry\"]\n",
        "for i in range(len(thislist)):\n",
        "  print(thislist[i])"
      ],
      "metadata": {
        "colab": {
          "base_uri": "https://localhost:8080/"
        },
        "id": "b3UG1ZrXh4NK",
        "outputId": "7202c169-c3db-4a84-ebe4-328783e1f9fe"
      },
      "execution_count": null,
      "outputs": [
        {
          "output_type": "stream",
          "name": "stdout",
          "text": [
            "apple\n",
            "banana\n",
            "cherry\n"
          ]
        }
      ]
    },
    {
      "cell_type": "markdown",
      "source": [
        "**Using a While Loop**"
      ],
      "metadata": {
        "id": "cLMq3Pi0iM6S"
      }
    },
    {
      "cell_type": "code",
      "source": [
        "thislist = [\"apple\", \"banana\", \"cherry\"]\n",
        "i = 0\n",
        "while i < len(thislist):\n",
        "  print(thislist[i])\n",
        "  i = i + 1"
      ],
      "metadata": {
        "colab": {
          "base_uri": "https://localhost:8080/"
        },
        "id": "JMotwkFpiFGx",
        "outputId": "9bda382b-9325-44ac-db0d-7a862d787c7a"
      },
      "execution_count": null,
      "outputs": [
        {
          "output_type": "stream",
          "name": "stdout",
          "text": [
            "apple\n",
            "banana\n",
            "cherry\n"
          ]
        }
      ]
    },
    {
      "cell_type": "markdown",
      "source": [
        "Looping Using List Comprehension"
      ],
      "metadata": {
        "id": "6JiOuFW6idHQ"
      }
    },
    {
      "cell_type": "code",
      "source": [
        "thislist = [\"apple\", \"banana\", \"cherry\"]\n",
        "[print(x) for x in thislist]"
      ],
      "metadata": {
        "colab": {
          "base_uri": "https://localhost:8080/"
        },
        "id": "M71Hlp8UiRRJ",
        "outputId": "e09b2b49-daa6-44a7-bc1c-8442cc528d1f"
      },
      "execution_count": null,
      "outputs": [
        {
          "output_type": "stream",
          "name": "stdout",
          "text": [
            "apple\n",
            "banana\n",
            "cherry\n"
          ]
        },
        {
          "output_type": "execute_result",
          "data": {
            "text/plain": [
              "[None, None, None]"
            ]
          },
          "metadata": {},
          "execution_count": 37
        }
      ]
    },
    {
      "cell_type": "markdown",
      "source": [
        "List Comprehension\n",
        "List comprehension offers a shorter syntax when you want to create a new list based on the values of an existing list.\n",
        "\n",
        "Example:\n",
        "\n",
        "Based on a list of fruits, you want a new list, containing only the fruits with the letter \"a\" in the name.\n",
        "\n",
        "Without list comprehension you will have to write a for statement with a conditional test inside:"
      ],
      "metadata": {
        "id": "1oVjSD8SjHdq"
      }
    },
    {
      "cell_type": "code",
      "source": [
        "fruits = [\"apple\", \"banana\", \"cherry\", \"kiwi\", \"mango\"]\n",
        "newlist = []\n",
        "\n",
        "for x in fruits:\n",
        "  if \"a\" in x:\n",
        "    newlist.append(x)\n",
        "\n",
        "print(newlist)"
      ],
      "metadata": {
        "colab": {
          "base_uri": "https://localhost:8080/"
        },
        "id": "jpuyNs0riifu",
        "outputId": "847d6d5c-4c32-41aa-f6c3-0c39eb50b677"
      },
      "execution_count": null,
      "outputs": [
        {
          "output_type": "stream",
          "name": "stdout",
          "text": [
            "['apple', 'banana', 'mango']\n"
          ]
        }
      ]
    },
    {
      "cell_type": "markdown",
      "source": [
        "**The Syntax**\n",
        "\n",
        "newlist = [expression for item in iterable if condition == True]"
      ],
      "metadata": {
        "id": "pE0gnyR-jfny"
      }
    },
    {
      "cell_type": "code",
      "source": [
        "#With list comprehension you can do all that with only one line of code:\n",
        "fruits = [\"apple\", \"banana\", \"cherry\", \"kiwi\", \"mango\"]\n",
        "\n",
        "newlist = [x for x in fruits if \"a\" in x]\n",
        "\n",
        "print(newlist)"
      ],
      "metadata": {
        "colab": {
          "base_uri": "https://localhost:8080/"
        },
        "id": "-s9AqocGjLTz",
        "outputId": "72afb26c-9ee5-44a5-916a-9d77038be8ed"
      },
      "execution_count": null,
      "outputs": [
        {
          "output_type": "stream",
          "name": "stdout",
          "text": [
            "['apple', 'banana', 'mango']\n"
          ]
        }
      ]
    },
    {
      "cell_type": "markdown",
      "source": [
        "**Sort List Alphanumerically**\n",
        "List objects have a sort() method that will sort the list alphanumerically, ascending, by default:\n",
        "\n"
      ],
      "metadata": {
        "id": "Xi-gHX7-6KGz"
      }
    },
    {
      "cell_type": "code",
      "source": [
        "thislist = [\"orange\", \"mango\", \"kiwi\", \"pineapple\", \"banana\"]\n",
        "thislist.sort()\n",
        "print(thislist)"
      ],
      "metadata": {
        "id": "1_lixgRVjSd-",
        "colab": {
          "base_uri": "https://localhost:8080/"
        },
        "outputId": "b98505b6-f8c0-4190-8bf0-dbd139df622b"
      },
      "execution_count": null,
      "outputs": [
        {
          "output_type": "stream",
          "name": "stdout",
          "text": [
            "['banana', 'kiwi', 'mango', 'orange', 'pineapple']\n"
          ]
        }
      ]
    },
    {
      "cell_type": "code",
      "source": [
        "thislist = [100, 50, 65, 82, 23]\n",
        "thislist.sort()\n",
        "print(thislist)"
      ],
      "metadata": {
        "colab": {
          "base_uri": "https://localhost:8080/"
        },
        "id": "okdxtUcK6UZQ",
        "outputId": "fa5fb473-95e9-451b-886b-38218e6fc2c8"
      },
      "execution_count": null,
      "outputs": [
        {
          "output_type": "stream",
          "name": "stdout",
          "text": [
            "[23, 50, 65, 82, 100]\n"
          ]
        }
      ]
    },
    {
      "cell_type": "markdown",
      "source": [
        "To sort descending, use the keyword argument reverse = True:\n",
        "\n"
      ],
      "metadata": {
        "id": "Jfarz3ok6eOg"
      }
    },
    {
      "cell_type": "code",
      "source": [
        "#Sort the list descending:\n",
        "thislist = [\"orange\", \"mango\", \"kiwi\", \"pineapple\", \"banana\"]\n",
        "thislist.sort(reverse = True)\n",
        "print(thislist)\n"
      ],
      "metadata": {
        "colab": {
          "base_uri": "https://localhost:8080/"
        },
        "id": "VmDBs23Z6Xfr",
        "outputId": "849553cf-8967-44fa-86fa-aa07688f55d7"
      },
      "execution_count": null,
      "outputs": [
        {
          "output_type": "stream",
          "name": "stdout",
          "text": [
            "['pineapple', 'orange', 'mango', 'kiwi', 'banana']\n"
          ]
        }
      ]
    },
    {
      "cell_type": "code",
      "source": [
        "#Sort the list descending:\n",
        "thislist = [100, 50, 65, 82, 23]\n",
        "thislist.sort(reverse = True)\n",
        "print(thislist)"
      ],
      "metadata": {
        "id": "bUvHP3OM6-1v"
      },
      "execution_count": null,
      "outputs": []
    },
    {
      "cell_type": "markdown",
      "source": [
        "**Copy a List**"
      ],
      "metadata": {
        "id": "HHnYUhmH7MoU"
      }
    },
    {
      "cell_type": "code",
      "source": [
        "thislist = [\"apple\", \"banana\", \"cherry\"]\n",
        "mylist = thislist.copy()\n",
        "print(mylist)"
      ],
      "metadata": {
        "id": "KJhMyKC77NRf"
      },
      "execution_count": null,
      "outputs": []
    },
    {
      "cell_type": "code",
      "source": [
        "thislist = [\"apple\", \"banana\", \"cherry\"]\n",
        "mylist = list(thislist)\n",
        "print(mylist)"
      ],
      "metadata": {
        "id": "fT9ttu8x7S11"
      },
      "execution_count": null,
      "outputs": []
    },
    {
      "cell_type": "markdown",
      "source": [
        "**Join Two Lists**"
      ],
      "metadata": {
        "id": "AmUw50Ej7uy9"
      }
    },
    {
      "cell_type": "code",
      "source": [
        "list1 = [\"a\", \"b\", \"c\"]\n",
        "list2 = [1, 2, 3]\n",
        "\n",
        "list3 = list1 + list2\n",
        "print(list3)"
      ],
      "metadata": {
        "colab": {
          "base_uri": "https://localhost:8080/"
        },
        "id": "PC94UQZk7qrY",
        "outputId": "abf275ec-d125-42ab-c97b-d1af85e22295"
      },
      "execution_count": null,
      "outputs": [
        {
          "output_type": "stream",
          "name": "stdout",
          "text": [
            "['a', 'b', 'c', 1, 2, 3]\n"
          ]
        }
      ]
    },
    {
      "cell_type": "code",
      "source": [
        "list1 = [\"a\", \"b\" , \"c\"]\n",
        "list2 = [1, 2, 3]\n",
        "\n",
        "for x in list2:\n",
        "  list1.append(x)\n",
        "\n",
        "print(list1)"
      ],
      "metadata": {
        "colab": {
          "base_uri": "https://localhost:8080/"
        },
        "id": "U5wHU6Ko71K5",
        "outputId": "7254ac64-1259-4908-c93a-4b0f354f26c3"
      },
      "execution_count": null,
      "outputs": [
        {
          "output_type": "stream",
          "name": "stdout",
          "text": [
            "['a', 'b', 'c', 1, 2, 3]\n"
          ]
        }
      ]
    },
    {
      "cell_type": "code",
      "source": [
        "list1 = [\"a\", \"b\" , \"c\"]\n",
        "list2 = [1, 2, 3]\n",
        "\n",
        "list1.extend(list2)\n",
        "print(list1)"
      ],
      "metadata": {
        "colab": {
          "base_uri": "https://localhost:8080/"
        },
        "id": "IYGq09OV71_1",
        "outputId": "644253a7-78d3-4999-b03b-4c8bf5fb4b0d"
      },
      "execution_count": null,
      "outputs": [
        {
          "output_type": "stream",
          "name": "stdout",
          "text": [
            "['a', 'b', 'c', 1, 2, 3]\n"
          ]
        }
      ]
    },
    {
      "cell_type": "markdown",
      "source": [
        "![Screenshot 2023-08-23 181018.png](data:image/png;base64,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)"
      ],
      "metadata": {
        "id": "mTDZYXN38Rtu"
      }
    },
    {
      "cell_type": "markdown",
      "source": [
        "# **Python Tuples**"
      ],
      "metadata": {
        "id": "cqChuASf8zr7"
      }
    },
    {
      "cell_type": "markdown",
      "source": [
        "Tuples are used to store multiple items in a single variable.\n",
        "\n",
        "Tuple is one of 4 built-in data types in Python used to store collections of data, the other 3 are List, Set, and Dictionary, all with different qualities and usage.\n",
        "\n",
        "A tuple is a collection which is ordered and unchangeable.\n",
        "\n",
        "Tuples are written with round brackets"
      ],
      "metadata": {
        "id": "0vrIKNXk985T"
      }
    },
    {
      "cell_type": "code",
      "source": [
        "mytuple = (\"apple\", \"banana\", \"cherry\")"
      ],
      "metadata": {
        "id": "SU9gaqje75Tg"
      },
      "execution_count": null,
      "outputs": []
    },
    {
      "cell_type": "code",
      "source": [
        "thistuple = (\"apple\", \"banana\", \"cherry\")\n",
        "print(thistuple)"
      ],
      "metadata": {
        "colab": {
          "base_uri": "https://localhost:8080/"
        },
        "id": "Zbc1HfZg92SV",
        "outputId": "7ef17d04-3820-4a70-ad5c-b090ece8f881"
      },
      "execution_count": null,
      "outputs": [
        {
          "output_type": "stream",
          "name": "stdout",
          "text": [
            "('apple', 'banana', 'cherry')\n"
          ]
        }
      ]
    },
    {
      "cell_type": "markdown",
      "source": [
        "Tuple items are ordered, unchangeable, and allow duplicate values.\n",
        "\n",
        "Tuple items are indexed, the first item has index [0], the second item has index [1] etc."
      ],
      "metadata": {
        "id": "I96wJBa4-HHj"
      }
    },
    {
      "cell_type": "markdown",
      "source": [
        "**Ordered**\n",
        "When we say that tuples are ordered, it means that the items have a defined order, and that order will not change.\n",
        "\n",
        "**Unchangeable**\n",
        "Tuples are unchangeable, meaning that we cannot change, add or remove items after the tuple has been created.\n",
        "\n",
        "**Allow Duplicates** Since tuples are indexed, they can have items with the same value:\n",
        "\n",
        "\n"
      ],
      "metadata": {
        "id": "xKpSQlx3-Ken"
      }
    },
    {
      "cell_type": "code",
      "source": [
        "thistuple = (\"apple\", \"banana\", \"cherry\", \"apple\", \"cherry\")\n",
        "print(thistuple)"
      ],
      "metadata": {
        "id": "qWwPlV1y-CI1"
      },
      "execution_count": null,
      "outputs": []
    },
    {
      "cell_type": "markdown",
      "source": [
        "**Tuple Length**"
      ],
      "metadata": {
        "id": "jqlikXjU-03v"
      }
    },
    {
      "cell_type": "code",
      "source": [
        "thistuple = (\"apple\", \"banana\", \"cherry\")\n",
        "print(len(thistuple))"
      ],
      "metadata": {
        "colab": {
          "base_uri": "https://localhost:8080/"
        },
        "id": "RhE1SwZR-21j",
        "outputId": "09f3cfa5-eec9-41f0-da71-e7eb3dc9fd3f"
      },
      "execution_count": null,
      "outputs": [
        {
          "output_type": "stream",
          "name": "stdout",
          "text": [
            "3\n"
          ]
        }
      ]
    },
    {
      "cell_type": "markdown",
      "source": [
        "Create Tuple With One Item"
      ],
      "metadata": {
        "id": "Agpw1g_F-9KF"
      }
    },
    {
      "cell_type": "code",
      "source": [
        "thistuple = (\"apple\",)\n",
        "print(type(thistuple))\n",
        "\n",
        "#NOT a tuple\n",
        "thistuple = (\"apple\")\n",
        "print(type(thistuple))"
      ],
      "metadata": {
        "colab": {
          "base_uri": "https://localhost:8080/"
        },
        "id": "B_DN7moV-55i",
        "outputId": "9e677ea4-611a-4e9d-93bc-1e3ab5fccdb9"
      },
      "execution_count": null,
      "outputs": [
        {
          "output_type": "stream",
          "name": "stdout",
          "text": [
            "<class 'tuple'>\n",
            "<class 'str'>\n"
          ]
        }
      ]
    },
    {
      "cell_type": "markdown",
      "source": [
        "Tuple Items - Data Types"
      ],
      "metadata": {
        "id": "bqe602uQ_D7k"
      }
    },
    {
      "cell_type": "code",
      "source": [
        "tuple1 = (\"apple\", \"banana\", \"cherry\")\n",
        "tuple2 = (1, 5, 7, 9, 3)\n",
        "tuple3 = (True, False, False)"
      ],
      "metadata": {
        "id": "EVKsUlCp_A5s"
      },
      "execution_count": null,
      "outputs": []
    },
    {
      "cell_type": "markdown",
      "source": [
        "A tuple can contain different data types:\n",
        "\n"
      ],
      "metadata": {
        "id": "1eeGvGVZ_KRS"
      }
    },
    {
      "cell_type": "code",
      "source": [
        "tuple1 = (\"abc\", 34, True, 40, \"male\")\n"
      ],
      "metadata": {
        "id": "SHQCZ6Vj_Gul"
      },
      "execution_count": null,
      "outputs": []
    },
    {
      "cell_type": "code",
      "source": [
        "mytuple = (\"apple\", \"banana\", \"cherry\")\n",
        "print(type(mytuple))"
      ],
      "metadata": {
        "colab": {
          "base_uri": "https://localhost:8080/"
        },
        "id": "_KmGCm2m_T-D",
        "outputId": "63412ea8-8957-4b11-8691-8b0654c7be4f"
      },
      "execution_count": null,
      "outputs": [
        {
          "output_type": "stream",
          "name": "stdout",
          "text": [
            "<class 'tuple'>\n"
          ]
        }
      ]
    },
    {
      "cell_type": "code",
      "source": [
        "thistuple = tuple((\"apple\", \"banana\", \"cherry\")) # note the double round-brackets\n",
        "print(thistuple)"
      ],
      "metadata": {
        "colab": {
          "base_uri": "https://localhost:8080/"
        },
        "id": "9X-coaU8_Ww4",
        "outputId": "d83f7d82-30f5-49a5-b887-cf60e961c84f"
      },
      "execution_count": null,
      "outputs": [
        {
          "output_type": "stream",
          "name": "stdout",
          "text": [
            "('apple', 'banana', 'cherry')\n"
          ]
        }
      ]
    },
    {
      "cell_type": "markdown",
      "source": [
        "**Python Collections (Arrays)**\n",
        "There are four collection data types in the Python programming language:\n",
        "\n",
        "List is a collection which is ordered and changeable. Allows duplicate members.\n",
        "Tuple is a collection which is ordered and unchangeable. Allows duplicate members.\n",
        "Set is a collection which is unordered, unchangeable*, and unindexed. No duplicate members.\n",
        "Dictionary is a collection which is ordered** and changeable. No duplicate members."
      ],
      "metadata": {
        "id": "XWB2coKk_hkE"
      }
    },
    {
      "cell_type": "markdown",
      "source": [
        "**Access Tuple Items**"
      ],
      "metadata": {
        "id": "WZEilc9AAPd1"
      }
    },
    {
      "cell_type": "code",
      "source": [
        "thistuple = (\"apple\", \"banana\", \"cherry\")\n",
        "print(thistuple[1])"
      ],
      "metadata": {
        "colab": {
          "base_uri": "https://localhost:8080/"
        },
        "id": "3SM52x20_dRI",
        "outputId": "d4925fdb-5996-4ee4-cd4a-a8f347efd7dd"
      },
      "execution_count": null,
      "outputs": [
        {
          "output_type": "stream",
          "name": "stdout",
          "text": [
            "banana\n"
          ]
        }
      ]
    },
    {
      "cell_type": "code",
      "source": [
        "#Negative Indexing\n",
        "thistuple = (\"apple\", \"banana\", \"cherry\")\n",
        "print(thistuple[-1])"
      ],
      "metadata": {
        "colab": {
          "base_uri": "https://localhost:8080/"
        },
        "id": "NbBVn_vlBClE",
        "outputId": "63334587-9fd5-442d-84bd-9ae4b5766fe6"
      },
      "execution_count": null,
      "outputs": [
        {
          "output_type": "stream",
          "name": "stdout",
          "text": [
            "cherry\n"
          ]
        }
      ]
    },
    {
      "cell_type": "code",
      "source": [
        "#Range of Indexes\n",
        "#Return the third, fourth, and fifth item\n",
        "thistuple = (\"apple\", \"banana\", \"cherry\", \"orange\", \"kiwi\", \"melon\", \"mango\")\n",
        "print(thistuple[2:5])"
      ],
      "metadata": {
        "colab": {
          "base_uri": "https://localhost:8080/"
        },
        "id": "ImNpa9NqBUc7",
        "outputId": "15c9314e-b1d8-4329-ef57-0669637f3e28"
      },
      "execution_count": null,
      "outputs": [
        {
          "output_type": "stream",
          "name": "stdout",
          "text": [
            "('cherry', 'orange', 'kiwi')\n"
          ]
        }
      ]
    },
    {
      "cell_type": "code",
      "source": [
        "#This example returns the items from the beginning to, but NOT included, \"kiwi\":\n",
        "\n",
        "thistuple = (\"apple\", \"banana\", \"cherry\", \"orange\", \"kiwi\", \"melon\", \"mango\")\n",
        "print(thistuple[:4])\n"
      ],
      "metadata": {
        "colab": {
          "base_uri": "https://localhost:8080/"
        },
        "id": "O15YwvG6Bg0-",
        "outputId": "402d7bee-3e11-4107-cc7a-99c920e1705c"
      },
      "execution_count": null,
      "outputs": [
        {
          "output_type": "stream",
          "name": "stdout",
          "text": [
            "('apple', 'banana', 'cherry', 'orange')\n"
          ]
        }
      ]
    },
    {
      "cell_type": "code",
      "source": [
        "#This example returns the items from \"cherry\" and to the end:\n",
        "\n",
        "thistuple = (\"apple\", \"banana\", \"cherry\", \"orange\", \"kiwi\", \"melon\", \"mango\")\n",
        "print(thistuple[2:])"
      ],
      "metadata": {
        "colab": {
          "base_uri": "https://localhost:8080/"
        },
        "id": "2Dh1PF8PCAQR",
        "outputId": "8dca6c06-052a-4bd4-d1c9-01a2c221e85d"
      },
      "execution_count": null,
      "outputs": [
        {
          "output_type": "stream",
          "name": "stdout",
          "text": [
            "('cherry', 'orange', 'kiwi', 'melon', 'mango')\n"
          ]
        }
      ]
    },
    {
      "cell_type": "code",
      "source": [
        "#Range of Negative Indexes\n",
        "#This example returns the items from index -4 (included) to index -1 (excluded)\n",
        "\n",
        "thistuple = (\"apple\", \"banana\", \"cherry\", \"orange\", \"kiwi\", \"melon\", \"mango\")\n",
        "print(thistuple[-4:-1])"
      ],
      "metadata": {
        "id": "Pat9XkmICISP"
      },
      "execution_count": null,
      "outputs": []
    },
    {
      "cell_type": "code",
      "source": [
        "#Check if Item Exists\n",
        "#To determine if a specified item is present in a tuple use the in keyword:\n",
        "\n",
        "thistuple = (\"apple\", \"banana\", \"cherry\")\n",
        "if \"apple\" in thistuple:\n",
        "  print(\"Yes, 'apple' is in the fruits tuple\")"
      ],
      "metadata": {
        "colab": {
          "base_uri": "https://localhost:8080/"
        },
        "id": "VZf0CKEICTCZ",
        "outputId": "f9414484-62b2-4769-c7b2-c88141356209"
      },
      "execution_count": null,
      "outputs": [
        {
          "output_type": "stream",
          "name": "stdout",
          "text": [
            "Yes, 'apple' is in the fruits tuple\n"
          ]
        }
      ]
    },
    {
      "cell_type": "markdown",
      "source": [
        "**Change Tuple Values**"
      ],
      "metadata": {
        "id": "_PVJ9qOBChpa"
      }
    },
    {
      "cell_type": "code",
      "source": [
        "#Convert the tuple into a list to be able to change it: عملية التحويل العادية\n",
        "x = (\"apple\", \"banana\", \"cherry\")\n",
        "y = list(x)\n",
        "y[1] = \"kiwi\"\n",
        "x = tuple(y)\n",
        "\n",
        "print(x)\n"
      ],
      "metadata": {
        "colab": {
          "base_uri": "https://localhost:8080/"
        },
        "id": "Ao4jpibvCeHe",
        "outputId": "d4d49d65-7226-40fe-acee-e920bae47914"
      },
      "execution_count": null,
      "outputs": [
        {
          "output_type": "stream",
          "name": "stdout",
          "text": [
            "('apple', 'kiwi', 'cherry')\n"
          ]
        }
      ]
    },
    {
      "cell_type": "code",
      "source": [
        "#Add Items\n",
        "#1. Convert into a list:\n",
        "#Convert the tuple into a list, add \"orange\", and convert it back into a tuple:\n",
        "\n",
        "thistuple = (\"apple\", \"banana\", \"cherry\")\n",
        "y = list(thistuple)\n",
        "y.append(\"orange\")\n",
        "thistuple = tuple(y)"
      ],
      "metadata": {
        "id": "PohFZkYaCrVY"
      },
      "execution_count": null,
      "outputs": []
    },
    {
      "cell_type": "code",
      "source": [
        "#2. Add tuple to a tuple\n",
        "thistuple = (\"apple\", \"banana\", \"cherry\")\n",
        "y = (\"orange\",)\n",
        "thistuple += y\n",
        "\n",
        "print(thistuple)"
      ],
      "metadata": {
        "colab": {
          "base_uri": "https://localhost:8080/"
        },
        "id": "yLoM9zGtDrE0",
        "outputId": "928e8f6c-e0d3-4747-df16-f63eb0395830"
      },
      "execution_count": null,
      "outputs": [
        {
          "output_type": "stream",
          "name": "stdout",
          "text": [
            "('apple', 'banana', 'cherry', 'orange')\n"
          ]
        }
      ]
    },
    {
      "cell_type": "code",
      "source": [
        "#Remove Items\n",
        "#Convert the tuple into a list, remove \"apple\", and convert it back into a tuple:\n",
        "\n",
        "thistuple = (\"apple\", \"banana\", \"cherry\")\n",
        "y = list(thistuple)\n",
        "y.remove(\"apple\")\n",
        "thistuple = tuple(y)"
      ],
      "metadata": {
        "id": "eoYOo2-mD4_9"
      },
      "execution_count": null,
      "outputs": []
    },
    {
      "cell_type": "code",
      "source": [
        "#The del keyword can delete the tuple completely:\n",
        "thistuple = (\"apple\", \"banana\", \"cherry\")\n",
        "del thistuple\n",
        "print(thistuple)"
      ],
      "metadata": {
        "colab": {
          "base_uri": "https://localhost:8080/",
          "height": 211
        },
        "id": "-nDpQBqJERU-",
        "outputId": "ec81b170-fae6-4282-c866-87a498de1b44"
      },
      "execution_count": null,
      "outputs": [
        {
          "output_type": "error",
          "ename": "NameError",
          "evalue": "ignored",
          "traceback": [
            "\u001b[0;31m---------------------------------------------------------------------------\u001b[0m",
            "\u001b[0;31mNameError\u001b[0m                                 Traceback (most recent call last)",
            "\u001b[0;32m<ipython-input-27-1eccac7dbe71>\u001b[0m in \u001b[0;36m<cell line: 4>\u001b[0;34m()\u001b[0m\n\u001b[1;32m      2\u001b[0m \u001b[0mthistuple\u001b[0m \u001b[0;34m=\u001b[0m \u001b[0;34m(\u001b[0m\u001b[0;34m\"apple\"\u001b[0m\u001b[0;34m,\u001b[0m \u001b[0;34m\"banana\"\u001b[0m\u001b[0;34m,\u001b[0m \u001b[0;34m\"cherry\"\u001b[0m\u001b[0;34m)\u001b[0m\u001b[0;34m\u001b[0m\u001b[0;34m\u001b[0m\u001b[0m\n\u001b[1;32m      3\u001b[0m \u001b[0;32mdel\u001b[0m \u001b[0mthistuple\u001b[0m\u001b[0;34m\u001b[0m\u001b[0;34m\u001b[0m\u001b[0m\n\u001b[0;32m----> 4\u001b[0;31m \u001b[0mprint\u001b[0m\u001b[0;34m(\u001b[0m\u001b[0mthistuple\u001b[0m\u001b[0;34m)\u001b[0m\u001b[0;34m\u001b[0m\u001b[0;34m\u001b[0m\u001b[0m\n\u001b[0m",
            "\u001b[0;31mNameError\u001b[0m: name 'thistuple' is not defined"
          ]
        }
      ]
    },
    {
      "cell_type": "markdown",
      "source": [
        "**Loop Through a Tuple**"
      ],
      "metadata": {
        "id": "p1DRABWCEvZz"
      }
    },
    {
      "cell_type": "code",
      "source": [
        "#Iterate through the items and print the values:\n",
        "thistuple = (\"apple\", \"banana\", \"cherry\")\n",
        "for x in thistuple:\n",
        "  print(x)\n"
      ],
      "metadata": {
        "colab": {
          "base_uri": "https://localhost:8080/"
        },
        "id": "1jSCh5ENEbzv",
        "outputId": "185b633e-b81d-411b-8598-2b8149e6898d"
      },
      "execution_count": null,
      "outputs": [
        {
          "output_type": "stream",
          "name": "stdout",
          "text": [
            "apple\n",
            "banana\n",
            "cherry\n"
          ]
        }
      ]
    },
    {
      "cell_type": "markdown",
      "source": [
        "Loop Through the Index Numbers"
      ],
      "metadata": {
        "id": "9ATbzmTsqb2N"
      }
    },
    {
      "cell_type": "markdown",
      "source": [
        "Use the range() and len() functions to create a suitable iterable."
      ],
      "metadata": {
        "id": "SnwRu84vqsNS"
      }
    },
    {
      "cell_type": "code",
      "source": [
        "#Print all items by referring to their index number:\n",
        "thistuple = (\"apple\", \"banana\", \"cherry\")\n",
        "for i in range(len(thistuple)):\n",
        "  print(thistuple[i])"
      ],
      "metadata": {
        "colab": {
          "base_uri": "https://localhost:8080/"
        },
        "id": "x3-TPDewE6z1",
        "outputId": "bee24c90-0c51-4a4d-9937-9c7647be859a"
      },
      "execution_count": null,
      "outputs": [
        {
          "output_type": "stream",
          "name": "stdout",
          "text": [
            "apple\n",
            "banana\n",
            "cherry\n"
          ]
        }
      ]
    },
    {
      "cell_type": "markdown",
      "source": [
        "Using a While Loop\n"
      ],
      "metadata": {
        "id": "hZUn-AeHqXkK"
      }
    },
    {
      "cell_type": "code",
      "source": [
        "thistuple = (\"apple\", \"banana\", \"cherry\")\n",
        "i = 0\n",
        "while i < len(thistuple):\n",
        "  print(thistuple[i])\n",
        "  i = i + 1"
      ],
      "metadata": {
        "id": "_uwMftorFHyg"
      },
      "execution_count": null,
      "outputs": []
    },
    {
      "cell_type": "markdown",
      "source": [
        "**Join Two Tuples**"
      ],
      "metadata": {
        "id": "mnl7shQKq1MP"
      }
    },
    {
      "cell_type": "code",
      "source": [
        "tuple1 = (\"a\", \"b\" , \"c\")\n",
        "tuple2 = (1, 2, 3)\n",
        "\n",
        "tuple3 = tuple1 + tuple2\n",
        "print(tuple3)"
      ],
      "metadata": {
        "id": "QH2bEu5XqyMY"
      },
      "execution_count": null,
      "outputs": []
    },
    {
      "cell_type": "code",
      "source": [
        "fruits = (\"apple\", \"banana\", \"cherry\")\n",
        "mytuple = fruits * 2\n",
        "\n",
        "print(mytuple)"
      ],
      "metadata": {
        "colab": {
          "base_uri": "https://localhost:8080/"
        },
        "id": "GAzC90_fradc",
        "outputId": "213c3d47-a0c6-4f53-c439-52cf3340ac9c"
      },
      "execution_count": null,
      "outputs": [
        {
          "output_type": "stream",
          "name": "stdout",
          "text": [
            "('apple', 'banana', 'cherry', 'apple', 'banana', 'cherry')\n"
          ]
        }
      ]
    },
    {
      "cell_type": "markdown",
      "source": [
        "![Screenshot 2023-08-24 113529.png](data:image/png;base64,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)"
      ],
      "metadata": {
        "id": "5SrNMRVFr_of"
      }
    },
    {
      "cell_type": "markdown",
      "source": [
        "# **Python Sets**\n"
      ],
      "metadata": {
        "id": "7u1SK859sM6g"
      }
    },
    {
      "cell_type": "markdown",
      "source": [
        "\n",
        "**Sets** are used to store multiple items in a single variable.\n",
        "\n",
        "Set is one of 4 built-in data types in Python used to store collections of data, the other 3 are List, Tuple, and Dictionary, all with different qualities and usage.\n",
        "\n",
        "A set is a collection which is unordered, unchangeable*, and unindexed."
      ],
      "metadata": {
        "id": "LfAeaCVJscd8"
      }
    },
    {
      "cell_type": "markdown",
      "source": [
        "* **Note: Set items are unchangeable, but you can remove items and add new items.**"
      ],
      "metadata": {
        "id": "VUR__vSatDgA"
      }
    },
    {
      "cell_type": "code",
      "source": [
        "thisset = {\"apple\", \"banana\", \"cherry\"}\n",
        "print(thisset)"
      ],
      "metadata": {
        "colab": {
          "base_uri": "https://localhost:8080/"
        },
        "id": "ifRln-wfrd-0",
        "outputId": "33d564ee-bc4d-48a1-bfa1-0b5053619b89"
      },
      "execution_count": null,
      "outputs": [
        {
          "output_type": "stream",
          "name": "stdout",
          "text": [
            "{'banana', 'apple', 'cherry'}\n"
          ]
        }
      ]
    },
    {
      "cell_type": "markdown",
      "source": [
        "* Set items are unordered, unchangeable, and do not allow duplicate values.\n",
        "\n",
        "* Unordered means that the items in a set do not have a defined order.\n",
        "\n",
        "* Set items can appear in a different order every time you use them, and cannot be referred to by index or key.\n",
        "\n",
        "* Set items are unchangeable, meaning that we cannot change the items after the set has been created."
      ],
      "metadata": {
        "id": "BPcJllBstai5"
      }
    },
    {
      "cell_type": "markdown",
      "source": [
        "**Once a set is created, you cannot change its items, but you can remove items and add new items.**\n",
        "\n"
      ],
      "metadata": {
        "id": "AE9mDCmTuHQq"
      }
    },
    {
      "cell_type": "markdown",
      "source": [
        "**Duplicates Not Allowed**\n",
        "Sets cannot have two items with the same value."
      ],
      "metadata": {
        "id": "YUslnHhEuMFe"
      }
    },
    {
      "cell_type": "code",
      "source": [
        "thisset = {\"apple\", \"banana\", \"cherry\", \"apple\"}\n",
        "\n",
        "print(thisset)"
      ],
      "metadata": {
        "colab": {
          "base_uri": "https://localhost:8080/"
        },
        "id": "WbWx1df7tU1p",
        "outputId": "84a71b92-bac4-4ad0-9bf6-2537cf5b730d"
      },
      "execution_count": null,
      "outputs": [
        {
          "output_type": "stream",
          "name": "stdout",
          "text": [
            "{'banana', 'apple', 'cherry'}\n"
          ]
        }
      ]
    },
    {
      "cell_type": "markdown",
      "source": [
        "**Note: The values True and 1 are considered the same value in sets, and are treated as duplicates:**\n",
        "\n"
      ],
      "metadata": {
        "id": "xD2op64Au4_B"
      }
    },
    {
      "cell_type": "code",
      "source": [
        "thisset = {\"apple\", \"banana\", \"cherry\", True, 1, 2}\n",
        "\n",
        "print(thisset)"
      ],
      "metadata": {
        "colab": {
          "base_uri": "https://localhost:8080/"
        },
        "id": "QHfvpwiguQL0",
        "outputId": "f10a7d5d-1cb6-4cad-f74d-f2f99afc2984"
      },
      "execution_count": null,
      "outputs": [
        {
          "output_type": "stream",
          "name": "stdout",
          "text": [
            "{True, 2, 'apple', 'cherry', 'banana'}\n"
          ]
        }
      ]
    },
    {
      "cell_type": "markdown",
      "source": [
        "**The Length of a Set**"
      ],
      "metadata": {
        "id": "oFdODtu-vszf"
      }
    },
    {
      "cell_type": "code",
      "source": [
        "thisset = {\"apple\", \"banana\", \"cherry\"}\n",
        "\n",
        "print(len(thisset))"
      ],
      "metadata": {
        "colab": {
          "base_uri": "https://localhost:8080/"
        },
        "id": "ycDWuB1AuyVN",
        "outputId": "4449292c-31cd-40dd-b1f2-93da0cb5f081"
      },
      "execution_count": null,
      "outputs": [
        {
          "output_type": "stream",
          "name": "stdout",
          "text": [
            "3\n"
          ]
        }
      ]
    },
    {
      "cell_type": "markdown",
      "source": [
        "**Set Items - Data Types**"
      ],
      "metadata": {
        "id": "WSfcYB6wv8y2"
      }
    },
    {
      "cell_type": "code",
      "source": [
        "set1 = {\"apple\", \"banana\", \"cherry\"}\n",
        "set2 = {1, 5, 7, 9, 3}\n",
        "set3 = {True, False, False}\n",
        "set4= {\"abc\", 34, True, 40, \"male\"}"
      ],
      "metadata": {
        "id": "SW6-zG3Xv3Dr"
      },
      "execution_count": null,
      "outputs": []
    },
    {
      "cell_type": "markdown",
      "source": [
        "**type()**"
      ],
      "metadata": {
        "id": "8YesWrcSwpw0"
      }
    },
    {
      "cell_type": "code",
      "source": [
        "myset = {\"apple\", \"banana\", \"cherry\"}\n",
        "print(type(myset))"
      ],
      "metadata": {
        "colab": {
          "base_uri": "https://localhost:8080/"
        },
        "id": "-t4z0c1QwCl_",
        "outputId": "0e83ad17-da18-4c91-a435-a019539a8d6c"
      },
      "execution_count": null,
      "outputs": [
        {
          "output_type": "stream",
          "name": "stdout",
          "text": [
            "<class 'set'>\n"
          ]
        }
      ]
    },
    {
      "cell_type": "markdown",
      "source": [
        "**The set() Constructor**"
      ],
      "metadata": {
        "id": "TzpGjoVZw3hE"
      }
    },
    {
      "cell_type": "code",
      "source": [
        "thisset = set((\"apple\", \"banana\", \"cherry\")) # note the double round-brackets\n",
        "print(thisset)"
      ],
      "metadata": {
        "id": "PHAcLS7Jwtvq"
      },
      "execution_count": null,
      "outputs": []
    },
    {
      "cell_type": "markdown",
      "source": [
        "**Access Items**\n",
        "You cannot access items in a set by referring to an index or a key.\n",
        "\n",
        "But you can loop through the set items using a for loop, or ask if a specified value is present in a set, by using the in keyword."
      ],
      "metadata": {
        "id": "2GczUX-BxJkd"
      }
    },
    {
      "cell_type": "code",
      "source": [
        "thisset = {\"apple\", \"banana\", \"cherry\"}\n",
        "\n",
        "for x in thisset:\n",
        "  print(x)"
      ],
      "metadata": {
        "colab": {
          "base_uri": "https://localhost:8080/"
        },
        "id": "3MskJ1tkxSG1",
        "outputId": "b6847919-c44f-4347-b9f9-e88bfa585be5"
      },
      "execution_count": null,
      "outputs": [
        {
          "output_type": "stream",
          "name": "stdout",
          "text": [
            "banana\n",
            "apple\n",
            "cherry\n"
          ]
        }
      ]
    },
    {
      "cell_type": "markdown",
      "source": [
        "Check if \"banana\" is present in the set:\n",
        "\n"
      ],
      "metadata": {
        "id": "X--wyUwtxeJY"
      }
    },
    {
      "cell_type": "code",
      "source": [
        "thisset = {\"apple\", \"banana\", \"cherry\"}\n",
        "\n",
        "print(\"banana\" in thisset)"
      ],
      "metadata": {
        "colab": {
          "base_uri": "https://localhost:8080/"
        },
        "id": "kaXzsbJtxWhZ",
        "outputId": "d14b1c08-9054-44ae-ad11-74633153a1e2"
      },
      "execution_count": null,
      "outputs": [
        {
          "output_type": "stream",
          "name": "stdout",
          "text": [
            "True\n"
          ]
        }
      ]
    },
    {
      "cell_type": "markdown",
      "source": [
        "**Add Items**\n"
      ],
      "metadata": {
        "id": "2x2HKXRKxsDR"
      }
    },
    {
      "cell_type": "code",
      "source": [
        "thisset = {\"apple\", \"banana\", \"cherry\"}\n",
        "\n",
        "thisset.add(\"orange\")\n",
        "\n",
        "print(thisset)"
      ],
      "metadata": {
        "id": "gppIeJk3xkUH"
      },
      "execution_count": null,
      "outputs": []
    },
    {
      "cell_type": "markdown",
      "source": [
        "**Add Sets**\n",
        "To add items from another set into the current set, use the update() method."
      ],
      "metadata": {
        "id": "_QsSgML2x7kD"
      }
    },
    {
      "cell_type": "code",
      "source": [
        "#Add elements from tropical into thisset:\n",
        "\n",
        "thisset = {\"apple\", \"banana\", \"cherry\"}\n",
        "tropical = {\"pineapple\", \"mango\", \"papaya\"}\n",
        "\n",
        "thisset.update(tropical)\n",
        "\n",
        "print(thisset)"
      ],
      "metadata": {
        "colab": {
          "base_uri": "https://localhost:8080/"
        },
        "id": "kMzmNsPNyAkq",
        "outputId": "16d95bc9-3505-42ed-fbf6-7ee342817a88"
      },
      "execution_count": null,
      "outputs": [
        {
          "output_type": "stream",
          "name": "stdout",
          "text": [
            "{'apple', 'cherry', 'papaya', 'pineapple', 'banana', 'mango'}\n"
          ]
        }
      ]
    },
    {
      "cell_type": "markdown",
      "source": [
        "**Add Any Iterable** The object in the update() method does not have to be a set, it can be any iterable object (tuples, lists, dictionaries etc.)."
      ],
      "metadata": {
        "id": "SnyBS7ApyQq0"
      }
    },
    {
      "cell_type": "code",
      "source": [
        "thisset = {\"apple\", \"banana\", \"cherry\"}\n",
        "mylist = [\"kiwi\", \"orange\"]\n",
        "\n",
        "thisset.update(mylist)\n",
        "\n",
        "print(thisset)"
      ],
      "metadata": {
        "colab": {
          "base_uri": "https://localhost:8080/"
        },
        "id": "ru4_gX1HyGEy",
        "outputId": "28862935-23c7-4510-d785-c4b1b476e3a9"
      },
      "execution_count": null,
      "outputs": [
        {
          "output_type": "stream",
          "name": "stdout",
          "text": [
            "{'apple', 'kiwi', 'cherry', 'banana', 'orange'}\n"
          ]
        }
      ]
    },
    {
      "cell_type": "markdown",
      "source": [
        "**Remove Item**\n",
        "To remove an item in a set, use the remove(), or the discard() method."
      ],
      "metadata": {
        "id": "nyiEmvnSyoPD"
      }
    },
    {
      "cell_type": "code",
      "source": [
        "#Remove \"banana\" by using the remove() method:\n",
        "thisset = {\"apple\", \"banana\", \"cherry\"}\n",
        "\n",
        "thisset.remove(\"banana\")\n",
        "\n",
        "print(thisset)"
      ],
      "metadata": {
        "colab": {
          "base_uri": "https://localhost:8080/"
        },
        "id": "OjdjKShxydv6",
        "outputId": "5334371b-8145-42c2-b012-1e936ec07350"
      },
      "execution_count": null,
      "outputs": [
        {
          "output_type": "stream",
          "name": "stdout",
          "text": [
            "{'apple', 'cherry'}\n"
          ]
        }
      ]
    },
    {
      "cell_type": "markdown",
      "source": [
        "**Note: If the item to remove does not exist, discard() will NOT raise an error.**"
      ],
      "metadata": {
        "id": "a3W-AEDPzKSo"
      }
    },
    {
      "cell_type": "code",
      "source": [
        "#Remove \"banana\" by using the discard() method:\n",
        "thisset = {\"apple\", \"banana\", \"cherry\"}\n",
        "\n",
        "thisset.discard(\"banana\")\n",
        "\n",
        "print(thisset)"
      ],
      "metadata": {
        "colab": {
          "base_uri": "https://localhost:8080/"
        },
        "id": "uV5bCWlCys7W",
        "outputId": "19ea740a-16e5-4502-d4bb-fd4c42de7875"
      },
      "execution_count": null,
      "outputs": [
        {
          "output_type": "stream",
          "name": "stdout",
          "text": [
            "{'apple', 'cherry'}\n"
          ]
        }
      ]
    },
    {
      "cell_type": "markdown",
      "source": [
        "You can also use the pop() method to remove an item, but this method will remove a random item, so you cannot be sure what item that gets removed.\n",
        "\n",
        "The return value of the pop() method is the removed item."
      ],
      "metadata": {
        "id": "xO0xOyWvzb7C"
      }
    },
    {
      "cell_type": "code",
      "source": [
        "#Remove a random item by using the pop() method:\n",
        "thisset = {\"apple\", \"banana\", \"cherry\"}\n",
        "\n",
        "x = thisset.pop()\n",
        "\n",
        "print(x)\n",
        "\n",
        "print(thisset)"
      ],
      "metadata": {
        "colab": {
          "base_uri": "https://localhost:8080/"
        },
        "id": "a0CCmG75yxlP",
        "outputId": "12c725e1-7c30-4b95-f199-26241d560ffe"
      },
      "execution_count": null,
      "outputs": [
        {
          "output_type": "stream",
          "name": "stdout",
          "text": [
            "banana\n",
            "{'apple', 'cherry'}\n"
          ]
        }
      ]
    },
    {
      "cell_type": "markdown",
      "source": [
        "**Loop Sets**"
      ],
      "metadata": {
        "id": "G3wOLpVLzhOe"
      }
    },
    {
      "cell_type": "code",
      "source": [
        "#Loop through the set, and print the values:\n",
        "\n",
        "thisset = {\"apple\", \"banana\", \"cherry\"}\n",
        "\n",
        "for x in thisset:\n",
        "  print(x)"
      ],
      "metadata": {
        "colab": {
          "base_uri": "https://localhost:8080/"
        },
        "id": "kk9dOwb2zULu",
        "outputId": "c0259b08-2ce2-4e4c-ba1d-5b1b5c1ed987"
      },
      "execution_count": null,
      "outputs": [
        {
          "output_type": "stream",
          "name": "stdout",
          "text": [
            "banana\n",
            "apple\n",
            "cherry\n"
          ]
        }
      ]
    },
    {
      "cell_type": "markdown",
      "source": [
        "**Join Two Sets**\n",
        "There are several ways to join two or more sets in Python.\n",
        "\n",
        "You can use the union() method that returns a new set containing all items from both sets, or the update() method that inserts all the items from one set into another:"
      ],
      "metadata": {
        "id": "WzauKrjszyzW"
      }
    },
    {
      "cell_type": "code",
      "source": [
        "#The union() method returns a new set with all items from both sets:\n",
        "\n",
        "set1 = {\"a\", \"b\" , \"c\"}\n",
        "set2 = {1, 2, 3}\n",
        "\n",
        "set3 = set1.union(set2)\n",
        "print(set3)"
      ],
      "metadata": {
        "colab": {
          "base_uri": "https://localhost:8080/"
        },
        "id": "3bCx9xltzo7J",
        "outputId": "130fef13-572c-48bc-b1e2-abd16e67f9cb"
      },
      "execution_count": null,
      "outputs": [
        {
          "output_type": "stream",
          "name": "stdout",
          "text": [
            "{'a', 1, 2, 3, 'c', 'b'}\n"
          ]
        }
      ]
    },
    {
      "cell_type": "code",
      "source": [
        "#The update() method inserts the items in set2 into set1:\n",
        "\n",
        "set1 = {\"a\", \"b\" , \"c\"}\n",
        "set2 = {1, 2, 3}\n",
        "\n",
        "set1.update(set2)\n",
        "print(set1)"
      ],
      "metadata": {
        "colab": {
          "base_uri": "https://localhost:8080/"
        },
        "id": "6FpaeTWwzv8j",
        "outputId": "62715040-3580-44de-9ef7-626ae8dc6049"
      },
      "execution_count": null,
      "outputs": [
        {
          "output_type": "stream",
          "name": "stdout",
          "text": [
            "{'a', 1, 2, 3, 'c', 'b'}\n"
          ]
        }
      ]
    },
    {
      "cell_type": "markdown",
      "source": [
        "**Note: Both union() and update() will exclude any duplicate items**"
      ],
      "metadata": {
        "id": "vkBUUsfW07-a"
      }
    },
    {
      "cell_type": "markdown",
      "source": [
        "**Keep ONLY the Duplicates**\n",
        "The intersection_update() method will keep only the items that are present in both sets."
      ],
      "metadata": {
        "id": "AM0KaAbi1HEA"
      }
    },
    {
      "cell_type": "code",
      "source": [
        "x = {\"apple\", \"banana\", \"cherry\"}\n",
        "y = {\"google\", \"microsoft\", \"apple\"}\n",
        "\n",
        "x.intersection_update(y)\n",
        "\n",
        "print(x)"
      ],
      "metadata": {
        "colab": {
          "base_uri": "https://localhost:8080/"
        },
        "id": "ahhvKKXO05Sa",
        "outputId": "4f58d95c-c5ee-49c4-961e-f9bdc562e221"
      },
      "execution_count": null,
      "outputs": [
        {
          "output_type": "stream",
          "name": "stdout",
          "text": [
            "{'apple'}\n"
          ]
        }
      ]
    },
    {
      "cell_type": "markdown",
      "source": [
        "The intersection() method will return a new set, that only contains the items that are present in both sets.\n",
        "\n"
      ],
      "metadata": {
        "id": "GgexkXhP1T2W"
      }
    },
    {
      "cell_type": "code",
      "source": [
        "x = {\"apple\", \"banana\", \"cherry\"}\n",
        "y = {\"google\", \"microsoft\", \"apple\"}\n",
        "\n",
        "z = x.intersection(y)\n",
        "\n",
        "print(z)"
      ],
      "metadata": {
        "colab": {
          "base_uri": "https://localhost:8080/"
        },
        "id": "XM7U0dIv1NvR",
        "outputId": "e8d60c5b-3ea2-43f2-bc22-7a962d028419"
      },
      "execution_count": null,
      "outputs": [
        {
          "output_type": "stream",
          "name": "stdout",
          "text": [
            "{'apple'}\n"
          ]
        }
      ]
    },
    {
      "cell_type": "markdown",
      "source": [
        "**Keep All, But NOT the Duplicates**\n",
        "The symmetric_difference_update() method will keep only the elements that are NOT present in both sets.\n",
        "\n"
      ],
      "metadata": {
        "id": "_33xUhaO1hz4"
      }
    },
    {
      "cell_type": "code",
      "source": [
        "x = {\"apple\", \"banana\", \"cherry\"}\n",
        "y = {\"google\", \"microsoft\", \"apple\"}\n",
        "\n",
        "x.symmetric_difference_update(y)\n",
        "\n",
        "print(x)"
      ],
      "metadata": {
        "colab": {
          "base_uri": "https://localhost:8080/"
        },
        "id": "RogN-gPQ1Zui",
        "outputId": "19c95c9f-b0f7-4882-844e-3c6f47cacd12"
      },
      "execution_count": null,
      "outputs": [
        {
          "output_type": "stream",
          "name": "stdout",
          "text": [
            "{'microsoft', 'banana', 'google', 'cherry'}\n"
          ]
        }
      ]
    },
    {
      "cell_type": "code",
      "source": [],
      "metadata": {
        "id": "DoPwxAJz1urv"
      },
      "execution_count": null,
      "outputs": []
    }
  ]
}